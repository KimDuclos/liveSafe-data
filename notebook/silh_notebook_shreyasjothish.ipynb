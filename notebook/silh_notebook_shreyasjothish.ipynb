{
  "nbformat": 4,
  "nbformat_minor": 0,
  "metadata": {
    "colab": {
      "name": "silh-notebook-shreyasjothish.ipynb",
      "version": "0.3.2",
      "provenance": [],
      "collapsed_sections": []
    },
    "kernelspec": {
      "name": "python3",
      "display_name": "Python 3"
    }
  },
  "cells": [
    {
      "metadata": {
        "id": "exfFLPcPc4YI",
        "colab_type": "code",
        "colab": {}
      },
      "cell_type": "code",
      "source": [
        "# Generic Imports\n",
        "import pandas as pd\n",
        "import numpy as np\n",
        "import matplotlib.pyplot as plt"
      ],
      "execution_count": 0,
      "outputs": []
    },
    {
      "metadata": {
        "id": "1GAmSIh2hgsM",
        "colab_type": "code",
        "outputId": "1c7e83e7-1554-43b5-d373-bb5ca3868b13",
        "colab": {
          "base_uri": "https://localhost:8080/",
          "height": 35
        }
      },
      "cell_type": "code",
      "source": [
        "# Data based on data.gov.FEMADeclarations.3.15.19\n",
        "femadf = pd.read_csv('fema_dataset.csv')\n",
        "femadf.shape"
      ],
      "execution_count": 2,
      "outputs": [
        {
          "output_type": "execute_result",
          "data": {
            "text/plain": [
              "(48555, 16)"
            ]
          },
          "metadata": {
            "tags": []
          },
          "execution_count": 2
        }
      ]
    },
    {
      "metadata": {
        "id": "a5Bs-Gt8hnH3",
        "colab_type": "code",
        "outputId": "e3705505-1617-480b-a60d-f3485d41f72d",
        "colab": {
          "base_uri": "https://localhost:8080/",
          "height": 690
        }
      },
      "cell_type": "code",
      "source": [
        "femadf.head()"
      ],
      "execution_count": 3,
      "outputs": [
        {
          "output_type": "execute_result",
          "data": {
            "text/html": [
              "<div>\n",
              "<style scoped>\n",
              "    .dataframe tbody tr th:only-of-type {\n",
              "        vertical-align: middle;\n",
              "    }\n",
              "\n",
              "    .dataframe tbody tr th {\n",
              "        vertical-align: top;\n",
              "    }\n",
              "\n",
              "    .dataframe thead th {\n",
              "        text-align: right;\n",
              "    }\n",
              "</style>\n",
              "<table border=\"1\" class=\"dataframe\">\n",
              "  <thead>\n",
              "    <tr style=\"text-align: right;\">\n",
              "      <th></th>\n",
              "      <th>Disaster Number</th>\n",
              "      <th>IH Program Declared</th>\n",
              "      <th>IA Program Declared</th>\n",
              "      <th>PA Program Declared</th>\n",
              "      <th>HM Program Declared</th>\n",
              "      <th>State</th>\n",
              "      <th>Declaration Date</th>\n",
              "      <th>Disaster Type</th>\n",
              "      <th>Incident Type</th>\n",
              "      <th>Title</th>\n",
              "      <th>Incident Begin Date</th>\n",
              "      <th>Incident End Date</th>\n",
              "      <th>Disaster Close Out Date</th>\n",
              "      <th>Place Code</th>\n",
              "      <th>Declared County/Area</th>\n",
              "      <th>Declaration Request Number</th>\n",
              "    </tr>\n",
              "  </thead>\n",
              "  <tbody>\n",
              "    <tr>\n",
              "      <th>0</th>\n",
              "      <td>4419</td>\n",
              "      <td>Yes</td>\n",
              "      <td>No</td>\n",
              "      <td>Yes</td>\n",
              "      <td>Yes</td>\n",
              "      <td>AL</td>\n",
              "      <td>3/5/2019</td>\n",
              "      <td>DR</td>\n",
              "      <td>Tornado</td>\n",
              "      <td>SEVERE STORMS, STRAIGHT-LINE WINDS, AND TORNADOES</td>\n",
              "      <td>3/3/2019</td>\n",
              "      <td>3/3/2019</td>\n",
              "      <td>NaN</td>\n",
              "      <td>99081.0</td>\n",
              "      <td>Lee (County)</td>\n",
              "      <td>19006</td>\n",
              "    </tr>\n",
              "    <tr>\n",
              "      <th>1</th>\n",
              "      <td>4418</td>\n",
              "      <td>No</td>\n",
              "      <td>No</td>\n",
              "      <td>Yes</td>\n",
              "      <td>Yes</td>\n",
              "      <td>WA</td>\n",
              "      <td>3/4/2019</td>\n",
              "      <td>DR</td>\n",
              "      <td>Severe Storm(s)</td>\n",
              "      <td>SEVERE WINTER STORMS, STRAIGHT-LINE WINDS, FLO...</td>\n",
              "      <td>12/10/2018</td>\n",
              "      <td>12/24/2018</td>\n",
              "      <td>NaN</td>\n",
              "      <td>99009.0</td>\n",
              "      <td>Clallam (County)</td>\n",
              "      <td>19005</td>\n",
              "    </tr>\n",
              "    <tr>\n",
              "      <th>2</th>\n",
              "      <td>4418</td>\n",
              "      <td>No</td>\n",
              "      <td>No</td>\n",
              "      <td>Yes</td>\n",
              "      <td>Yes</td>\n",
              "      <td>WA</td>\n",
              "      <td>3/4/2019</td>\n",
              "      <td>DR</td>\n",
              "      <td>Severe Storm(s)</td>\n",
              "      <td>SEVERE WINTER STORMS, STRAIGHT-LINE WINDS, FLO...</td>\n",
              "      <td>12/10/2018</td>\n",
              "      <td>12/24/2018</td>\n",
              "      <td>NaN</td>\n",
              "      <td>99027.0</td>\n",
              "      <td>Grays Harbor (County)</td>\n",
              "      <td>19005</td>\n",
              "    </tr>\n",
              "    <tr>\n",
              "      <th>3</th>\n",
              "      <td>4418</td>\n",
              "      <td>No</td>\n",
              "      <td>No</td>\n",
              "      <td>Yes</td>\n",
              "      <td>Yes</td>\n",
              "      <td>WA</td>\n",
              "      <td>3/4/2019</td>\n",
              "      <td>DR</td>\n",
              "      <td>Severe Storm(s)</td>\n",
              "      <td>SEVERE WINTER STORMS, STRAIGHT-LINE WINDS, FLO...</td>\n",
              "      <td>12/10/2018</td>\n",
              "      <td>12/24/2018</td>\n",
              "      <td>NaN</td>\n",
              "      <td>99029.0</td>\n",
              "      <td>Island (County)</td>\n",
              "      <td>19005</td>\n",
              "    </tr>\n",
              "    <tr>\n",
              "      <th>4</th>\n",
              "      <td>4418</td>\n",
              "      <td>No</td>\n",
              "      <td>No</td>\n",
              "      <td>Yes</td>\n",
              "      <td>Yes</td>\n",
              "      <td>WA</td>\n",
              "      <td>3/4/2019</td>\n",
              "      <td>DR</td>\n",
              "      <td>Severe Storm(s)</td>\n",
              "      <td>SEVERE WINTER STORMS, STRAIGHT-LINE WINDS, FLO...</td>\n",
              "      <td>12/10/2018</td>\n",
              "      <td>12/24/2018</td>\n",
              "      <td>NaN</td>\n",
              "      <td>99031.0</td>\n",
              "      <td>Jefferson (County)</td>\n",
              "      <td>19005</td>\n",
              "    </tr>\n",
              "  </tbody>\n",
              "</table>\n",
              "</div>"
            ],
            "text/plain": [
              "   Disaster Number IH Program Declared IA Program Declared  \\\n",
              "0             4419                 Yes                  No   \n",
              "1             4418                  No                  No   \n",
              "2             4418                  No                  No   \n",
              "3             4418                  No                  No   \n",
              "4             4418                  No                  No   \n",
              "\n",
              "  PA Program Declared HM Program Declared State  Declaration Date  \\\n",
              "0                 Yes                 Yes     AL         3/5/2019   \n",
              "1                 Yes                 Yes     WA         3/4/2019   \n",
              "2                 Yes                 Yes     WA         3/4/2019   \n",
              "3                 Yes                 Yes     WA         3/4/2019   \n",
              "4                 Yes                 Yes     WA         3/4/2019   \n",
              "\n",
              "  Disaster Type    Incident Type  \\\n",
              "0            DR          Tornado   \n",
              "1            DR  Severe Storm(s)   \n",
              "2            DR  Severe Storm(s)   \n",
              "3            DR  Severe Storm(s)   \n",
              "4            DR  Severe Storm(s)   \n",
              "\n",
              "                                               Title Incident Begin Date  \\\n",
              "0  SEVERE STORMS, STRAIGHT-LINE WINDS, AND TORNADOES            3/3/2019   \n",
              "1  SEVERE WINTER STORMS, STRAIGHT-LINE WINDS, FLO...          12/10/2018   \n",
              "2  SEVERE WINTER STORMS, STRAIGHT-LINE WINDS, FLO...          12/10/2018   \n",
              "3  SEVERE WINTER STORMS, STRAIGHT-LINE WINDS, FLO...          12/10/2018   \n",
              "4  SEVERE WINTER STORMS, STRAIGHT-LINE WINDS, FLO...          12/10/2018   \n",
              "\n",
              "  Incident End Date Disaster Close Out Date  Place Code  \\\n",
              "0          3/3/2019                     NaN     99081.0   \n",
              "1        12/24/2018                     NaN     99009.0   \n",
              "2        12/24/2018                     NaN     99027.0   \n",
              "3        12/24/2018                     NaN     99029.0   \n",
              "4        12/24/2018                     NaN     99031.0   \n",
              "\n",
              "    Declared County/Area  Declaration Request Number  \n",
              "0           Lee (County)                       19006  \n",
              "1       Clallam (County)                       19005  \n",
              "2  Grays Harbor (County)                       19005  \n",
              "3        Island (County)                       19005  \n",
              "4     Jefferson (County)                       19005  "
            ]
          },
          "metadata": {
            "tags": []
          },
          "execution_count": 3
        }
      ]
    },
    {
      "metadata": {
        "id": "aL10k286hoRO",
        "colab_type": "code",
        "outputId": "bcdff135-fa6b-45f0-d5dd-4323ad6518ca",
        "colab": {
          "base_uri": "https://localhost:8080/",
          "height": 312
        }
      },
      "cell_type": "code",
      "source": [
        "# Checking for NaNs\n",
        "femadf.isnull().sum()"
      ],
      "execution_count": 4,
      "outputs": [
        {
          "output_type": "execute_result",
          "data": {
            "text/plain": [
              "Disaster Number                  0\n",
              "IH Program Declared              0\n",
              "IA Program Declared              0\n",
              "PA Program Declared              0\n",
              "HM Program Declared              0\n",
              "State                            0\n",
              "Declaration Date                 0\n",
              "Disaster Type                    0\n",
              "Incident Type                    0\n",
              "Title                            0\n",
              "Incident Begin Date              0\n",
              "Incident End Date              339\n",
              "Disaster Close Out Date       9385\n",
              "Place Code                     197\n",
              "Declared County/Area           197\n",
              "Declaration Request Number       0\n",
              "dtype: int64"
            ]
          },
          "metadata": {
            "tags": []
          },
          "execution_count": 4
        }
      ]
    },
    {
      "metadata": {
        "id": "UPGn1agkhxmD",
        "colab_type": "code",
        "colab": {}
      },
      "cell_type": "code",
      "source": [
        "# Drop columns Incident End Date, Disaster Close Out Date to remove NaNs\n",
        "# 'Place Code' has location information but is not consistent.\n",
        "femadf.drop(columns=['Incident End Date', 'Disaster Close Out Date', \n",
        "                     'Place Code'], inplace=True)\n",
        "\n",
        "# Considering NaNs in Declared County/Area as Statewide\n",
        "femadf['Declared County/Area'].fillna('Statewide', inplace = True) "
      ],
      "execution_count": 0,
      "outputs": []
    },
    {
      "metadata": {
        "id": "K_LxD9Nmim9Q",
        "colab_type": "code",
        "outputId": "7eac34eb-09e0-42b2-e799-844d9ea37158",
        "colab": {
          "base_uri": "https://localhost:8080/",
          "height": 260
        }
      },
      "cell_type": "code",
      "source": [
        "# Rechecking if we have a clean data\n",
        "femadf.isnull().sum()"
      ],
      "execution_count": 6,
      "outputs": [
        {
          "output_type": "execute_result",
          "data": {
            "text/plain": [
              "Disaster Number               0\n",
              "IH Program Declared           0\n",
              "IA Program Declared           0\n",
              "PA Program Declared           0\n",
              "HM Program Declared           0\n",
              "State                         0\n",
              "Declaration Date              0\n",
              "Disaster Type                 0\n",
              "Incident Type                 0\n",
              "Title                         0\n",
              "Incident Begin Date           0\n",
              "Declared County/Area          0\n",
              "Declaration Request Number    0\n",
              "dtype: int64"
            ]
          },
          "metadata": {
            "tags": []
          },
          "execution_count": 6
        }
      ]
    },
    {
      "metadata": {
        "id": "d-q6iV3oipy-",
        "colab_type": "code",
        "outputId": "145699f6-a321-467b-e68a-de54cbbb68eb",
        "colab": {
          "base_uri": "https://localhost:8080/",
          "height": 35
        }
      },
      "cell_type": "code",
      "source": [
        "# Rechecking the shape\n",
        "femadf.shape"
      ],
      "execution_count": 7,
      "outputs": [
        {
          "output_type": "execute_result",
          "data": {
            "text/plain": [
              "(48555, 13)"
            ]
          },
          "metadata": {
            "tags": []
          },
          "execution_count": 7
        }
      ]
    },
    {
      "metadata": {
        "id": "GqyfhVv6oA1V",
        "colab_type": "code",
        "outputId": "06c2335b-21f5-40ee-af6e-6a8b35f017df",
        "colab": {
          "base_uri": "https://localhost:8080/",
          "height": 233
        }
      },
      "cell_type": "code",
      "source": [
        "# Load state to code dataset and update information in femadf\n",
        "statedf = pd.read_csv('states_code.csv', index_col=1)\n",
        "statedf.head()"
      ],
      "execution_count": 8,
      "outputs": [
        {
          "output_type": "execute_result",
          "data": {
            "text/html": [
              "<div>\n",
              "<style scoped>\n",
              "    .dataframe tbody tr th:only-of-type {\n",
              "        vertical-align: middle;\n",
              "    }\n",
              "\n",
              "    .dataframe tbody tr th {\n",
              "        vertical-align: top;\n",
              "    }\n",
              "\n",
              "    .dataframe thead th {\n",
              "        text-align: right;\n",
              "    }\n",
              "</style>\n",
              "<table border=\"1\" class=\"dataframe\">\n",
              "  <thead>\n",
              "    <tr style=\"text-align: right;\">\n",
              "      <th></th>\n",
              "      <th>State</th>\n",
              "    </tr>\n",
              "    <tr>\n",
              "      <th>Abbreviation</th>\n",
              "      <th></th>\n",
              "    </tr>\n",
              "  </thead>\n",
              "  <tbody>\n",
              "    <tr>\n",
              "      <th>AL</th>\n",
              "      <td>Alabama</td>\n",
              "    </tr>\n",
              "    <tr>\n",
              "      <th>AK</th>\n",
              "      <td>Alaska</td>\n",
              "    </tr>\n",
              "    <tr>\n",
              "      <th>AZ</th>\n",
              "      <td>Arizona</td>\n",
              "    </tr>\n",
              "    <tr>\n",
              "      <th>AR</th>\n",
              "      <td>Arkansas</td>\n",
              "    </tr>\n",
              "    <tr>\n",
              "      <th>CA</th>\n",
              "      <td>California</td>\n",
              "    </tr>\n",
              "  </tbody>\n",
              "</table>\n",
              "</div>"
            ],
            "text/plain": [
              "                   State\n",
              "Abbreviation            \n",
              "AL               Alabama\n",
              "AK                Alaska\n",
              "AZ               Arizona\n",
              "AR              Arkansas\n",
              "CA            California"
            ]
          },
          "metadata": {
            "tags": []
          },
          "execution_count": 8
        }
      ]
    },
    {
      "metadata": {
        "id": "2qA_9Jb-SyF_",
        "colab_type": "code",
        "colab": {}
      },
      "cell_type": "code",
      "source": [
        "# Get State name from Abbreviation\n",
        "def getstatename(col):\n",
        "  return statedf.loc[col]['State']"
      ],
      "execution_count": 0,
      "outputs": []
    },
    {
      "metadata": {
        "id": "x6Cn2EEHlYLQ",
        "colab_type": "code",
        "colab": {}
      },
      "cell_type": "code",
      "source": [
        "# Rename State column to StateCode\n",
        "femadf.rename(columns={'State ':'StateCode'}, inplace=True)\n",
        "\n",
        "# Update a new column state to match StateCode\n",
        "femadf['State'] = \\\n",
        "  femadf['StateCode'].apply(getstatename)"
      ],
      "execution_count": 0,
      "outputs": []
    },
    {
      "metadata": {
        "id": "y1pqJegEUaWd",
        "colab_type": "code",
        "outputId": "1a0bd70e-d8d3-46ed-fd66-9ec6e57513cb",
        "colab": {
          "base_uri": "https://localhost:8080/",
          "height": 121
        }
      },
      "cell_type": "code",
      "source": [
        "femadf['Incident Type'].unique()"
      ],
      "execution_count": 11,
      "outputs": [
        {
          "output_type": "execute_result",
          "data": {
            "text/plain": [
              "array(['Tornado', 'Severe Storm(s)', 'Flood', 'Hurricane', 'Earthquake',\n",
              "       'Fire', 'Typhoon', 'Snow', 'Coastal Storm', 'Volcano',\n",
              "       'Mud/Landslide', 'Severe Ice Storm', 'Dam/Levee Break',\n",
              "       'Toxic Substances', 'Chemical', 'Other', 'Terrorist', 'Freezing',\n",
              "       'Tsunami', 'Drought', 'Human Cause', 'Fishing Losses'],\n",
              "      dtype=object)"
            ]
          },
          "metadata": {
            "tags": []
          },
          "execution_count": 11
        }
      ]
    },
    {
      "metadata": {
        "id": "SiyCP-e4i990",
        "colab_type": "code",
        "outputId": "c2478345-03df-4c34-dda5-16e7cb693af0",
        "colab": {
          "base_uri": "https://localhost:8080/",
          "height": 309
        }
      },
      "cell_type": "code",
      "source": [
        "# Load county data\n",
        "url = 'https://raw.githubusercontent.com/1wheel/whitehouse-petitions/master/Gaz_counties_national.txt'\n",
        "countydf = pd.read_csv(url, sep='\\t', encoding='ISO-8859-1')\n",
        "\n",
        "# Replace special characters.\n",
        "countydf.NAME = countydf.NAME.apply(lambda x: x.replace('á', 'a'))\n",
        "countydf.NAME = countydf.NAME.apply(lambda x: x.replace('í', 'i'))\n",
        "countydf.NAME = countydf.NAME.apply(lambda x: x.replace('ñ', 'n'))\n",
        "countydf.NAME = countydf.NAME.apply(lambda x: x.replace('ó', 'o'))\n",
        "countydf.NAME = countydf.NAME.apply(lambda x: x.replace('ü', 'u'))\n",
        "\n",
        "countydf.head()"
      ],
      "execution_count": 12,
      "outputs": [
        {
          "output_type": "execute_result",
          "data": {
            "text/html": [
              "<div>\n",
              "<style scoped>\n",
              "    .dataframe tbody tr th:only-of-type {\n",
              "        vertical-align: middle;\n",
              "    }\n",
              "\n",
              "    .dataframe tbody tr th {\n",
              "        vertical-align: top;\n",
              "    }\n",
              "\n",
              "    .dataframe thead th {\n",
              "        text-align: right;\n",
              "    }\n",
              "</style>\n",
              "<table border=\"1\" class=\"dataframe\">\n",
              "  <thead>\n",
              "    <tr style=\"text-align: right;\">\n",
              "      <th></th>\n",
              "      <th>USPS</th>\n",
              "      <th>GEOID</th>\n",
              "      <th>ANSICODE</th>\n",
              "      <th>NAME</th>\n",
              "      <th>POP10</th>\n",
              "      <th>HU10</th>\n",
              "      <th>ALAND</th>\n",
              "      <th>AWATER</th>\n",
              "      <th>ALAND_SQMI</th>\n",
              "      <th>AWATER_SQMI</th>\n",
              "      <th>INTPTLAT</th>\n",
              "      <th>INTPTLONG</th>\n",
              "    </tr>\n",
              "  </thead>\n",
              "  <tbody>\n",
              "    <tr>\n",
              "      <th>0</th>\n",
              "      <td>AL</td>\n",
              "      <td>1001</td>\n",
              "      <td>161526</td>\n",
              "      <td>Autauga County</td>\n",
              "      <td>54571</td>\n",
              "      <td>22135</td>\n",
              "      <td>1539582278</td>\n",
              "      <td>25775735</td>\n",
              "      <td>594.436</td>\n",
              "      <td>9.952</td>\n",
              "      <td>32.536382</td>\n",
              "      <td>-86.644490</td>\n",
              "    </tr>\n",
              "    <tr>\n",
              "      <th>1</th>\n",
              "      <td>AL</td>\n",
              "      <td>1003</td>\n",
              "      <td>161527</td>\n",
              "      <td>Baldwin County</td>\n",
              "      <td>182265</td>\n",
              "      <td>104061</td>\n",
              "      <td>4117521611</td>\n",
              "      <td>1133190229</td>\n",
              "      <td>1589.784</td>\n",
              "      <td>437.527</td>\n",
              "      <td>30.659218</td>\n",
              "      <td>-87.746067</td>\n",
              "    </tr>\n",
              "    <tr>\n",
              "      <th>2</th>\n",
              "      <td>AL</td>\n",
              "      <td>1005</td>\n",
              "      <td>161528</td>\n",
              "      <td>Barbour County</td>\n",
              "      <td>27457</td>\n",
              "      <td>11829</td>\n",
              "      <td>2291818968</td>\n",
              "      <td>50864716</td>\n",
              "      <td>884.876</td>\n",
              "      <td>19.639</td>\n",
              "      <td>31.870670</td>\n",
              "      <td>-85.405456</td>\n",
              "    </tr>\n",
              "    <tr>\n",
              "      <th>3</th>\n",
              "      <td>AL</td>\n",
              "      <td>1007</td>\n",
              "      <td>161529</td>\n",
              "      <td>Bibb County</td>\n",
              "      <td>22915</td>\n",
              "      <td>8981</td>\n",
              "      <td>1612480789</td>\n",
              "      <td>9289057</td>\n",
              "      <td>622.582</td>\n",
              "      <td>3.587</td>\n",
              "      <td>33.015893</td>\n",
              "      <td>-87.127148</td>\n",
              "    </tr>\n",
              "    <tr>\n",
              "      <th>4</th>\n",
              "      <td>AL</td>\n",
              "      <td>1009</td>\n",
              "      <td>161530</td>\n",
              "      <td>Blount County</td>\n",
              "      <td>57322</td>\n",
              "      <td>23887</td>\n",
              "      <td>1669961855</td>\n",
              "      <td>15157440</td>\n",
              "      <td>644.776</td>\n",
              "      <td>5.852</td>\n",
              "      <td>33.977448</td>\n",
              "      <td>-86.567246</td>\n",
              "    </tr>\n",
              "  </tbody>\n",
              "</table>\n",
              "</div>"
            ],
            "text/plain": [
              "  USPS  GEOID  ANSICODE            NAME   POP10    HU10       ALAND  \\\n",
              "0   AL   1001    161526  Autauga County   54571   22135  1539582278   \n",
              "1   AL   1003    161527  Baldwin County  182265  104061  4117521611   \n",
              "2   AL   1005    161528  Barbour County   27457   11829  2291818968   \n",
              "3   AL   1007    161529     Bibb County   22915    8981  1612480789   \n",
              "4   AL   1009    161530   Blount County   57322   23887  1669961855   \n",
              "\n",
              "       AWATER  ALAND_SQMI  AWATER_SQMI   INTPTLAT  \\\n",
              "0    25775735     594.436        9.952  32.536382   \n",
              "1  1133190229    1589.784      437.527  30.659218   \n",
              "2    50864716     884.876       19.639  31.870670   \n",
              "3     9289057     622.582        3.587  33.015893   \n",
              "4    15157440     644.776        5.852  33.977448   \n",
              "\n",
              "   INTPTLONG                                                                                                      \n",
              "0                                         -86.644490                                                              \n",
              "1                                         -87.746067                                                              \n",
              "2                                         -85.405456                                                              \n",
              "3                                         -87.127148                                                              \n",
              "4                                         -86.567246                                                              "
            ]
          },
          "metadata": {
            "tags": []
          },
          "execution_count": 12
        }
      ]
    },
    {
      "metadata": {
        "id": "TS5nd9FbmUQ6",
        "colab_type": "code",
        "colab": {}
      },
      "cell_type": "code",
      "source": [
        "# matching index of fema_dataset\n",
        "def updatecountyinfo(row):\n",
        "  statecode = row['StateCode']\n",
        "  county = row['Declared County/Area']\n",
        "  \n",
        "  if county == 'Statewide':\n",
        "    return county\n",
        "    \n",
        "  series = countydf[countydf['USPS'] == statecode]['NAME']\n",
        "  county_words_split = county.split(\" \")\n",
        "  search_string = county_words_split[0]\n",
        "  output = series[series.str.startswith(search_string, na=False)]\n",
        "  \n",
        "  if output.shape[0] == 1:\n",
        "    return output.iloc[0]\n",
        "  \n",
        "  # Check for two words\n",
        "  if len(county_words_split) > 1:\n",
        "    search_string = county.split(\" \")[0] + \" \" + county.split(\" \")[1]\n",
        "    output = series[series.str.startswith(search_string, na=False)]\n",
        "    \n",
        "    if output.shape[0] == 1:\n",
        "      return output.iloc[0]\n",
        "    elif output.shape[0] > 1:\n",
        "      # More than one selection so choosing 1st.\n",
        "      return output.iloc[0]\n",
        "    else:\n",
        "      return None\n",
        "    \n",
        "  if output.shape[0] > 1:\n",
        "    # More than one selection so choosing 1st.\n",
        "    return output.iloc[0]\n",
        "\n",
        "  return None"
      ],
      "execution_count": 0,
      "outputs": []
    },
    {
      "metadata": {
        "id": "6ALR_897q7ON",
        "colab_type": "code",
        "colab": {}
      },
      "cell_type": "code",
      "source": [
        "femadf['Updated County Info'] = femadf.apply(updatecountyinfo, axis=1)"
      ],
      "execution_count": 0,
      "outputs": []
    },
    {
      "metadata": {
        "id": "ut5mSGJqD-LU",
        "colab_type": "code",
        "outputId": "10cd15a5-fc65-481f-b5da-53ee88ace8d8",
        "colab": {
          "base_uri": "https://localhost:8080/",
          "height": 355
        }
      },
      "cell_type": "code",
      "source": [
        "sample = femadf.sample(10)\n",
        "sample.loc[:,['StateCode','Declared County/Area','State','Updated County Info']]"
      ],
      "execution_count": 15,
      "outputs": [
        {
          "output_type": "execute_result",
          "data": {
            "text/html": [
              "<div>\n",
              "<style scoped>\n",
              "    .dataframe tbody tr th:only-of-type {\n",
              "        vertical-align: middle;\n",
              "    }\n",
              "\n",
              "    .dataframe tbody tr th {\n",
              "        vertical-align: top;\n",
              "    }\n",
              "\n",
              "    .dataframe thead th {\n",
              "        text-align: right;\n",
              "    }\n",
              "</style>\n",
              "<table border=\"1\" class=\"dataframe\">\n",
              "  <thead>\n",
              "    <tr style=\"text-align: right;\">\n",
              "      <th></th>\n",
              "      <th>StateCode</th>\n",
              "      <th>Declared County/Area</th>\n",
              "      <th>State</th>\n",
              "      <th>Updated County Info</th>\n",
              "    </tr>\n",
              "  </thead>\n",
              "  <tbody>\n",
              "    <tr>\n",
              "      <th>43634</th>\n",
              "      <td>ND</td>\n",
              "      <td>McLean (County)</td>\n",
              "      <td>North Dakota</td>\n",
              "      <td>McLean County</td>\n",
              "    </tr>\n",
              "    <tr>\n",
              "      <th>39858</th>\n",
              "      <td>KS</td>\n",
              "      <td>Wilson (County)</td>\n",
              "      <td>Kansas</td>\n",
              "      <td>Wilson County</td>\n",
              "    </tr>\n",
              "    <tr>\n",
              "      <th>19863</th>\n",
              "      <td>KY</td>\n",
              "      <td>Nicholas (County)</td>\n",
              "      <td>Kentucky</td>\n",
              "      <td>Nicholas County</td>\n",
              "    </tr>\n",
              "    <tr>\n",
              "      <th>34311</th>\n",
              "      <td>NC</td>\n",
              "      <td>Swain (County)</td>\n",
              "      <td>North Carolina</td>\n",
              "      <td>Swain County</td>\n",
              "    </tr>\n",
              "    <tr>\n",
              "      <th>10001</th>\n",
              "      <td>MA</td>\n",
              "      <td>Norfolk (County)(in PMSA 1120,1200,6060)</td>\n",
              "      <td>Massachusetts</td>\n",
              "      <td>Norfolk County</td>\n",
              "    </tr>\n",
              "    <tr>\n",
              "      <th>28015</th>\n",
              "      <td>OK</td>\n",
              "      <td>Rogers (County)</td>\n",
              "      <td>Oklahoma</td>\n",
              "      <td>Rogers County</td>\n",
              "    </tr>\n",
              "    <tr>\n",
              "      <th>33629</th>\n",
              "      <td>NC</td>\n",
              "      <td>Guilford (County)</td>\n",
              "      <td>North Carolina</td>\n",
              "      <td>Guilford County</td>\n",
              "    </tr>\n",
              "    <tr>\n",
              "      <th>32385</th>\n",
              "      <td>ND</td>\n",
              "      <td>Wells (County)</td>\n",
              "      <td>North Dakota</td>\n",
              "      <td>Wells County</td>\n",
              "    </tr>\n",
              "    <tr>\n",
              "      <th>14556</th>\n",
              "      <td>MO</td>\n",
              "      <td>Miller (County)</td>\n",
              "      <td>Missouri</td>\n",
              "      <td>Miller County</td>\n",
              "    </tr>\n",
              "    <tr>\n",
              "      <th>35112</th>\n",
              "      <td>CA</td>\n",
              "      <td>Sierra (County)</td>\n",
              "      <td>California</td>\n",
              "      <td>Sierra County</td>\n",
              "    </tr>\n",
              "  </tbody>\n",
              "</table>\n",
              "</div>"
            ],
            "text/plain": [
              "      StateCode                      Declared County/Area           State  \\\n",
              "43634        ND                           McLean (County)    North Dakota   \n",
              "39858        KS                           Wilson (County)          Kansas   \n",
              "19863        KY                         Nicholas (County)        Kentucky   \n",
              "34311        NC                            Swain (County)  North Carolina   \n",
              "10001        MA  Norfolk (County)(in PMSA 1120,1200,6060)   Massachusetts   \n",
              "28015        OK                           Rogers (County)        Oklahoma   \n",
              "33629        NC                         Guilford (County)  North Carolina   \n",
              "32385        ND                            Wells (County)    North Dakota   \n",
              "14556        MO                           Miller (County)        Missouri   \n",
              "35112        CA                           Sierra (County)      California   \n",
              "\n",
              "      Updated County Info  \n",
              "43634       McLean County  \n",
              "39858       Wilson County  \n",
              "19863     Nicholas County  \n",
              "34311        Swain County  \n",
              "10001      Norfolk County  \n",
              "28015       Rogers County  \n",
              "33629     Guilford County  \n",
              "32385        Wells County  \n",
              "14556       Miller County  \n",
              "35112       Sierra County  "
            ]
          },
          "metadata": {
            "tags": []
          },
          "execution_count": 15
        }
      ]
    },
    {
      "metadata": {
        "id": "KpEeoIbKpMLm",
        "colab_type": "code",
        "colab": {
          "base_uri": "https://localhost:8080/",
          "height": 295
        },
        "outputId": "8ea29190-8d38-4505-89e0-8d19c0744e66"
      },
      "cell_type": "code",
      "source": [
        "femadf.isnull().sum()"
      ],
      "execution_count": 16,
      "outputs": [
        {
          "output_type": "execute_result",
          "data": {
            "text/plain": [
              "Disaster Number                  0\n",
              "IH Program Declared              0\n",
              "IA Program Declared              0\n",
              "PA Program Declared              0\n",
              "HM Program Declared              0\n",
              "StateCode                        0\n",
              "Declaration Date                 0\n",
              "Disaster Type                    0\n",
              "Incident Type                    0\n",
              "Title                            0\n",
              "Incident Begin Date              0\n",
              "Declared County/Area             0\n",
              "Declaration Request Number       0\n",
              "State                            0\n",
              "Updated County Info           1005\n",
              "dtype: int64"
            ]
          },
          "metadata": {
            "tags": []
          },
          "execution_count": 16
        }
      ]
    },
    {
      "metadata": {
        "id": "NAcVu4IVq_Rh",
        "colab_type": "code",
        "colab": {
          "base_uri": "https://localhost:8080/",
          "height": 35
        },
        "outputId": "7af5483d-5fc4-4190-c775-d68e051e4459"
      },
      "cell_type": "code",
      "source": [
        "femadf.shape"
      ],
      "execution_count": 17,
      "outputs": [
        {
          "output_type": "execute_result",
          "data": {
            "text/plain": [
              "(48555, 15)"
            ]
          },
          "metadata": {
            "tags": []
          },
          "execution_count": 17
        }
      ]
    },
    {
      "metadata": {
        "id": "XzkiDySyqy_h",
        "colab_type": "code",
        "colab": {
          "base_uri": "https://localhost:8080/",
          "height": 35
        },
        "outputId": "8d0b5249-6b94-4469-eaec-f84db97bbb79"
      },
      "cell_type": "code",
      "source": [
        "# Dropping rows which has no mapped County names.\n",
        "femadf.dropna(inplace=True)\n",
        "femadf.shape"
      ],
      "execution_count": 18,
      "outputs": [
        {
          "output_type": "execute_result",
          "data": {
            "text/plain": [
              "(47550, 15)"
            ]
          },
          "metadata": {
            "tags": []
          },
          "execution_count": 18
        }
      ]
    },
    {
      "metadata": {
        "id": "HO_pF1CFrRoU",
        "colab_type": "code",
        "colab": {}
      },
      "cell_type": "code",
      "source": [
        "# Fetch County FIPS Code\n",
        "def getcountycode(row):\n",
        "  statecode = row['StateCode']\n",
        "  county = row['Updated County Info']\n",
        "  \n",
        "  series = countydf[(countydf['USPS'] == statecode) & (countydf['NAME'] == county)]\n",
        "  output = series['GEOID']\n",
        "  \n",
        "  if output.shape[0] == 1:\n",
        "    return int(output.iloc[0])\n",
        "    \n",
        "  # Handling Statewide county code\n",
        "  series = countydf[(countydf['USPS'] == statecode)]\n",
        "  output = series['GEOID']\n",
        "    \n",
        "  if output.shape[0] < 1:\n",
        "    return None\n",
        "  \n",
        "  stateFIPScode = output.iloc[0] // 1000\n",
        "  \n",
        "  return stateFIPScode * 1000\n",
        " "
      ],
      "execution_count": 0,
      "outputs": []
    },
    {
      "metadata": {
        "id": "2EiBYV3qrwSS",
        "colab_type": "code",
        "colab": {}
      },
      "cell_type": "code",
      "source": [
        "femadf['County FIPS Code'] = femadf.apply(getcountycode, axis=1)"
      ],
      "execution_count": 0,
      "outputs": []
    },
    {
      "metadata": {
        "id": "wUXLbVaG8oDS",
        "colab_type": "code",
        "colab": {
          "base_uri": "https://localhost:8080/",
          "height": 312
        },
        "outputId": "97f1baef-d70f-4590-efa3-e052e35f040f"
      },
      "cell_type": "code",
      "source": [
        "femadf.isnull().sum()"
      ],
      "execution_count": 21,
      "outputs": [
        {
          "output_type": "execute_result",
          "data": {
            "text/plain": [
              "Disaster Number                0\n",
              "IH Program Declared            0\n",
              "IA Program Declared            0\n",
              "PA Program Declared            0\n",
              "HM Program Declared            0\n",
              "StateCode                      0\n",
              "Declaration Date               0\n",
              "Disaster Type                  0\n",
              "Incident Type                  0\n",
              "Title                          0\n",
              "Incident Begin Date            0\n",
              "Declared County/Area           0\n",
              "Declaration Request Number     0\n",
              "State                          0\n",
              "Updated County Info            0\n",
              "County FIPS Code              10\n",
              "dtype: int64"
            ]
          },
          "metadata": {
            "tags": []
          },
          "execution_count": 21
        }
      ]
    },
    {
      "metadata": {
        "id": "Zb539bdb8ryt",
        "colab_type": "code",
        "colab": {
          "base_uri": "https://localhost:8080/",
          "height": 35
        },
        "outputId": "687199d3-6345-4e33-c6a9-29d903565eea"
      },
      "cell_type": "code",
      "source": [
        "femadf.shape"
      ],
      "execution_count": 22,
      "outputs": [
        {
          "output_type": "execute_result",
          "data": {
            "text/plain": [
              "(47550, 16)"
            ]
          },
          "metadata": {
            "tags": []
          },
          "execution_count": 22
        }
      ]
    },
    {
      "metadata": {
        "id": "YoAKQWai8uYI",
        "colab_type": "code",
        "colab": {
          "base_uri": "https://localhost:8080/",
          "height": 35
        },
        "outputId": "8f02c8a5-e285-4054-be1a-271a0541ba5f"
      },
      "cell_type": "code",
      "source": [
        "# Dropping rows which has no mapped County names.\n",
        "femadf.dropna(inplace=True)\n",
        "femadf.shape"
      ],
      "execution_count": 23,
      "outputs": [
        {
          "output_type": "execute_result",
          "data": {
            "text/plain": [
              "(47540, 16)"
            ]
          },
          "metadata": {
            "tags": []
          },
          "execution_count": 23
        }
      ]
    },
    {
      "metadata": {
        "id": "VTMIZbPt-9dj",
        "colab_type": "code",
        "colab": {
          "base_uri": "https://localhost:8080/",
          "height": 312
        },
        "outputId": "61883f08-4cc3-471f-b9a8-03079265ae2f"
      },
      "cell_type": "code",
      "source": [
        "femadf['County FIPS Code'] = femadf['County FIPS Code'].astype(int)"
      ],
      "execution_count": 26,
      "outputs": [
        {
          "output_type": "execute_result",
          "data": {
            "text/plain": [
              "Disaster Number                int64\n",
              "IH Program Declared           object\n",
              "IA Program Declared           object\n",
              "PA Program Declared           object\n",
              "HM Program Declared           object\n",
              "StateCode                     object\n",
              "Declaration Date              object\n",
              "Disaster Type                 object\n",
              "Incident Type                 object\n",
              "Title                         object\n",
              "Incident Begin Date           object\n",
              "Declared County/Area          object\n",
              "Declaration Request Number     int64\n",
              "State                         object\n",
              "Updated County Info           object\n",
              "County FIPS Code               int64\n",
              "dtype: object"
            ]
          },
          "metadata": {
            "tags": []
          },
          "execution_count": 26
        }
      ]
    }
  ]
}