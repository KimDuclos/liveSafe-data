{
 "cells": [
  {
   "cell_type": "code",
   "execution_count": 10,
   "metadata": {},
   "outputs": [],
   "source": [
    "import geopandas\n",
    "df = geopandas.read_file('Datasets/UScounties/')\n",
    "for col in ['STATE_FIPS', 'CNTY_FIPS', 'FIPS']:\n",
    "    df[col] = df[col].astype(int)\n",
    "\n",
    "df['risk1'] = df.STATE_FIPS/80\n",
    "df['risk2'] = df.CNTY_FIPS/900\n",
    "\n",
    "for col in ['STATE_FIPS', 'CNTY_FIPS', 'FIPS']:\n",
    "    df[col] = df[col].astype(int)\n",
    "\n",
    "df['risk1'] = df.STATE_FIPS/80\n",
    "df['risk2'] = df.CNTY_FIPS/900"
   ]
  },
  {
   "cell_type": "code",
   "execution_count": 11,
   "metadata": {},
   "outputs": [
    {
     "data": {
      "text/html": [
       "<div>\n",
       "<style scoped>\n",
       "    .dataframe tbody tr th:only-of-type {\n",
       "        vertical-align: middle;\n",
       "    }\n",
       "\n",
       "    .dataframe tbody tr th {\n",
       "        vertical-align: top;\n",
       "    }\n",
       "\n",
       "    .dataframe thead th {\n",
       "        text-align: right;\n",
       "    }\n",
       "</style>\n",
       "<table border=\"1\" class=\"dataframe\">\n",
       "  <thead>\n",
       "    <tr style=\"text-align: right;\">\n",
       "      <th></th>\n",
       "      <th>NAME</th>\n",
       "      <th>STATE_NAME</th>\n",
       "      <th>STATE_FIPS</th>\n",
       "      <th>CNTY_FIPS</th>\n",
       "      <th>FIPS</th>\n",
       "      <th>geometry</th>\n",
       "      <th>risk1</th>\n",
       "      <th>risk2</th>\n",
       "    </tr>\n",
       "  </thead>\n",
       "  <tbody>\n",
       "    <tr>\n",
       "      <th>2591</th>\n",
       "      <td>Glasscock</td>\n",
       "      <td>Texas</td>\n",
       "      <td>48</td>\n",
       "      <td>173</td>\n",
       "      <td>48173</td>\n",
       "      <td>POLYGON ((-101.2697554615226 31.65372479509431...</td>\n",
       "      <td>0.6000</td>\n",
       "      <td>0.192222</td>\n",
       "    </tr>\n",
       "    <tr>\n",
       "      <th>186</th>\n",
       "      <td>Columbia</td>\n",
       "      <td>Oregon</td>\n",
       "      <td>41</td>\n",
       "      <td>9</td>\n",
       "      <td>41009</td>\n",
       "      <td>POLYGON ((-122.9294616268764 45.71403180080559...</td>\n",
       "      <td>0.5125</td>\n",
       "      <td>0.010000</td>\n",
       "    </tr>\n",
       "  </tbody>\n",
       "</table>\n",
       "</div>"
      ],
      "text/plain": [
       "           NAME STATE_NAME  STATE_FIPS  CNTY_FIPS   FIPS  \\\n",
       "2591  Glasscock      Texas          48        173  48173   \n",
       "186    Columbia     Oregon          41          9  41009   \n",
       "\n",
       "                                               geometry   risk1     risk2  \n",
       "2591  POLYGON ((-101.2697554615226 31.65372479509431...  0.6000  0.192222  \n",
       "186   POLYGON ((-122.9294616268764 45.71403180080559...  0.5125  0.010000  "
      ]
     },
     "execution_count": 11,
     "metadata": {},
     "output_type": "execute_result"
    }
   ],
   "source": [
    "df.sample(2)"
   ]
  },
  {
   "cell_type": "code",
   "execution_count": 12,
   "metadata": {},
   "outputs": [],
   "source": [
    "df.to_file('counties2')"
   ]
  },
  {
   "cell_type": "code",
   "execution_count": null,
   "metadata": {},
   "outputs": [],
   "source": []
  }
 ],
 "metadata": {
  "kernelspec": {
   "display_name": "Python 3",
   "language": "python",
   "name": "python3"
  },
  "language_info": {
   "codemirror_mode": {
    "name": "ipython",
    "version": 3
   },
   "file_extension": ".py",
   "mimetype": "text/x-python",
   "name": "python",
   "nbconvert_exporter": "python",
   "pygments_lexer": "ipython3",
   "version": "3.7.3"
  }
 },
 "nbformat": 4,
 "nbformat_minor": 2
}
