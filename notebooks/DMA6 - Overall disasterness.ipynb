{
 "cells": [
  {
   "cell_type": "markdown",
   "metadata": {},
   "source": [
    "# Measures of overall disasterness\n",
    "We want to capture the fact that more intense storms (Fujita scale 5 tornadoes, richter scale 9 earthquakes) are worse than other events, and that deaths are worse than injuries and property damages.  While we provide all these data separately, this is our opportunity to combine them into a custom metric that illustrates just how dangerous it is to live somewhere.  We account for the different magnitudes of earthquakes and tornadoes, for which we have such data, but don't distinguish between the severity of other events.\n",
    "\n",
    "We recognize that the weights of these factors are chosen arbitrarily, but we think this still conveys more information than not combining these parameters at all, or than giving all sorts of natural disasters equal weight."
   ]
  },
  {
   "cell_type": "code",
   "execution_count": 1,
   "metadata": {},
   "outputs": [],
   "source": [
    "import pandas as pd\n",
    "import geopandas\n",
    "import matplotlib.pyplot as plt\n",
    "import numpy as np\n",
    "\n",
    "# Custom function for displaying the shape and head of a dataframe\n",
    "def display(df, n=5):\n",
    "    print(df.shape)\n",
    "    return df.head(n)"
   ]
  },
  {
   "cell_type": "markdown",
   "metadata": {},
   "source": [
    "# Get counties"
   ]
  },
  {
   "cell_type": "code",
   "execution_count": 50,
   "metadata": {},
   "outputs": [
    {
     "name": "stdout",
     "output_type": "stream",
     "text": [
      "(3141, 6)\n"
     ]
    },
    {
     "data": {
      "text/html": [
       "<div>\n",
       "<style scoped>\n",
       "    .dataframe tbody tr th:only-of-type {\n",
       "        vertical-align: middle;\n",
       "    }\n",
       "\n",
       "    .dataframe tbody tr th {\n",
       "        vertical-align: top;\n",
       "    }\n",
       "\n",
       "    .dataframe thead th {\n",
       "        text-align: right;\n",
       "    }\n",
       "</style>\n",
       "<table border=\"1\" class=\"dataframe\">\n",
       "  <thead>\n",
       "    <tr style=\"text-align: right;\">\n",
       "      <th></th>\n",
       "      <th>NAME</th>\n",
       "      <th>STATE_NAME</th>\n",
       "      <th>STATE_FIPS</th>\n",
       "      <th>CNTY_FIPS</th>\n",
       "      <th>FIPS</th>\n",
       "      <th>geometry</th>\n",
       "    </tr>\n",
       "  </thead>\n",
       "  <tbody>\n",
       "    <tr>\n",
       "      <th>0</th>\n",
       "      <td>Lake of the Woods</td>\n",
       "      <td>Minnesota</td>\n",
       "      <td>27</td>\n",
       "      <td>77</td>\n",
       "      <td>27077</td>\n",
       "      <td>POLYGON ((-95.34283127277658 48.546679319076, ...</td>\n",
       "    </tr>\n",
       "    <tr>\n",
       "      <th>1</th>\n",
       "      <td>Ferry</td>\n",
       "      <td>Washington</td>\n",
       "      <td>53</td>\n",
       "      <td>19</td>\n",
       "      <td>53019</td>\n",
       "      <td>POLYGON ((-118.8516288013387 47.94956368481996...</td>\n",
       "    </tr>\n",
       "    <tr>\n",
       "      <th>2</th>\n",
       "      <td>Stevens</td>\n",
       "      <td>Washington</td>\n",
       "      <td>53</td>\n",
       "      <td>65</td>\n",
       "      <td>53065</td>\n",
       "      <td>POLYGON ((-117.438831576286 48.04411548512263,...</td>\n",
       "    </tr>\n",
       "    <tr>\n",
       "      <th>3</th>\n",
       "      <td>Okanogan</td>\n",
       "      <td>Washington</td>\n",
       "      <td>53</td>\n",
       "      <td>47</td>\n",
       "      <td>53047</td>\n",
       "      <td>POLYGON ((-118.972093862835 47.93915200536639,...</td>\n",
       "    </tr>\n",
       "    <tr>\n",
       "      <th>4</th>\n",
       "      <td>Pend Oreille</td>\n",
       "      <td>Washington</td>\n",
       "      <td>53</td>\n",
       "      <td>51</td>\n",
       "      <td>53051</td>\n",
       "      <td>POLYGON ((-117.4385804303028 48.99991850672649...</td>\n",
       "    </tr>\n",
       "  </tbody>\n",
       "</table>\n",
       "</div>"
      ],
      "text/plain": [
       "                NAME  STATE_NAME  STATE_FIPS  CNTY_FIPS   FIPS  \\\n",
       "0  Lake of the Woods   Minnesota          27         77  27077   \n",
       "1              Ferry  Washington          53         19  53019   \n",
       "2            Stevens  Washington          53         65  53065   \n",
       "3           Okanogan  Washington          53         47  53047   \n",
       "4       Pend Oreille  Washington          53         51  53051   \n",
       "\n",
       "                                            geometry  \n",
       "0  POLYGON ((-95.34283127277658 48.546679319076, ...  \n",
       "1  POLYGON ((-118.8516288013387 47.94956368481996...  \n",
       "2  POLYGON ((-117.438831576286 48.04411548512263,...  \n",
       "3  POLYGON ((-118.972093862835 47.93915200536639,...  \n",
       "4  POLYGON ((-117.4385804303028 48.99991850672649...  "
      ]
     },
     "execution_count": 50,
     "metadata": {},
     "output_type": "execute_result"
    }
   ],
   "source": [
    "# Import a shape file with all the counties in the US.\n",
    "# Note how it doesn't include all the same territories as the \n",
    "# quake contour map.\n",
    "counties = geopandas.read_file('../data_input/1_USCounties/')\n",
    "\n",
    "# Turn state codes from strings to integers\n",
    "for col in ['STATE_FIPS', 'CNTY_FIPS', 'FIPS']:\n",
    "    counties[col] = counties[col].astype(int)\n",
    "    \n",
    "display(counties)"
   ]
  },
  {
   "cell_type": "markdown",
   "metadata": {},
   "source": [
    "# Get disaster data\n",
    "From other files that we've created"
   ]
  },
  {
   "cell_type": "code",
   "execution_count": 30,
   "metadata": {},
   "outputs": [
    {
     "name": "stdout",
     "output_type": "stream",
     "text": [
      "(30898, 3)\n"
     ]
    },
    {
     "data": {
      "text/html": [
       "<div>\n",
       "<style scoped>\n",
       "    .dataframe tbody tr th:only-of-type {\n",
       "        vertical-align: middle;\n",
       "    }\n",
       "\n",
       "    .dataframe tbody tr th {\n",
       "        vertical-align: top;\n",
       "    }\n",
       "\n",
       "    .dataframe thead th {\n",
       "        text-align: right;\n",
       "    }\n",
       "</style>\n",
       "<table border=\"1\" class=\"dataframe\">\n",
       "  <thead>\n",
       "    <tr style=\"text-align: right;\">\n",
       "      <th></th>\n",
       "      <th>year</th>\n",
       "      <th>intensity</th>\n",
       "      <th>geometry</th>\n",
       "    </tr>\n",
       "  </thead>\n",
       "  <tbody>\n",
       "    <tr>\n",
       "      <th>0</th>\n",
       "      <td>1996</td>\n",
       "      <td>1</td>\n",
       "      <td>POINT (-89.87 36.18)</td>\n",
       "    </tr>\n",
       "    <tr>\n",
       "      <th>1</th>\n",
       "      <td>1996</td>\n",
       "      <td>1</td>\n",
       "      <td>POINT (-90.97 34.55)</td>\n",
       "    </tr>\n",
       "    <tr>\n",
       "      <th>2</th>\n",
       "      <td>1996</td>\n",
       "      <td>1</td>\n",
       "      <td>POINT (-92.31999999999999 30.57)</td>\n",
       "    </tr>\n",
       "    <tr>\n",
       "      <th>3</th>\n",
       "      <td>1996</td>\n",
       "      <td>0</td>\n",
       "      <td>POINT (-86.97 40.5)</td>\n",
       "    </tr>\n",
       "    <tr>\n",
       "      <th>4</th>\n",
       "      <td>1996</td>\n",
       "      <td>2</td>\n",
       "      <td>POINT (-96.15000000000001 33.72)</td>\n",
       "    </tr>\n",
       "  </tbody>\n",
       "</table>\n",
       "</div>"
      ],
      "text/plain": [
       "   year  intensity                          geometry\n",
       "0  1996          1              POINT (-89.87 36.18)\n",
       "1  1996          1              POINT (-90.97 34.55)\n",
       "2  1996          1  POINT (-92.31999999999999 30.57)\n",
       "3  1996          0               POINT (-86.97 40.5)\n",
       "4  1996          2  POINT (-96.15000000000001 33.72)"
      ]
     },
     "execution_count": 30,
     "metadata": {},
     "output_type": "execute_result"
    }
   ],
   "source": [
    "tornadoes = geopandas.read_file('../data_output/5__NOAA/tornadoes.geojson')\n",
    "display(tornadoes)"
   ]
  },
  {
   "cell_type": "code",
   "execution_count": 31,
   "metadata": {},
   "outputs": [
    {
     "name": "stdout",
     "output_type": "stream",
     "text": [
      "(2547, 4)\n"
     ]
    },
    {
     "data": {
      "text/html": [
       "<div>\n",
       "<style scoped>\n",
       "    .dataframe tbody tr th:only-of-type {\n",
       "        vertical-align: middle;\n",
       "    }\n",
       "\n",
       "    .dataframe tbody tr th {\n",
       "        vertical-align: top;\n",
       "    }\n",
       "\n",
       "    .dataframe thead th {\n",
       "        text-align: right;\n",
       "    }\n",
       "</style>\n",
       "<table border=\"1\" class=\"dataframe\">\n",
       "  <thead>\n",
       "    <tr style=\"text-align: right;\">\n",
       "      <th></th>\n",
       "      <th>FIPS</th>\n",
       "      <th>year</th>\n",
       "      <th>magnitude</th>\n",
       "      <th>geometry</th>\n",
       "    </tr>\n",
       "  </thead>\n",
       "  <tbody>\n",
       "    <tr>\n",
       "      <th>0</th>\n",
       "      <td>6029</td>\n",
       "      <td>1996</td>\n",
       "      <td>5.17</td>\n",
       "      <td>POINT (-117.646 35.761)</td>\n",
       "    </tr>\n",
       "    <tr>\n",
       "      <th>1</th>\n",
       "      <td>6071</td>\n",
       "      <td>1996</td>\n",
       "      <td>4.16</td>\n",
       "      <td>POINT (-117.62 35.755)</td>\n",
       "    </tr>\n",
       "    <tr>\n",
       "      <th>2</th>\n",
       "      <td>6071</td>\n",
       "      <td>1996</td>\n",
       "      <td>4.36</td>\n",
       "      <td>POINT (-117.636 35.779)</td>\n",
       "    </tr>\n",
       "    <tr>\n",
       "      <th>3</th>\n",
       "      <td>6071</td>\n",
       "      <td>1996</td>\n",
       "      <td>4.24</td>\n",
       "      <td>POINT (-117.632 35.799)</td>\n",
       "    </tr>\n",
       "    <tr>\n",
       "      <th>4</th>\n",
       "      <td>6071</td>\n",
       "      <td>1996</td>\n",
       "      <td>4.19</td>\n",
       "      <td>POINT (-116.943 34.994)</td>\n",
       "    </tr>\n",
       "  </tbody>\n",
       "</table>\n",
       "</div>"
      ],
      "text/plain": [
       "   FIPS  year  magnitude                 geometry\n",
       "0  6029  1996       5.17  POINT (-117.646 35.761)\n",
       "1  6071  1996       4.16   POINT (-117.62 35.755)\n",
       "2  6071  1996       4.36  POINT (-117.636 35.779)\n",
       "3  6071  1996       4.24  POINT (-117.632 35.799)\n",
       "4  6071  1996       4.19  POINT (-116.943 34.994)"
      ]
     },
     "execution_count": 31,
     "metadata": {},
     "output_type": "execute_result"
    }
   ],
   "source": [
    "quakes = geopandas.read_file('../data_output/5__USGS_quakes/quakes1.geojson')\n",
    "display(quakes)"
   ]
  },
  {
   "cell_type": "code",
   "execution_count": 49,
   "metadata": {},
   "outputs": [
    {
     "name": "stdout",
     "output_type": "stream",
     "text": [
      "(3141, 4)\n"
     ]
    },
    {
     "data": {
      "text/html": [
       "<div>\n",
       "<style scoped>\n",
       "    .dataframe tbody tr th:only-of-type {\n",
       "        vertical-align: middle;\n",
       "    }\n",
       "\n",
       "    .dataframe tbody tr th {\n",
       "        vertical-align: top;\n",
       "    }\n",
       "\n",
       "    .dataframe thead th {\n",
       "        text-align: right;\n",
       "    }\n",
       "</style>\n",
       "<table border=\"1\" class=\"dataframe\">\n",
       "  <thead>\n",
       "    <tr style=\"text-align: right;\">\n",
       "      <th></th>\n",
       "      <th>FIPS</th>\n",
       "      <th>damage</th>\n",
       "      <th>deaths</th>\n",
       "      <th>injuries</th>\n",
       "    </tr>\n",
       "  </thead>\n",
       "  <tbody>\n",
       "    <tr>\n",
       "      <th>0</th>\n",
       "      <td>1001</td>\n",
       "      <td>26788100.0</td>\n",
       "      <td>7.0</td>\n",
       "      <td>96.0</td>\n",
       "    </tr>\n",
       "    <tr>\n",
       "      <th>1</th>\n",
       "      <td>1003</td>\n",
       "      <td>54686000.0</td>\n",
       "      <td>29.0</td>\n",
       "      <td>57.0</td>\n",
       "    </tr>\n",
       "    <tr>\n",
       "      <th>2</th>\n",
       "      <td>1005</td>\n",
       "      <td>2594000.0</td>\n",
       "      <td>0.0</td>\n",
       "      <td>17.0</td>\n",
       "    </tr>\n",
       "    <tr>\n",
       "      <th>3</th>\n",
       "      <td>1007</td>\n",
       "      <td>16973750.0</td>\n",
       "      <td>1.0</td>\n",
       "      <td>20.0</td>\n",
       "    </tr>\n",
       "    <tr>\n",
       "      <th>4</th>\n",
       "      <td>1009</td>\n",
       "      <td>33177500.0</td>\n",
       "      <td>1.0</td>\n",
       "      <td>59.0</td>\n",
       "    </tr>\n",
       "  </tbody>\n",
       "</table>\n",
       "</div>"
      ],
      "text/plain": [
       "   FIPS      damage  deaths  injuries\n",
       "0  1001  26788100.0     7.0      96.0\n",
       "1  1003  54686000.0    29.0      57.0\n",
       "2  1005   2594000.0     0.0      17.0\n",
       "3  1007  16973750.0     1.0      20.0\n",
       "4  1009  33177500.0     1.0      59.0"
      ]
     },
     "execution_count": 49,
     "metadata": {},
     "output_type": "execute_result"
    }
   ],
   "source": [
    "damages = pd.read_csv('../data_output/5__NOAA/damages_by_county.csv')\n",
    "display(damages)"
   ]
  },
  {
   "cell_type": "code",
   "execution_count": 88,
   "metadata": {},
   "outputs": [],
   "source": [
    "# Other NOAA extreme weather events\n",
    "noaa = pd.read_csv('../data_output/6__danger/noaa_plus_quakes.csv')\\\n",
    "\n",
    "# Aggregate by FIPS, keep only useful columns\n",
    "noaa = noaa.groupby('FIPS').sum()[['Winter Weather','Storm','Flood','Fire','Heat',\n",
    "                 'Drought','Hurricane']]\n",
    "\n",
    "# Sum over all storm types\n",
    "noaa['total_storms'] = noaa.sum(axis=1)\n",
    "\n",
    "# Drop individual storm data\n",
    "noaa = noaa.drop(columns=['Winter Weather','Storm','Flood','Fire','Heat',\n",
    "                 'Drought','Hurricane'])"
   ]
  },
  {
   "cell_type": "code",
   "execution_count": 89,
   "metadata": {},
   "outputs": [
    {
     "name": "stdout",
     "output_type": "stream",
     "text": [
      "(3141, 1)\n"
     ]
    },
    {
     "data": {
      "text/html": [
       "<div>\n",
       "<style scoped>\n",
       "    .dataframe tbody tr th:only-of-type {\n",
       "        vertical-align: middle;\n",
       "    }\n",
       "\n",
       "    .dataframe tbody tr th {\n",
       "        vertical-align: top;\n",
       "    }\n",
       "\n",
       "    .dataframe thead th {\n",
       "        text-align: right;\n",
       "    }\n",
       "</style>\n",
       "<table border=\"1\" class=\"dataframe\">\n",
       "  <thead>\n",
       "    <tr style=\"text-align: right;\">\n",
       "      <th></th>\n",
       "      <th>total_storms</th>\n",
       "    </tr>\n",
       "    <tr>\n",
       "      <th>FIPS</th>\n",
       "      <th></th>\n",
       "    </tr>\n",
       "  </thead>\n",
       "  <tbody>\n",
       "    <tr>\n",
       "      <th>1001</th>\n",
       "      <td>311</td>\n",
       "    </tr>\n",
       "    <tr>\n",
       "      <th>1003</th>\n",
       "      <td>427</td>\n",
       "    </tr>\n",
       "    <tr>\n",
       "      <th>1005</th>\n",
       "      <td>191</td>\n",
       "    </tr>\n",
       "    <tr>\n",
       "      <th>1007</th>\n",
       "      <td>205</td>\n",
       "    </tr>\n",
       "    <tr>\n",
       "      <th>1009</th>\n",
       "      <td>415</td>\n",
       "    </tr>\n",
       "  </tbody>\n",
       "</table>\n",
       "</div>"
      ],
      "text/plain": [
       "      total_storms\n",
       "FIPS              \n",
       "1001           311\n",
       "1003           427\n",
       "1005           191\n",
       "1007           205\n",
       "1009           415"
      ]
     },
     "execution_count": 89,
     "metadata": {},
     "output_type": "execute_result"
    }
   ],
   "source": [
    "display(noaa)"
   ]
  },
  {
   "cell_type": "markdown",
   "metadata": {},
   "source": [
    "# Aggregate into a single dataframe"
   ]
  },
  {
   "cell_type": "code",
   "execution_count": 93,
   "metadata": {},
   "outputs": [],
   "source": [
    "# Create dataframes that aggregates all earthquakes by county, \n",
    "# simply adding up their magnitudes.\n",
    "quakes2 = quakes[['FIPS', 'magnitude']].groupby('FIPS').sum()\\\n",
    "                                .rename(columns={'magnitude':'quake_magnitude'})\n",
    "\n",
    "# Merge quakes with counties to create a new dataframe called 'danger'.\n",
    "danger = pd.merge(counties, quakes2, how='left', on='FIPS')\\\n",
    "                                                .fillna(0)\n",
    "\n",
    "# Mark all tornadoes with the county where they happened\n",
    "tornadoes2 = geopandas.sjoin(tornadoes, counties, how='left', op='within')\n",
    "\n",
    "# Single out only relevant columns, and group by county \n",
    "# (again, adding up magnitudes)\n",
    "tornadoes2 = tornadoes2[['intensity','FIPS']]\\\n",
    "                    .groupby('FIPS').sum()\\\n",
    "                    .rename(columns={'intensity':'tornado_intensity'})\n",
    "\n",
    "# Merge tornadoes2 into danger\n",
    "danger = pd.merge(danger, tornadoes2, how='left', on='FIPS')\\\n",
    "                                                .fillna(0)\n",
    "\n",
    "# Merge damages into danger\n",
    "danger = pd.merge(danger, damages, how='left', on='FIPS')\n",
    "\n",
    "# Merge storms into danger\n",
    "danger = pd.merge(danger, noaa, how='left', on='FIPS')\n",
    "\n",
    "# Drop useless columns\n",
    "danger = danger.drop(columns=['NAME', 'STATE_NAME', 'STATE_FIPS', 'CNTY_FIPS'])"
   ]
  },
  {
   "cell_type": "code",
   "execution_count": 95,
   "metadata": {},
   "outputs": [
    {
     "name": "stdout",
     "output_type": "stream",
     "text": [
      "(3141, 8)\n"
     ]
    },
    {
     "data": {
      "text/html": [
       "<div>\n",
       "<style scoped>\n",
       "    .dataframe tbody tr th:only-of-type {\n",
       "        vertical-align: middle;\n",
       "    }\n",
       "\n",
       "    .dataframe tbody tr th {\n",
       "        vertical-align: top;\n",
       "    }\n",
       "\n",
       "    .dataframe thead th {\n",
       "        text-align: right;\n",
       "    }\n",
       "</style>\n",
       "<table border=\"1\" class=\"dataframe\">\n",
       "  <thead>\n",
       "    <tr style=\"text-align: right;\">\n",
       "      <th></th>\n",
       "      <th>FIPS</th>\n",
       "      <th>geometry</th>\n",
       "      <th>quake_magnitude</th>\n",
       "      <th>tornado_intensity</th>\n",
       "      <th>damage</th>\n",
       "      <th>deaths</th>\n",
       "      <th>injuries</th>\n",
       "      <th>total_storms</th>\n",
       "    </tr>\n",
       "  </thead>\n",
       "  <tbody>\n",
       "    <tr>\n",
       "      <th>0</th>\n",
       "      <td>27077</td>\n",
       "      <td>POLYGON ((-95.34283127277658 48.546679319076, ...</td>\n",
       "      <td>0.00</td>\n",
       "      <td>3.0</td>\n",
       "      <td>2730200.0</td>\n",
       "      <td>0.000000</td>\n",
       "      <td>4.000000</td>\n",
       "      <td>294</td>\n",
       "    </tr>\n",
       "    <tr>\n",
       "      <th>1</th>\n",
       "      <td>53019</td>\n",
       "      <td>POLYGON ((-118.8516288013387 47.94956368481996...</td>\n",
       "      <td>0.00</td>\n",
       "      <td>0.0</td>\n",
       "      <td>24320500.0</td>\n",
       "      <td>0.000000</td>\n",
       "      <td>0.000000</td>\n",
       "      <td>251</td>\n",
       "    </tr>\n",
       "    <tr>\n",
       "      <th>2</th>\n",
       "      <td>53065</td>\n",
       "      <td>POLYGON ((-117.438831576286 48.04411548512263,...</td>\n",
       "      <td>0.00</td>\n",
       "      <td>2.0</td>\n",
       "      <td>5495500.0</td>\n",
       "      <td>2.666667</td>\n",
       "      <td>10.666667</td>\n",
       "      <td>507</td>\n",
       "    </tr>\n",
       "    <tr>\n",
       "      <th>3</th>\n",
       "      <td>53047</td>\n",
       "      <td>POLYGON ((-118.972093862835 47.93915200536639,...</td>\n",
       "      <td>13.35</td>\n",
       "      <td>0.0</td>\n",
       "      <td>392974160.0</td>\n",
       "      <td>15.800000</td>\n",
       "      <td>26.400000</td>\n",
       "      <td>987</td>\n",
       "    </tr>\n",
       "    <tr>\n",
       "      <th>4</th>\n",
       "      <td>53051</td>\n",
       "      <td>POLYGON ((-117.4385804303028 48.99991850672649...</td>\n",
       "      <td>0.00</td>\n",
       "      <td>0.0</td>\n",
       "      <td>11105000.0</td>\n",
       "      <td>4.666667</td>\n",
       "      <td>13.666667</td>\n",
       "      <td>504</td>\n",
       "    </tr>\n",
       "  </tbody>\n",
       "</table>\n",
       "</div>"
      ],
      "text/plain": [
       "    FIPS                                           geometry  quake_magnitude  \\\n",
       "0  27077  POLYGON ((-95.34283127277658 48.546679319076, ...             0.00   \n",
       "1  53019  POLYGON ((-118.8516288013387 47.94956368481996...             0.00   \n",
       "2  53065  POLYGON ((-117.438831576286 48.04411548512263,...             0.00   \n",
       "3  53047  POLYGON ((-118.972093862835 47.93915200536639,...            13.35   \n",
       "4  53051  POLYGON ((-117.4385804303028 48.99991850672649...             0.00   \n",
       "\n",
       "   tornado_intensity       damage     deaths   injuries  total_storms  \n",
       "0                3.0    2730200.0   0.000000   4.000000           294  \n",
       "1                0.0   24320500.0   0.000000   0.000000           251  \n",
       "2                2.0    5495500.0   2.666667  10.666667           507  \n",
       "3                0.0  392974160.0  15.800000  26.400000           987  \n",
       "4                0.0   11105000.0   4.666667  13.666667           504  "
      ]
     },
     "execution_count": 95,
     "metadata": {},
     "output_type": "execute_result"
    }
   ],
   "source": [
    "display(danger)"
   ]
  },
  {
   "cell_type": "markdown",
   "metadata": {},
   "source": [
    "# Create measures of danger\n",
    "I'll account separately for sheer events and overall costs.  \n",
    "\n",
    "For events, I'll sum storms as they are and use a lgarithmic measure for tornadoes and quakes (such that the number used increases exponentially with the registered magnitudes and intensities).  \n",
    "\n",
    "For damages, I'll turn everything into dollars.  I'll turn deaths into dollars using the [statistical value of a human life in the USA](https://en.wikipedia.org/wiki/Value_of_life#United_States)\n",
    ", which I approximate as 9 million dollars.  I'll turn injuries into dollars by assuming that an injury costs on average 1 year of quality-adjusted life, which is commonly set at 50,000 dollars."
   ]
  },
  {
   "cell_type": "code",
   "execution_count": 166,
   "metadata": {},
   "outputs": [],
   "source": [
    "# Create unified measure of cost\n",
    "danger['overall_cost'] = danger.damage + danger.deaths*9000000 + danger.injuries*50000\n",
    "\n",
    "# Create logarithmic measure of cost\n",
    "danger['log_cost'] = np.log10(danger['overall_cost']+1)\n",
    "\n",
    "# Create unified measure of storminess\n",
    "danger['storminess'] = np.log10(danger.total_storms + danger.quake_magnitude*100 + danger.tornado_intensity*100 +1)\n",
    "\n",
    "# Create unified measure of badness\n",
    "danger['badness'] = danger['log_cost'] + danger['storminess']"
   ]
  },
  {
   "cell_type": "code",
   "execution_count": 163,
   "metadata": {},
   "outputs": [
    {
     "data": {
      "text/html": [
       "<div>\n",
       "<style scoped>\n",
       "    .dataframe tbody tr th:only-of-type {\n",
       "        vertical-align: middle;\n",
       "    }\n",
       "\n",
       "    .dataframe tbody tr th {\n",
       "        vertical-align: top;\n",
       "    }\n",
       "\n",
       "    .dataframe thead th {\n",
       "        text-align: right;\n",
       "    }\n",
       "</style>\n",
       "<table border=\"1\" class=\"dataframe\">\n",
       "  <thead>\n",
       "    <tr style=\"text-align: right;\">\n",
       "      <th></th>\n",
       "      <th>FIPS</th>\n",
       "      <th>quake_magnitude</th>\n",
       "      <th>tornado_intensity</th>\n",
       "      <th>damage</th>\n",
       "      <th>deaths</th>\n",
       "      <th>injuries</th>\n",
       "      <th>total_storms</th>\n",
       "      <th>overall_cost</th>\n",
       "      <th>storminess</th>\n",
       "      <th>log_cost</th>\n",
       "    </tr>\n",
       "  </thead>\n",
       "  <tbody>\n",
       "    <tr>\n",
       "      <th>count</th>\n",
       "      <td>3141.000000</td>\n",
       "      <td>3141.000000</td>\n",
       "      <td>3141.000000</td>\n",
       "      <td>3.141000e+03</td>\n",
       "      <td>3141.000000</td>\n",
       "      <td>3141.000000</td>\n",
       "      <td>3141.000000</td>\n",
       "      <td>3.141000e+03</td>\n",
       "      <td>3141.000000</td>\n",
       "      <td>3141.000000</td>\n",
       "    </tr>\n",
       "    <tr>\n",
       "      <th>mean</th>\n",
       "      <td>30408.396689</td>\n",
       "      <td>3.550417</td>\n",
       "      <td>5.812798</td>\n",
       "      <td>2.034677e+08</td>\n",
       "      <td>7.453359</td>\n",
       "      <td>39.092327</td>\n",
       "      <td>415.276982</td>\n",
       "      <td>2.725026e+08</td>\n",
       "      <td>2.912322</td>\n",
       "      <td>7.611571</td>\n",
       "    </tr>\n",
       "    <tr>\n",
       "      <th>std</th>\n",
       "      <td>15152.777343</td>\n",
       "      <td>38.328319</td>\n",
       "      <td>7.111799</td>\n",
       "      <td>1.511654e+09</td>\n",
       "      <td>41.118556</td>\n",
       "      <td>206.035201</td>\n",
       "      <td>308.300273</td>\n",
       "      <td>1.724839e+09</td>\n",
       "      <td>0.381956</td>\n",
       "      <td>0.843337</td>\n",
       "    </tr>\n",
       "    <tr>\n",
       "      <th>min</th>\n",
       "      <td>1001.000000</td>\n",
       "      <td>0.000000</td>\n",
       "      <td>0.000000</td>\n",
       "      <td>0.000000e+00</td>\n",
       "      <td>0.000000</td>\n",
       "      <td>0.000000</td>\n",
       "      <td>0.000000</td>\n",
       "      <td>0.000000e+00</td>\n",
       "      <td>0.000000</td>\n",
       "      <td>0.000000</td>\n",
       "    </tr>\n",
       "    <tr>\n",
       "      <th>25%</th>\n",
       "      <td>18181.000000</td>\n",
       "      <td>0.000000</td>\n",
       "      <td>1.000000</td>\n",
       "      <td>4.915000e+06</td>\n",
       "      <td>0.000000</td>\n",
       "      <td>2.000000</td>\n",
       "      <td>236.000000</td>\n",
       "      <td>1.828550e+07</td>\n",
       "      <td>2.689309</td>\n",
       "      <td>7.262107</td>\n",
       "    </tr>\n",
       "    <tr>\n",
       "      <th>50%</th>\n",
       "      <td>29179.000000</td>\n",
       "      <td>0.000000</td>\n",
       "      <td>4.000000</td>\n",
       "      <td>1.657350e+07</td>\n",
       "      <td>2.000000</td>\n",
       "      <td>7.000000</td>\n",
       "      <td>344.000000</td>\n",
       "      <td>4.723250e+07</td>\n",
       "      <td>2.919078</td>\n",
       "      <td>7.674241</td>\n",
       "    </tr>\n",
       "    <tr>\n",
       "      <th>75%</th>\n",
       "      <td>45083.000000</td>\n",
       "      <td>0.000000</td>\n",
       "      <td>8.000000</td>\n",
       "      <td>5.111200e+07</td>\n",
       "      <td>6.000000</td>\n",
       "      <td>23.000000</td>\n",
       "      <td>496.000000</td>\n",
       "      <td>1.188540e+08</td>\n",
       "      <td>3.140822</td>\n",
       "      <td>8.075014</td>\n",
       "    </tr>\n",
       "    <tr>\n",
       "      <th>max</th>\n",
       "      <td>56045.000000</td>\n",
       "      <td>1082.900000</td>\n",
       "      <td>65.000000</td>\n",
       "      <td>4.321564e+10</td>\n",
       "      <td>1295.000000</td>\n",
       "      <td>5777.000000</td>\n",
       "      <td>4681.000000</td>\n",
       "      <td>5.488004e+10</td>\n",
       "      <td>5.035494</td>\n",
       "      <td>10.739414</td>\n",
       "    </tr>\n",
       "  </tbody>\n",
       "</table>\n",
       "</div>"
      ],
      "text/plain": [
       "               FIPS  quake_magnitude  tornado_intensity        damage  \\\n",
       "count   3141.000000      3141.000000        3141.000000  3.141000e+03   \n",
       "mean   30408.396689         3.550417           5.812798  2.034677e+08   \n",
       "std    15152.777343        38.328319           7.111799  1.511654e+09   \n",
       "min     1001.000000         0.000000           0.000000  0.000000e+00   \n",
       "25%    18181.000000         0.000000           1.000000  4.915000e+06   \n",
       "50%    29179.000000         0.000000           4.000000  1.657350e+07   \n",
       "75%    45083.000000         0.000000           8.000000  5.111200e+07   \n",
       "max    56045.000000      1082.900000          65.000000  4.321564e+10   \n",
       "\n",
       "            deaths     injuries  total_storms  overall_cost   storminess  \\\n",
       "count  3141.000000  3141.000000   3141.000000  3.141000e+03  3141.000000   \n",
       "mean      7.453359    39.092327    415.276982  2.725026e+08     2.912322   \n",
       "std      41.118556   206.035201    308.300273  1.724839e+09     0.381956   \n",
       "min       0.000000     0.000000      0.000000  0.000000e+00     0.000000   \n",
       "25%       0.000000     2.000000    236.000000  1.828550e+07     2.689309   \n",
       "50%       2.000000     7.000000    344.000000  4.723250e+07     2.919078   \n",
       "75%       6.000000    23.000000    496.000000  1.188540e+08     3.140822   \n",
       "max    1295.000000  5777.000000   4681.000000  5.488004e+10     5.035494   \n",
       "\n",
       "          log_cost  \n",
       "count  3141.000000  \n",
       "mean      7.611571  \n",
       "std       0.843337  \n",
       "min       0.000000  \n",
       "25%       7.262107  \n",
       "50%       7.674241  \n",
       "75%       8.075014  \n",
       "max      10.739414  "
      ]
     },
     "execution_count": 163,
     "metadata": {},
     "output_type": "execute_result"
    }
   ],
   "source": [
    "danger.describe()"
   ]
  },
  {
   "cell_type": "code",
   "execution_count": 165,
   "metadata": {},
   "outputs": [
    {
     "data": {
      "image/png": "[encoded data removed]",
      "text/plain": [
       "<Figure size 720x360 with 1 Axes>"
      ]
     },
     "metadata": {
      "needs_background": "light"
     },
     "output_type": "display_data"
    }
   ],
   "source": [
    "fig, ax = plt.subplots(figsize=(10,5))\n",
    "danger['storminess'].hist(ax=ax, bins=50);\n",
    "plt.show()"
   ]
  },
  {
   "cell_type": "code",
   "execution_count": 109,
   "metadata": {},
   "outputs": [
    {
     "data": {
      "image/png": "[encoded data removed]",
      "text/plain": [
       "<Figure size 720x360 with 1 Axes>"
      ]
     },
     "metadata": {
      "needs_background": "light"
     },
     "output_type": "display_data"
    }
   ],
   "source": [
    "fig, ax = plt.subplots(figsize=(10,5))\n",
    "danger['log_cost'].hist(ax=ax, bins=50);\n",
    "# ax.axvline(4, color='r')\n",
    "# ax.axvline(4, color='r')\n",
    "# ax.axvline(5, color='r')\n",
    "# ax.axvline(6, color='r')\n",
    "# ax.axvline(7, color='r')\n",
    "# ax.axvline(8, color='r')\n",
    "# ax.set_xlabel('Log(Number of incidents)')\n",
    "# ax.set_ylabel('Number of counties')\n",
    "plt.show()"
   ]
  },
  {
   "cell_type": "code",
   "execution_count": 167,
   "metadata": {},
   "outputs": [
    {
     "data": {
      "image/png": "[encoded data removed]",
      "text/plain": [
       "<Figure size 720x360 with 1 Axes>"
      ]
     },
     "metadata": {
      "needs_background": "light"
     },
     "output_type": "display_data"
    }
   ],
   "source": [
    "fig, ax = plt.subplots(figsize=(10,5))\n",
    "danger['badness'].hist(ax=ax, bins=50);\n",
    "plt.show()"
   ]
  },
  {
   "cell_type": "code",
   "execution_count": 168,
   "metadata": {},
   "outputs": [
    {
     "name": "stdout",
     "output_type": "stream",
     "text": [
      "(3141, 12)\n"
     ]
    },
    {
     "data": {
      "text/html": [
       "<div>\n",
       "<style scoped>\n",
       "    .dataframe tbody tr th:only-of-type {\n",
       "        vertical-align: middle;\n",
       "    }\n",
       "\n",
       "    .dataframe tbody tr th {\n",
       "        vertical-align: top;\n",
       "    }\n",
       "\n",
       "    .dataframe thead th {\n",
       "        text-align: right;\n",
       "    }\n",
       "</style>\n",
       "<table border=\"1\" class=\"dataframe\">\n",
       "  <thead>\n",
       "    <tr style=\"text-align: right;\">\n",
       "      <th></th>\n",
       "      <th>FIPS</th>\n",
       "      <th>geometry</th>\n",
       "      <th>quake_magnitude</th>\n",
       "      <th>tornado_intensity</th>\n",
       "      <th>damage</th>\n",
       "      <th>deaths</th>\n",
       "      <th>injuries</th>\n",
       "      <th>total_storms</th>\n",
       "      <th>overall_cost</th>\n",
       "      <th>storminess</th>\n",
       "      <th>log_cost</th>\n",
       "      <th>badness</th>\n",
       "    </tr>\n",
       "  </thead>\n",
       "  <tbody>\n",
       "    <tr>\n",
       "      <th>0</th>\n",
       "      <td>27077</td>\n",
       "      <td>POLYGON ((-95.34283127277658 48.546679319076, ...</td>\n",
       "      <td>0.00</td>\n",
       "      <td>3.0</td>\n",
       "      <td>2730200.0</td>\n",
       "      <td>0.000000</td>\n",
       "      <td>4.000000</td>\n",
       "      <td>294</td>\n",
       "      <td>2.930200e+06</td>\n",
       "      <td>2.774517</td>\n",
       "      <td>6.466897</td>\n",
       "      <td>9.241414</td>\n",
       "    </tr>\n",
       "    <tr>\n",
       "      <th>1</th>\n",
       "      <td>53019</td>\n",
       "      <td>POLYGON ((-118.8516288013387 47.94956368481996...</td>\n",
       "      <td>0.00</td>\n",
       "      <td>0.0</td>\n",
       "      <td>24320500.0</td>\n",
       "      <td>0.000000</td>\n",
       "      <td>0.000000</td>\n",
       "      <td>251</td>\n",
       "      <td>2.432050e+07</td>\n",
       "      <td>2.401401</td>\n",
       "      <td>7.385973</td>\n",
       "      <td>9.787373</td>\n",
       "    </tr>\n",
       "    <tr>\n",
       "      <th>2</th>\n",
       "      <td>53065</td>\n",
       "      <td>POLYGON ((-117.438831576286 48.04411548512263,...</td>\n",
       "      <td>0.00</td>\n",
       "      <td>2.0</td>\n",
       "      <td>5495500.0</td>\n",
       "      <td>2.666667</td>\n",
       "      <td>10.666667</td>\n",
       "      <td>507</td>\n",
       "      <td>3.002883e+07</td>\n",
       "      <td>2.850033</td>\n",
       "      <td>7.477538</td>\n",
       "      <td>10.327572</td>\n",
       "    </tr>\n",
       "    <tr>\n",
       "      <th>3</th>\n",
       "      <td>53047</td>\n",
       "      <td>POLYGON ((-118.972093862835 47.93915200536639,...</td>\n",
       "      <td>13.35</td>\n",
       "      <td>0.0</td>\n",
       "      <td>392974160.0</td>\n",
       "      <td>15.800000</td>\n",
       "      <td>26.400000</td>\n",
       "      <td>987</td>\n",
       "      <td>5.364942e+08</td>\n",
       "      <td>3.366049</td>\n",
       "      <td>8.729565</td>\n",
       "      <td>12.095614</td>\n",
       "    </tr>\n",
       "    <tr>\n",
       "      <th>4</th>\n",
       "      <td>53051</td>\n",
       "      <td>POLYGON ((-117.4385804303028 48.99991850672649...</td>\n",
       "      <td>0.00</td>\n",
       "      <td>0.0</td>\n",
       "      <td>11105000.0</td>\n",
       "      <td>4.666667</td>\n",
       "      <td>13.666667</td>\n",
       "      <td>504</td>\n",
       "      <td>5.378833e+07</td>\n",
       "      <td>2.703291</td>\n",
       "      <td>7.730688</td>\n",
       "      <td>10.433979</td>\n",
       "    </tr>\n",
       "  </tbody>\n",
       "</table>\n",
       "</div>"
      ],
      "text/plain": [
       "    FIPS                                           geometry  quake_magnitude  \\\n",
       "0  27077  POLYGON ((-95.34283127277658 48.546679319076, ...             0.00   \n",
       "1  53019  POLYGON ((-118.8516288013387 47.94956368481996...             0.00   \n",
       "2  53065  POLYGON ((-117.438831576286 48.04411548512263,...             0.00   \n",
       "3  53047  POLYGON ((-118.972093862835 47.93915200536639,...            13.35   \n",
       "4  53051  POLYGON ((-117.4385804303028 48.99991850672649...             0.00   \n",
       "\n",
       "   tornado_intensity       damage     deaths   injuries  total_storms  \\\n",
       "0                3.0    2730200.0   0.000000   4.000000           294   \n",
       "1                0.0   24320500.0   0.000000   0.000000           251   \n",
       "2                2.0    5495500.0   2.666667  10.666667           507   \n",
       "3                0.0  392974160.0  15.800000  26.400000           987   \n",
       "4                0.0   11105000.0   4.666667  13.666667           504   \n",
       "\n",
       "   overall_cost  storminess  log_cost    badness  \n",
       "0  2.930200e+06    2.774517  6.466897   9.241414  \n",
       "1  2.432050e+07    2.401401  7.385973   9.787373  \n",
       "2  3.002883e+07    2.850033  7.477538  10.327572  \n",
       "3  5.364942e+08    3.366049  8.729565  12.095614  \n",
       "4  5.378833e+07    2.703291  7.730688  10.433979  "
      ]
     },
     "execution_count": 168,
     "metadata": {},
     "output_type": "execute_result"
    }
   ],
   "source": [
    "display(danger)"
   ]
  },
  {
   "cell_type": "markdown",
   "metadata": {},
   "source": [
    "# Old cells"
   ]
  },
  {
   "cell_type": "code",
   "execution_count": null,
   "metadata": {},
   "outputs": [],
   "source": [
    "# Export as geoJSON file\n",
    "dis4.to_file(\"../data_output/6__danger/danger.geojson\", driver='GeoJSON')"
   ]
  },
  {
   "cell_type": "code",
   "execution_count": null,
   "metadata": {},
   "outputs": [],
   "source": [
    "# Export as CSV\n",
    "dis5 = dis4.drop(columns='geometry')\n",
    "dis5.to_csv(\"../data_output/6__danger/danger.csv\")"
   ]
  },
  {
   "cell_type": "markdown",
   "metadata": {},
   "source": [
    "# Generating disaster level labels"
   ]
  },
  {
   "cell_type": "code",
   "execution_count": null,
   "metadata": {},
   "outputs": [],
   "source": [
    "# Histogram to visualize the distribution of danger scores\n",
    "dis5.hist(bins=50);"
   ]
  },
  {
   "cell_type": "markdown",
   "metadata": {},
   "source": [
    "Danger levels have a long-tailed distribution, so it's probably better to assign an overall danger score based on the log of danger rather than danger itself."
   ]
  },
  {
   "cell_type": "code",
   "execution_count": null,
   "metadata": {},
   "outputs": [],
   "source": [
    "# Generate new dataframe\n",
    "dis6 = dis4.copy()\n",
    "\n",
    "# Generate new column with the log of danger.\n",
    "dis6['log_danger'] = np.log(dis6['danger'] + 1)"
   ]
  },
  {
   "cell_type": "code",
   "execution_count": null,
   "metadata": {},
   "outputs": [],
   "source": [
    "fig, ax = plt.subplots(figsize=(10,5))\n",
    "dis6['log_danger'].hist(ax=ax, bins=50);\n",
    "ax.axvline(4, color='r')\n",
    "ax.axvline(4, color='r')\n",
    "ax.axvline(5, color='r')\n",
    "ax.axvline(6, color='r')\n",
    "ax.axvline(7, color='r')\n",
    "ax.axvline(8, color='r')\n",
    "ax.set_xlabel('Log(Number of incidents)')\n",
    "ax.set_ylabel('Number of counties')\n",
    "plt.show()"
   ]
  },
  {
   "cell_type": "code",
   "execution_count": null,
   "metadata": {},
   "outputs": [],
   "source": [
    "# Create an array of numerical bins\n",
    "\n",
    "danger_bins_numerical = pd.cut(dis6['log_danger'], bins=[0,4,5,6,7,8,12], \n",
    "                               include_lowest=True, retbins=False, labels=False)\n",
    "\n",
    "# Create an array of labeled bins. Intervals are evenly spaced within the \n",
    "# log-normal bell curve.\n",
    "danger_bins_labels = pd.cut(dis6['log_danger'], bins=[0,4,5,6,7,8,12], \n",
    "                            include_lowest=True,retbins=True, \n",
    "                            labels=['Very Low Risk','Low Risk','Medium Risk',\n",
    "                                    'High Risk','Very High Risk','Extremely High Risk'])[0]\n",
    "\n",
    "# Incorporate them into the dataframe\n",
    "dis6['bins_num'] = danger_bins_numerical\n",
    "dis6['bins_labels'] = danger_bins_labels"
   ]
  },
  {
   "cell_type": "code",
   "execution_count": null,
   "metadata": {},
   "outputs": [],
   "source": [
    "# All the labels are represented.\n",
    "dis6.bins_labels.unique()"
   ]
  },
  {
   "cell_type": "code",
   "execution_count": null,
   "metadata": {},
   "outputs": [],
   "source": [
    "dis6.plot(column='bins_num', figsize=(15,6), legend=True);"
   ]
  },
  {
   "cell_type": "code",
   "execution_count": null,
   "metadata": {},
   "outputs": [],
   "source": [
    "dis6[dis6.bins_num == 0].head(30)"
   ]
  },
  {
   "cell_type": "code",
   "execution_count": null,
   "metadata": {},
   "outputs": [],
   "source": [
    "dis7 = dis6[['danger','bins_num','bins_labels']]\n",
    "\n",
    "# Export as CSV\n",
    "dis7.to_csv(\"../data_output/6__danger/danger_labels.csv\")"
   ]
  },
  {
   "cell_type": "code",
   "execution_count": null,
   "metadata": {},
   "outputs": [],
   "source": []
  }
 ],
 "metadata": {
  "kernelspec": {
   "display_name": "Python 3",
   "language": "python",
   "name": "python3"
  },
  "language_info": {
   "codemirror_mode": {
    "name": "ipython",
    "version": 3
   },
   "file_extension": ".py",
   "mimetype": "text/x-python",
   "name": "python",
   "nbconvert_exporter": "python",
   "pygments_lexer": "ipython3",
   "version": "3.7.3"
  }
 },
 "nbformat": 4,
 "nbformat_minor": 2
}
