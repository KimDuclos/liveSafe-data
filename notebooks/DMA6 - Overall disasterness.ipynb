{
 "cells": [
  {
   "cell_type": "markdown",
   "metadata": {},
   "source": [
    "# Measures of overall disasterness\n",
    "We want to capture the fact that more intense storms (Fujita scale 5 tornadoes, richter scale 9 earthquakes) are worse than other events, and that deaths are worse than injuries and property damages.  While we provide all these data separately, this is our opportunity to combine them into a custom metric that illustrates just how dangerous it is to live somewhere.  We account for the different magnitudes of earthquakes and tornadoes, for which we have such data, but don't distinguish between the severity of other events.\n",
    "\n",
    "We recognize that the weights of these factors are chosen arbitrarily, but we think this still conveys more information than not combining these parameters at all, or than giving all sorts of natural disasters equal weight."
   ]
  },
  {
   "cell_type": "code",
   "execution_count": 221,
   "metadata": {},
   "outputs": [],
   "source": [
    "import pandas as pd\n",
    "import geopandas\n",
    "import matplotlib.pyplot as plt\n",
    "import numpy as np\n",
    "\n",
    "# Custom function for displaying the shape and head of a dataframe\n",
    "def display(df, n=5):\n",
    "    print(df.shape)\n",
    "    return df.head(n)"
   ]
  },
  {
   "cell_type": "markdown",
   "metadata": {},
   "source": [
    "# Get counties"
   ]
  },
  {
   "cell_type": "code",
   "execution_count": 222,
   "metadata": {},
   "outputs": [
    {
     "name": "stdout",
     "output_type": "stream",
     "text": [
      "(3141, 6)\n"
     ]
    },
    {
     "data": {
      "text/html": [
       "<div>\n",
       "<style scoped>\n",
       "    .dataframe tbody tr th:only-of-type {\n",
       "        vertical-align: middle;\n",
       "    }\n",
       "\n",
       "    .dataframe tbody tr th {\n",
       "        vertical-align: top;\n",
       "    }\n",
       "\n",
       "    .dataframe thead th {\n",
       "        text-align: right;\n",
       "    }\n",
       "</style>\n",
       "<table border=\"1\" class=\"dataframe\">\n",
       "  <thead>\n",
       "    <tr style=\"text-align: right;\">\n",
       "      <th></th>\n",
       "      <th>NAME</th>\n",
       "      <th>STATE_NAME</th>\n",
       "      <th>STATE_FIPS</th>\n",
       "      <th>CNTY_FIPS</th>\n",
       "      <th>FIPS</th>\n",
       "      <th>geometry</th>\n",
       "    </tr>\n",
       "  </thead>\n",
       "  <tbody>\n",
       "    <tr>\n",
       "      <th>0</th>\n",
       "      <td>Lake of the Woods</td>\n",
       "      <td>Minnesota</td>\n",
       "      <td>27</td>\n",
       "      <td>77</td>\n",
       "      <td>27077</td>\n",
       "      <td>POLYGON ((-95.34283127277658 48.546679319076, ...</td>\n",
       "    </tr>\n",
       "    <tr>\n",
       "      <th>1</th>\n",
       "      <td>Ferry</td>\n",
       "      <td>Washington</td>\n",
       "      <td>53</td>\n",
       "      <td>19</td>\n",
       "      <td>53019</td>\n",
       "      <td>POLYGON ((-118.8516288013387 47.94956368481996...</td>\n",
       "    </tr>\n",
       "    <tr>\n",
       "      <th>2</th>\n",
       "      <td>Stevens</td>\n",
       "      <td>Washington</td>\n",
       "      <td>53</td>\n",
       "      <td>65</td>\n",
       "      <td>53065</td>\n",
       "      <td>POLYGON ((-117.438831576286 48.04411548512263,...</td>\n",
       "    </tr>\n",
       "    <tr>\n",
       "      <th>3</th>\n",
       "      <td>Okanogan</td>\n",
       "      <td>Washington</td>\n",
       "      <td>53</td>\n",
       "      <td>47</td>\n",
       "      <td>53047</td>\n",
       "      <td>POLYGON ((-118.972093862835 47.93915200536639,...</td>\n",
       "    </tr>\n",
       "    <tr>\n",
       "      <th>4</th>\n",
       "      <td>Pend Oreille</td>\n",
       "      <td>Washington</td>\n",
       "      <td>53</td>\n",
       "      <td>51</td>\n",
       "      <td>53051</td>\n",
       "      <td>POLYGON ((-117.4385804303028 48.99991850672649...</td>\n",
       "    </tr>\n",
       "  </tbody>\n",
       "</table>\n",
       "</div>"
      ],
      "text/plain": [
       "                NAME  STATE_NAME  STATE_FIPS  CNTY_FIPS   FIPS  \\\n",
       "0  Lake of the Woods   Minnesota          27         77  27077   \n",
       "1              Ferry  Washington          53         19  53019   \n",
       "2            Stevens  Washington          53         65  53065   \n",
       "3           Okanogan  Washington          53         47  53047   \n",
       "4       Pend Oreille  Washington          53         51  53051   \n",
       "\n",
       "                                            geometry  \n",
       "0  POLYGON ((-95.34283127277658 48.546679319076, ...  \n",
       "1  POLYGON ((-118.8516288013387 47.94956368481996...  \n",
       "2  POLYGON ((-117.438831576286 48.04411548512263,...  \n",
       "3  POLYGON ((-118.972093862835 47.93915200536639,...  \n",
       "4  POLYGON ((-117.4385804303028 48.99991850672649...  "
      ]
     },
     "execution_count": 222,
     "metadata": {},
     "output_type": "execute_result"
    }
   ],
   "source": [
    "# Import a shape file with all the counties in the US.\n",
    "# Note how it doesn't include all the same territories as the \n",
    "# quake contour map.\n",
    "counties = geopandas.read_file('../data_input/1_USCounties/')\n",
    "\n",
    "# Turn state codes from strings to integers\n",
    "for col in ['STATE_FIPS', 'CNTY_FIPS', 'FIPS']:\n",
    "    counties[col] = counties[col].astype(int)\n",
    "    \n",
    "display(counties)"
   ]
  },
  {
   "cell_type": "markdown",
   "metadata": {},
   "source": [
    "# Get disaster data\n",
    "Earthquakes and tornadoes, for which we have the events themselves, need to be aggregated by county in some way that accounts for their intensity."
   ]
  },
  {
   "cell_type": "markdown",
   "metadata": {},
   "source": [
    "## Quakes\n",
    "I choose to aggregate quakes based on the energy they release.  This way we prevent little earthquakes from dominating the conversation, when it's the big ones that really matter.  [This website](https://www.bgs.ac.uk/discoveringGeology/hazards/earthquakes/magnitudeScaleCalculations.html) says how to calculate quake energy from magnitude."
   ]
  },
  {
   "cell_type": "code",
   "execution_count": 223,
   "metadata": {},
   "outputs": [
    {
     "name": "stdout",
     "output_type": "stream",
     "text": [
      "(2547, 4)\n"
     ]
    },
    {
     "data": {
      "text/html": [
       "<div>\n",
       "<style scoped>\n",
       "    .dataframe tbody tr th:only-of-type {\n",
       "        vertical-align: middle;\n",
       "    }\n",
       "\n",
       "    .dataframe tbody tr th {\n",
       "        vertical-align: top;\n",
       "    }\n",
       "\n",
       "    .dataframe thead th {\n",
       "        text-align: right;\n",
       "    }\n",
       "</style>\n",
       "<table border=\"1\" class=\"dataframe\">\n",
       "  <thead>\n",
       "    <tr style=\"text-align: right;\">\n",
       "      <th></th>\n",
       "      <th>FIPS</th>\n",
       "      <th>year</th>\n",
       "      <th>magnitude</th>\n",
       "      <th>geometry</th>\n",
       "    </tr>\n",
       "  </thead>\n",
       "  <tbody>\n",
       "    <tr>\n",
       "      <th>0</th>\n",
       "      <td>6029</td>\n",
       "      <td>1996</td>\n",
       "      <td>5.17</td>\n",
       "      <td>POINT (-117.646 35.761)</td>\n",
       "    </tr>\n",
       "    <tr>\n",
       "      <th>1</th>\n",
       "      <td>6071</td>\n",
       "      <td>1996</td>\n",
       "      <td>4.16</td>\n",
       "      <td>POINT (-117.62 35.755)</td>\n",
       "    </tr>\n",
       "    <tr>\n",
       "      <th>2</th>\n",
       "      <td>6071</td>\n",
       "      <td>1996</td>\n",
       "      <td>4.36</td>\n",
       "      <td>POINT (-117.636 35.779)</td>\n",
       "    </tr>\n",
       "    <tr>\n",
       "      <th>3</th>\n",
       "      <td>6071</td>\n",
       "      <td>1996</td>\n",
       "      <td>4.24</td>\n",
       "      <td>POINT (-117.632 35.799)</td>\n",
       "    </tr>\n",
       "    <tr>\n",
       "      <th>4</th>\n",
       "      <td>6071</td>\n",
       "      <td>1996</td>\n",
       "      <td>4.19</td>\n",
       "      <td>POINT (-116.943 34.994)</td>\n",
       "    </tr>\n",
       "  </tbody>\n",
       "</table>\n",
       "</div>"
      ],
      "text/plain": [
       "   FIPS  year  magnitude                 geometry\n",
       "0  6029  1996       5.17  POINT (-117.646 35.761)\n",
       "1  6071  1996       4.16   POINT (-117.62 35.755)\n",
       "2  6071  1996       4.36  POINT (-117.636 35.779)\n",
       "3  6071  1996       4.24  POINT (-117.632 35.799)\n",
       "4  6071  1996       4.19  POINT (-116.943 34.994)"
      ]
     },
     "execution_count": 223,
     "metadata": {},
     "output_type": "execute_result"
    }
   ],
   "source": [
    "quakes = geopandas.read_file('../data_output/5__USGS_quakes/quakes1.geojson')\n",
    "display(quakes)"
   ]
  },
  {
   "cell_type": "code",
   "execution_count": 224,
   "metadata": {},
   "outputs": [
    {
     "name": "stdout",
     "output_type": "stream",
     "text": [
      "(191, 1)\n"
     ]
    },
    {
     "data": {
      "text/html": [
       "<div>\n",
       "<style scoped>\n",
       "    .dataframe tbody tr th:only-of-type {\n",
       "        vertical-align: middle;\n",
       "    }\n",
       "\n",
       "    .dataframe tbody tr th {\n",
       "        vertical-align: top;\n",
       "    }\n",
       "\n",
       "    .dataframe thead th {\n",
       "        text-align: right;\n",
       "    }\n",
       "</style>\n",
       "<table border=\"1\" class=\"dataframe\">\n",
       "  <thead>\n",
       "    <tr style=\"text-align: right;\">\n",
       "      <th></th>\n",
       "      <th>quake_energy</th>\n",
       "    </tr>\n",
       "    <tr>\n",
       "      <th>FIPS</th>\n",
       "      <th></th>\n",
       "    </tr>\n",
       "  </thead>\n",
       "  <tbody>\n",
       "    <tr>\n",
       "      <th>1049</th>\n",
       "      <td>7.943282e+06</td>\n",
       "    </tr>\n",
       "    <tr>\n",
       "      <th>1053</th>\n",
       "      <td>1.584893e+07</td>\n",
       "    </tr>\n",
       "    <tr>\n",
       "      <th>1063</th>\n",
       "      <td>2.818383e+06</td>\n",
       "    </tr>\n",
       "    <tr>\n",
       "      <th>2013</th>\n",
       "      <td>1.597265e+08</td>\n",
       "    </tr>\n",
       "    <tr>\n",
       "      <th>2016</th>\n",
       "      <td>1.252253e+09</td>\n",
       "    </tr>\n",
       "  </tbody>\n",
       "</table>\n",
       "</div>"
      ],
      "text/plain": [
       "      quake_energy\n",
       "FIPS              \n",
       "1049  7.943282e+06\n",
       "1053  1.584893e+07\n",
       "1063  2.818383e+06\n",
       "2013  1.597265e+08\n",
       "2016  1.252253e+09"
      ]
     },
     "execution_count": 224,
     "metadata": {},
     "output_type": "execute_result"
    }
   ],
   "source": [
    "# Calculate the total energy released by each earthquake (in Joules).\n",
    "quakes['energy'] = 10**(1.5*quakes['magnitude'])\n",
    "\n",
    "# Create a dataframe that aggregates all earthquakes by county, \n",
    "# summing up their magnitude\n",
    "quakes2 = quakes[['FIPS', 'energy']].groupby('FIPS').sum()\\\n",
    "                                .rename(columns={'energy':'quake_energy'})\n",
    "\n",
    "display(quakes2)"
   ]
  },
  {
   "cell_type": "markdown",
   "metadata": {},
   "source": [
    "## Tornadoes\n",
    "Our NOAA data classifies tornadoes according to the old Fujita scale before 1997, and according to the Enhanced Fujita scale since then.  Both scales are a measure of damages, but are not as readily quantifiable as earthquakes.  I choose to treat them as if they were all on a logarithmic scale.  I selected my parameters such that a category 5 tornado is equivalent to 100 category-0 tornadoes, which matches my intuition for how different in importance they really are.  The relative weights are:\n",
    "\n",
    "```\n",
    "cat - weight\n",
    "F0  - 1\n",
    "F1  - 3.16\n",
    "F2  - 10\n",
    "F3  - 31.6\n",
    "F4  - 100\n",
    "F5  - 316\n",
    "```"
   ]
  },
  {
   "cell_type": "code",
   "execution_count": 225,
   "metadata": {},
   "outputs": [
    {
     "name": "stdout",
     "output_type": "stream",
     "text": [
      "(30898, 3)\n"
     ]
    },
    {
     "data": {
      "text/html": [
       "<div>\n",
       "<style scoped>\n",
       "    .dataframe tbody tr th:only-of-type {\n",
       "        vertical-align: middle;\n",
       "    }\n",
       "\n",
       "    .dataframe tbody tr th {\n",
       "        vertical-align: top;\n",
       "    }\n",
       "\n",
       "    .dataframe thead th {\n",
       "        text-align: right;\n",
       "    }\n",
       "</style>\n",
       "<table border=\"1\" class=\"dataframe\">\n",
       "  <thead>\n",
       "    <tr style=\"text-align: right;\">\n",
       "      <th></th>\n",
       "      <th>year</th>\n",
       "      <th>intensity</th>\n",
       "      <th>geometry</th>\n",
       "    </tr>\n",
       "  </thead>\n",
       "  <tbody>\n",
       "    <tr>\n",
       "      <th>0</th>\n",
       "      <td>1996</td>\n",
       "      <td>1</td>\n",
       "      <td>POINT (-89.87 36.18)</td>\n",
       "    </tr>\n",
       "    <tr>\n",
       "      <th>1</th>\n",
       "      <td>1996</td>\n",
       "      <td>1</td>\n",
       "      <td>POINT (-90.97 34.55)</td>\n",
       "    </tr>\n",
       "    <tr>\n",
       "      <th>2</th>\n",
       "      <td>1996</td>\n",
       "      <td>1</td>\n",
       "      <td>POINT (-92.31999999999999 30.57)</td>\n",
       "    </tr>\n",
       "    <tr>\n",
       "      <th>3</th>\n",
       "      <td>1996</td>\n",
       "      <td>0</td>\n",
       "      <td>POINT (-86.97 40.5)</td>\n",
       "    </tr>\n",
       "    <tr>\n",
       "      <th>4</th>\n",
       "      <td>1996</td>\n",
       "      <td>2</td>\n",
       "      <td>POINT (-96.15000000000001 33.72)</td>\n",
       "    </tr>\n",
       "  </tbody>\n",
       "</table>\n",
       "</div>"
      ],
      "text/plain": [
       "   year  intensity                          geometry\n",
       "0  1996          1              POINT (-89.87 36.18)\n",
       "1  1996          1              POINT (-90.97 34.55)\n",
       "2  1996          1  POINT (-92.31999999999999 30.57)\n",
       "3  1996          0               POINT (-86.97 40.5)\n",
       "4  1996          2  POINT (-96.15000000000001 33.72)"
      ]
     },
     "execution_count": 225,
     "metadata": {},
     "output_type": "execute_result"
    }
   ],
   "source": [
    "tornadoes = geopandas.read_file('../data_output/5__NOAA/tornadoes.geojson')\n",
    "display(tornadoes)"
   ]
  },
  {
   "cell_type": "code",
   "execution_count": 226,
   "metadata": {},
   "outputs": [
    {
     "name": "stdout",
     "output_type": "stream",
     "text": [
      "(2869, 1)\n"
     ]
    },
    {
     "data": {
      "text/html": [
       "<div>\n",
       "<style scoped>\n",
       "    .dataframe tbody tr th:only-of-type {\n",
       "        vertical-align: middle;\n",
       "    }\n",
       "\n",
       "    .dataframe tbody tr th {\n",
       "        vertical-align: top;\n",
       "    }\n",
       "\n",
       "    .dataframe thead th {\n",
       "        text-align: right;\n",
       "    }\n",
       "</style>\n",
       "<table border=\"1\" class=\"dataframe\">\n",
       "  <thead>\n",
       "    <tr style=\"text-align: right;\">\n",
       "      <th></th>\n",
       "      <th>tornado_intensity</th>\n",
       "    </tr>\n",
       "    <tr>\n",
       "      <th>FIPS</th>\n",
       "      <th></th>\n",
       "    </tr>\n",
       "  </thead>\n",
       "  <tbody>\n",
       "    <tr>\n",
       "      <th>1001</th>\n",
       "      <td>123.706052</td>\n",
       "    </tr>\n",
       "    <tr>\n",
       "      <th>1003</th>\n",
       "      <td>107.920998</td>\n",
       "    </tr>\n",
       "    <tr>\n",
       "      <th>1005</th>\n",
       "      <td>45.135944</td>\n",
       "    </tr>\n",
       "    <tr>\n",
       "      <th>1007</th>\n",
       "      <td>31.298221</td>\n",
       "    </tr>\n",
       "    <tr>\n",
       "      <th>1009</th>\n",
       "      <td>273.381497</td>\n",
       "    </tr>\n",
       "  </tbody>\n",
       "</table>\n",
       "</div>"
      ],
      "text/plain": [
       "      tornado_intensity\n",
       "FIPS                   \n",
       "1001         123.706052\n",
       "1003         107.920998\n",
       "1005          45.135944\n",
       "1007          31.298221\n",
       "1009         273.381497"
      ]
     },
     "execution_count": 226,
     "metadata": {},
     "output_type": "execute_result"
    }
   ],
   "source": [
    "# Calculate an exponential measure of intensity\n",
    "tornadoes['exp_intensity'] = 10**(0.5*tornadoes['intensity'])\n",
    "\n",
    "# Mark all tornadoes with the county where they happened\n",
    "tornadoes2 = geopandas.sjoin(tornadoes, counties, how='left', op='within')\n",
    "\n",
    "# Single out only relevant columns, and group by county \n",
    "# (again, adding up magnitudes)\n",
    "tornadoes2 = tornadoes2[['exp_intensity','FIPS']]\\\n",
    "                    .groupby('FIPS').sum()\\\n",
    "                    .rename(columns={'exp_intensity':'tornado_intensity'})\n",
    "\n",
    "display(tornadoes2)"
   ]
  },
  {
   "cell_type": "markdown",
   "metadata": {},
   "source": [
    "## Damages"
   ]
  },
  {
   "cell_type": "code",
   "execution_count": 227,
   "metadata": {},
   "outputs": [
    {
     "name": "stdout",
     "output_type": "stream",
     "text": [
      "(3141, 4)\n"
     ]
    },
    {
     "data": {
      "text/html": [
       "<div>\n",
       "<style scoped>\n",
       "    .dataframe tbody tr th:only-of-type {\n",
       "        vertical-align: middle;\n",
       "    }\n",
       "\n",
       "    .dataframe tbody tr th {\n",
       "        vertical-align: top;\n",
       "    }\n",
       "\n",
       "    .dataframe thead th {\n",
       "        text-align: right;\n",
       "    }\n",
       "</style>\n",
       "<table border=\"1\" class=\"dataframe\">\n",
       "  <thead>\n",
       "    <tr style=\"text-align: right;\">\n",
       "      <th></th>\n",
       "      <th>FIPS</th>\n",
       "      <th>damage</th>\n",
       "      <th>deaths</th>\n",
       "      <th>injuries</th>\n",
       "    </tr>\n",
       "  </thead>\n",
       "  <tbody>\n",
       "    <tr>\n",
       "      <th>0</th>\n",
       "      <td>1001</td>\n",
       "      <td>26788100.0</td>\n",
       "      <td>7.0</td>\n",
       "      <td>96.0</td>\n",
       "    </tr>\n",
       "    <tr>\n",
       "      <th>1</th>\n",
       "      <td>1003</td>\n",
       "      <td>54686000.0</td>\n",
       "      <td>29.0</td>\n",
       "      <td>57.0</td>\n",
       "    </tr>\n",
       "    <tr>\n",
       "      <th>2</th>\n",
       "      <td>1005</td>\n",
       "      <td>2594000.0</td>\n",
       "      <td>0.0</td>\n",
       "      <td>17.0</td>\n",
       "    </tr>\n",
       "    <tr>\n",
       "      <th>3</th>\n",
       "      <td>1007</td>\n",
       "      <td>16973750.0</td>\n",
       "      <td>1.0</td>\n",
       "      <td>20.0</td>\n",
       "    </tr>\n",
       "    <tr>\n",
       "      <th>4</th>\n",
       "      <td>1009</td>\n",
       "      <td>33177500.0</td>\n",
       "      <td>1.0</td>\n",
       "      <td>59.0</td>\n",
       "    </tr>\n",
       "  </tbody>\n",
       "</table>\n",
       "</div>"
      ],
      "text/plain": [
       "   FIPS      damage  deaths  injuries\n",
       "0  1001  26788100.0     7.0      96.0\n",
       "1  1003  54686000.0    29.0      57.0\n",
       "2  1005   2594000.0     0.0      17.0\n",
       "3  1007  16973750.0     1.0      20.0\n",
       "4  1009  33177500.0     1.0      59.0"
      ]
     },
     "execution_count": 227,
     "metadata": {},
     "output_type": "execute_result"
    }
   ],
   "source": [
    "damages = pd.read_csv('../data_output/5__NOAA/damages_by_county.csv')\n",
    "display(damages)"
   ]
  },
  {
   "cell_type": "markdown",
   "metadata": {},
   "source": [
    "## Other storms\n",
    "I'm aggregating all of our best sources for storms here.  I'll use the NOAA data for most types, but FEMA data for hurricanes.  I'll also create columns that tell us how many storms of a given type that county had, as a percentage of the mean national value. "
   ]
  },
  {
   "cell_type": "code",
   "execution_count": 309,
   "metadata": {},
   "outputs": [
    {
     "name": "stdout",
     "output_type": "stream",
     "text": [
      "(3141, 1)\n"
     ]
    },
    {
     "data": {
      "text/html": [
       "<div>\n",
       "<style scoped>\n",
       "    .dataframe tbody tr th:only-of-type {\n",
       "        vertical-align: middle;\n",
       "    }\n",
       "\n",
       "    .dataframe tbody tr th {\n",
       "        vertical-align: top;\n",
       "    }\n",
       "\n",
       "    .dataframe thead th {\n",
       "        text-align: right;\n",
       "    }\n",
       "</style>\n",
       "<table border=\"1\" class=\"dataframe\">\n",
       "  <thead>\n",
       "    <tr style=\"text-align: right;\">\n",
       "      <th></th>\n",
       "      <th>Hurricane</th>\n",
       "    </tr>\n",
       "    <tr>\n",
       "      <th>FIPS</th>\n",
       "      <th></th>\n",
       "    </tr>\n",
       "  </thead>\n",
       "  <tbody>\n",
       "    <tr>\n",
       "      <th>1001</th>\n",
       "      <td>8</td>\n",
       "    </tr>\n",
       "    <tr>\n",
       "      <th>1003</th>\n",
       "      <td>20</td>\n",
       "    </tr>\n",
       "    <tr>\n",
       "      <th>1005</th>\n",
       "      <td>8</td>\n",
       "    </tr>\n",
       "    <tr>\n",
       "      <th>1007</th>\n",
       "      <td>7</td>\n",
       "    </tr>\n",
       "    <tr>\n",
       "      <th>1009</th>\n",
       "      <td>4</td>\n",
       "    </tr>\n",
       "  </tbody>\n",
       "</table>\n",
       "</div>"
      ],
      "text/plain": [
       "      Hurricane\n",
       "FIPS           \n",
       "1001          8\n",
       "1003         20\n",
       "1005          8\n",
       "1007          7\n",
       "1009          4"
      ]
     },
     "execution_count": 309,
     "metadata": {},
     "output_type": "execute_result"
    }
   ],
   "source": [
    "# Import FEMA data\n",
    "fema = geopandas.read_file('../data_output/4__FEMA_county/')\n",
    "\n",
    "# Aggregate by FIPS, keep only useful columns\n",
    "fema = fema.sort_values('FIPS').set_index(['FIPS'])[['Hurricane']]\n",
    "\n",
    "# Cast hurricanes as int\n",
    "fema['Hurricane'] = fema['Hurricane'].astype(int)\n",
    "    \n",
    "display(fema)"
   ]
  },
  {
   "cell_type": "code",
   "execution_count": 313,
   "metadata": {},
   "outputs": [
    {
     "name": "stdout",
     "output_type": "stream",
     "text": [
      "(3141, 6)\n"
     ]
    },
    {
     "data": {
      "text/html": [
       "<div>\n",
       "<style scoped>\n",
       "    .dataframe tbody tr th:only-of-type {\n",
       "        vertical-align: middle;\n",
       "    }\n",
       "\n",
       "    .dataframe tbody tr th {\n",
       "        vertical-align: top;\n",
       "    }\n",
       "\n",
       "    .dataframe thead th {\n",
       "        text-align: right;\n",
       "    }\n",
       "</style>\n",
       "<table border=\"1\" class=\"dataframe\">\n",
       "  <thead>\n",
       "    <tr style=\"text-align: right;\">\n",
       "      <th></th>\n",
       "      <th>Winter</th>\n",
       "      <th>Storm</th>\n",
       "      <th>Flood</th>\n",
       "      <th>Fire</th>\n",
       "      <th>Heat</th>\n",
       "      <th>Drought</th>\n",
       "    </tr>\n",
       "    <tr>\n",
       "      <th>FIPS</th>\n",
       "      <th></th>\n",
       "      <th></th>\n",
       "      <th></th>\n",
       "      <th></th>\n",
       "      <th></th>\n",
       "      <th></th>\n",
       "    </tr>\n",
       "  </thead>\n",
       "  <tbody>\n",
       "    <tr>\n",
       "      <th>1001</th>\n",
       "      <td>17</td>\n",
       "      <td>225</td>\n",
       "      <td>28</td>\n",
       "      <td>0</td>\n",
       "      <td>5</td>\n",
       "      <td>36</td>\n",
       "    </tr>\n",
       "    <tr>\n",
       "      <th>1003</th>\n",
       "      <td>5</td>\n",
       "      <td>322</td>\n",
       "      <td>100</td>\n",
       "      <td>0</td>\n",
       "      <td>0</td>\n",
       "      <td>0</td>\n",
       "    </tr>\n",
       "    <tr>\n",
       "      <th>1005</th>\n",
       "      <td>7</td>\n",
       "      <td>120</td>\n",
       "      <td>7</td>\n",
       "      <td>0</td>\n",
       "      <td>8</td>\n",
       "      <td>49</td>\n",
       "    </tr>\n",
       "    <tr>\n",
       "      <th>1007</th>\n",
       "      <td>18</td>\n",
       "      <td>131</td>\n",
       "      <td>17</td>\n",
       "      <td>0</td>\n",
       "      <td>5</td>\n",
       "      <td>34</td>\n",
       "    </tr>\n",
       "    <tr>\n",
       "      <th>1009</th>\n",
       "      <td>33</td>\n",
       "      <td>312</td>\n",
       "      <td>37</td>\n",
       "      <td>0</td>\n",
       "      <td>4</td>\n",
       "      <td>29</td>\n",
       "    </tr>\n",
       "  </tbody>\n",
       "</table>\n",
       "</div>"
      ],
      "text/plain": [
       "      Winter  Storm  Flood  Fire  Heat  Drought\n",
       "FIPS                                           \n",
       "1001      17    225     28     0     5       36\n",
       "1003       5    322    100     0     0        0\n",
       "1005       7    120      7     0     8       49\n",
       "1007      18    131     17     0     5       34\n",
       "1009      33    312     37     0     4       29"
      ]
     },
     "execution_count": 313,
     "metadata": {},
     "output_type": "execute_result"
    }
   ],
   "source": [
    "# Import NOAA extreme weather events\n",
    "noaa = pd.read_csv('../data_output/5__NOAA/noaa_2.csv')\\\n",
    "\n",
    "# Aggregate by FIPS, keep only useful columns\n",
    "noaa = noaa.groupby('FIPS').sum()[['Winter Weather','Storm','Flood','Fire','Heat',\n",
    "                 'Drought']]\n",
    "\n",
    "# Rename Winter Weather to Winter\n",
    "noaa = noaa.rename(columns={'Winter Weather':'Winter'})\n",
    "\n",
    "display(noaa)"
   ]
  },
  {
   "cell_type": "code",
   "execution_count": 322,
   "metadata": {},
   "outputs": [
    {
     "data": {
      "text/plain": [
       "<matplotlib.axes._subplots.AxesSubplot at 0x1281be588>"
      ]
     },
     "execution_count": 322,
     "metadata": {},
     "output_type": "execute_result"
    },
    {
     "data": {
      "image/png": "[encoded data removed]",
      "text/plain": [
       "<Figure size 432x288 with 1 Axes>"
      ]
     },
     "metadata": {
      "needs_background": "light"
     },
     "output_type": "display_data"
    }
   ],
   "source": [
    "storms.Fire.hist()"
   ]
  },
  {
   "cell_type": "code",
   "execution_count": 352,
   "metadata": {},
   "outputs": [
    {
     "name": "stdout",
     "output_type": "stream",
     "text": [
      "(3141, 21)\n"
     ]
    },
    {
     "data": {
      "text/html": [
       "<div>\n",
       "<style scoped>\n",
       "    .dataframe tbody tr th:only-of-type {\n",
       "        vertical-align: middle;\n",
       "    }\n",
       "\n",
       "    .dataframe tbody tr th {\n",
       "        vertical-align: top;\n",
       "    }\n",
       "\n",
       "    .dataframe thead th {\n",
       "        text-align: right;\n",
       "    }\n",
       "</style>\n",
       "<table border=\"1\" class=\"dataframe\">\n",
       "  <thead>\n",
       "    <tr style=\"text-align: right;\">\n",
       "      <th></th>\n",
       "      <th>Winter</th>\n",
       "      <th>Storm</th>\n",
       "      <th>Flood</th>\n",
       "      <th>Fire</th>\n",
       "      <th>Heat</th>\n",
       "      <th>Drought</th>\n",
       "      <th>Hurricane</th>\n",
       "      <th>pct_Winter</th>\n",
       "      <th>median_Winter</th>\n",
       "      <th>pct_Storm</th>\n",
       "      <th>...</th>\n",
       "      <th>pct_Flood</th>\n",
       "      <th>median_Flood</th>\n",
       "      <th>pct_Hurricane</th>\n",
       "      <th>median_Fire</th>\n",
       "      <th>pct_Heat</th>\n",
       "      <th>median_Heat</th>\n",
       "      <th>pct_Drought</th>\n",
       "      <th>median_Drought</th>\n",
       "      <th>median_Hurricane</th>\n",
       "      <th>geometry</th>\n",
       "    </tr>\n",
       "    <tr>\n",
       "      <th>FIPS</th>\n",
       "      <th></th>\n",
       "      <th></th>\n",
       "      <th></th>\n",
       "      <th></th>\n",
       "      <th></th>\n",
       "      <th></th>\n",
       "      <th></th>\n",
       "      <th></th>\n",
       "      <th></th>\n",
       "      <th></th>\n",
       "      <th></th>\n",
       "      <th></th>\n",
       "      <th></th>\n",
       "      <th></th>\n",
       "      <th></th>\n",
       "      <th></th>\n",
       "      <th></th>\n",
       "      <th></th>\n",
       "      <th></th>\n",
       "      <th></th>\n",
       "      <th></th>\n",
       "    </tr>\n",
       "  </thead>\n",
       "  <tbody>\n",
       "    <tr>\n",
       "      <th>1001</th>\n",
       "      <td>17</td>\n",
       "      <td>225</td>\n",
       "      <td>28</td>\n",
       "      <td>0</td>\n",
       "      <td>5</td>\n",
       "      <td>36</td>\n",
       "      <td>8</td>\n",
       "      <td>28.333333</td>\n",
       "      <td>60.0</td>\n",
       "      <td>114.795918</td>\n",
       "      <td>...</td>\n",
       "      <td>93.333333</td>\n",
       "      <td>30.0</td>\n",
       "      <td>800.0</td>\n",
       "      <td>1</td>\n",
       "      <td>166.666667</td>\n",
       "      <td>3.0</td>\n",
       "      <td>400.000000</td>\n",
       "      <td>9.0</td>\n",
       "      <td>1.0</td>\n",
       "      <td>POLYGON ((-86.82066986329349 32.34730960076057...</td>\n",
       "    </tr>\n",
       "    <tr>\n",
       "      <th>1003</th>\n",
       "      <td>5</td>\n",
       "      <td>322</td>\n",
       "      <td>100</td>\n",
       "      <td>0</td>\n",
       "      <td>0</td>\n",
       "      <td>0</td>\n",
       "      <td>20</td>\n",
       "      <td>8.333333</td>\n",
       "      <td>60.0</td>\n",
       "      <td>164.285714</td>\n",
       "      <td>...</td>\n",
       "      <td>333.333333</td>\n",
       "      <td>30.0</td>\n",
       "      <td>2000.0</td>\n",
       "      <td>1</td>\n",
       "      <td>0.000000</td>\n",
       "      <td>3.0</td>\n",
       "      <td>0.000000</td>\n",
       "      <td>9.0</td>\n",
       "      <td>1.0</td>\n",
       "      <td>POLYGON ((-87.97308978075395 31.16482251520438...</td>\n",
       "    </tr>\n",
       "    <tr>\n",
       "      <th>1005</th>\n",
       "      <td>7</td>\n",
       "      <td>120</td>\n",
       "      <td>7</td>\n",
       "      <td>0</td>\n",
       "      <td>8</td>\n",
       "      <td>49</td>\n",
       "      <td>8</td>\n",
       "      <td>11.666667</td>\n",
       "      <td>60.0</td>\n",
       "      <td>61.224490</td>\n",
       "      <td>...</td>\n",
       "      <td>23.333333</td>\n",
       "      <td>30.0</td>\n",
       "      <td>800.0</td>\n",
       "      <td>1</td>\n",
       "      <td>266.666667</td>\n",
       "      <td>3.0</td>\n",
       "      <td>544.444444</td>\n",
       "      <td>9.0</td>\n",
       "      <td>1.0</td>\n",
       "      <td>POLYGON ((-85.74337279655801 31.62624052460075...</td>\n",
       "    </tr>\n",
       "    <tr>\n",
       "      <th>1007</th>\n",
       "      <td>18</td>\n",
       "      <td>131</td>\n",
       "      <td>17</td>\n",
       "      <td>0</td>\n",
       "      <td>5</td>\n",
       "      <td>34</td>\n",
       "      <td>7</td>\n",
       "      <td>30.000000</td>\n",
       "      <td>60.0</td>\n",
       "      <td>66.836735</td>\n",
       "      <td>...</td>\n",
       "      <td>56.666667</td>\n",
       "      <td>30.0</td>\n",
       "      <td>700.0</td>\n",
       "      <td>1</td>\n",
       "      <td>166.666667</td>\n",
       "      <td>3.0</td>\n",
       "      <td>377.777778</td>\n",
       "      <td>9.0</td>\n",
       "      <td>1.0</td>\n",
       "      <td>POLYGON ((-87.41985563876936 33.01177307648309...</td>\n",
       "    </tr>\n",
       "    <tr>\n",
       "      <th>1009</th>\n",
       "      <td>33</td>\n",
       "      <td>312</td>\n",
       "      <td>37</td>\n",
       "      <td>0</td>\n",
       "      <td>4</td>\n",
       "      <td>29</td>\n",
       "      <td>4</td>\n",
       "      <td>55.000000</td>\n",
       "      <td>60.0</td>\n",
       "      <td>159.183673</td>\n",
       "      <td>...</td>\n",
       "      <td>123.333333</td>\n",
       "      <td>30.0</td>\n",
       "      <td>400.0</td>\n",
       "      <td>1</td>\n",
       "      <td>133.333333</td>\n",
       "      <td>3.0</td>\n",
       "      <td>322.222222</td>\n",
       "      <td>9.0</td>\n",
       "      <td>1.0</td>\n",
       "      <td>POLYGON ((-86.96799449037186 33.86045466926403...</td>\n",
       "    </tr>\n",
       "  </tbody>\n",
       "</table>\n",
       "<p>5 rows × 21 columns</p>\n",
       "</div>"
      ],
      "text/plain": [
       "      Winter  Storm  Flood  Fire  Heat  Drought  Hurricane  pct_Winter  \\\n",
       "FIPS                                                                     \n",
       "1001      17    225     28     0     5       36          8   28.333333   \n",
       "1003       5    322    100     0     0        0         20    8.333333   \n",
       "1005       7    120      7     0     8       49          8   11.666667   \n",
       "1007      18    131     17     0     5       34          7   30.000000   \n",
       "1009      33    312     37     0     4       29          4   55.000000   \n",
       "\n",
       "      median_Winter   pct_Storm  ...   pct_Flood  median_Flood  pct_Hurricane  \\\n",
       "FIPS                             ...                                            \n",
       "1001           60.0  114.795918  ...   93.333333          30.0          800.0   \n",
       "1003           60.0  164.285714  ...  333.333333          30.0         2000.0   \n",
       "1005           60.0   61.224490  ...   23.333333          30.0          800.0   \n",
       "1007           60.0   66.836735  ...   56.666667          30.0          700.0   \n",
       "1009           60.0  159.183673  ...  123.333333          30.0          400.0   \n",
       "\n",
       "      median_Fire    pct_Heat  median_Heat  pct_Drought  median_Drought  \\\n",
       "FIPS                                                                      \n",
       "1001            1  166.666667          3.0   400.000000             9.0   \n",
       "1003            1    0.000000          3.0     0.000000             9.0   \n",
       "1005            1  266.666667          3.0   544.444444             9.0   \n",
       "1007            1  166.666667          3.0   377.777778             9.0   \n",
       "1009            1  133.333333          3.0   322.222222             9.0   \n",
       "\n",
       "      median_Hurricane                                           geometry  \n",
       "FIPS                                                                       \n",
       "1001               1.0  POLYGON ((-86.82066986329349 32.34730960076057...  \n",
       "1003               1.0  POLYGON ((-87.97308978075395 31.16482251520438...  \n",
       "1005               1.0  POLYGON ((-85.74337279655801 31.62624052460075...  \n",
       "1007               1.0  POLYGON ((-87.41985563876936 33.01177307648309...  \n",
       "1009               1.0  POLYGON ((-86.96799449037186 33.86045466926403...  \n",
       "\n",
       "[5 rows x 21 columns]"
      ]
     },
     "execution_count": 352,
     "metadata": {},
     "output_type": "execute_result"
    }
   ],
   "source": [
    "# Merge NOAA and FEMA data\n",
    "storms = pd.merge(noaa, fema, how='left', on='FIPS')\n",
    "\n",
    "# Create columns that show a county's storm count as a \n",
    "# percentage of the national median.  \n",
    "\n",
    "cols = storms.columns\n",
    "\n",
    "# Add columns for the median national value of each disaster type.\n",
    "# Since the national median for Fire is 0, in that case I used 1 instead\n",
    "# to prevent division by zero errors\n",
    "for col in cols:\n",
    "    if storms[col].median() > 0:\n",
    "        storms['median_' + col] = storms[col].median()\n",
    "    else:\n",
    "        storms['median_' + col] = 1\n",
    "        \n",
    "# Add columns for disaster counts normalized to that median\n",
    "for col in cols:\n",
    "        storms['pct_' + col] = storms[col] / storms[col].median() * 100\n",
    "        storms['median_' + col] = storms[col].median()\n",
    "    else:\n",
    "        storms[new_name] = storms[col] / 1 * 100\n",
    "        storms['median_' + col] = 1\n",
    "        \n",
    "        \n",
    "# Add county geometries\n",
    "storms['geometry'] = counties.sort_values('FIPS').set_index('FIPS')['geometry']\n",
    "\n",
    "# Turn into geopandas object\n",
    "storms = geopandas.GeoDataFrame(storms)\n",
    "\n",
    "display(storms)"
   ]
  },
  {
   "cell_type": "code",
   "execution_count": 335,
   "metadata": {},
   "outputs": [],
   "source": [
    "# Export as geoJSON file\n",
    "storms.to_file(\"../data_output/6__danger/storms.geojson\", driver='GeoJSON')"
   ]
  },
  {
   "cell_type": "code",
   "execution_count": 350,
   "metadata": {},
   "outputs": [],
   "source": [
    "# Remove geometry and export as CSV\n",
    "storms_plain = storms.drop(columns='geometry')\n",
    "storms_plain.to_csv(\"../data_output/6__danger/storms.csv\")"
   ]
  },
  {
   "cell_type": "markdown",
   "metadata": {},
   "source": [
    "# Create aggregate measures of danger\n",
    "I'll account separately for events (storms, tornadoes and quakes) and overall costs (property damage, deaths, and injuries).  "
   ]
  },
  {
   "cell_type": "markdown",
   "metadata": {},
   "source": [
    "## Combine everything into a single dataframe"
   ]
  },
  {
   "cell_type": "code",
   "execution_count": 347,
   "metadata": {},
   "outputs": [],
   "source": [
    "# Merge quakes with counties to create a new dataframe called 'danger'.\n",
    "danger = pd.merge(counties, quakes2, how='left', on='FIPS')\\\n",
    "                                                .fillna(0)\n",
    "# Merge tornadoes2 into danger\n",
    "danger = pd.merge(danger, tornadoes2, how='left', on='FIPS')\\\n",
    "                                                .fillna(0)\n",
    "# Merge damages into danger\n",
    "danger = pd.merge(danger, damages, how='left', on='FIPS')\n",
    "\n",
    "# Merge storms into danger\n",
    "danger = pd.merge(danger, storms[['Winter', 'Storm', \n",
    "        'Flood', 'Fire', 'Heat', 'Drought', 'Hurricane']],\n",
    "                  how='left', on='FIPS')\n",
    "\n",
    "# Drop useless columns\n",
    "danger = danger.drop(columns=['NAME', 'STATE_NAME', 'STATE_FIPS', 'CNTY_FIPS'])\n",
    "\n",
    "# Set FIPS as the index.\n",
    "danger = danger.sort_values('FIPS').set_index('FIPS')"
   ]
  },
  {
   "cell_type": "code",
   "execution_count": 348,
   "metadata": {},
   "outputs": [
    {
     "name": "stdout",
     "output_type": "stream",
     "text": [
      "(3141, 13)\n"
     ]
    },
    {
     "data": {
      "text/html": [
       "<div>\n",
       "<style scoped>\n",
       "    .dataframe tbody tr th:only-of-type {\n",
       "        vertical-align: middle;\n",
       "    }\n",
       "\n",
       "    .dataframe tbody tr th {\n",
       "        vertical-align: top;\n",
       "    }\n",
       "\n",
       "    .dataframe thead th {\n",
       "        text-align: right;\n",
       "    }\n",
       "</style>\n",
       "<table border=\"1\" class=\"dataframe\">\n",
       "  <thead>\n",
       "    <tr style=\"text-align: right;\">\n",
       "      <th></th>\n",
       "      <th>geometry</th>\n",
       "      <th>quake_energy</th>\n",
       "      <th>tornado_intensity</th>\n",
       "      <th>damage</th>\n",
       "      <th>deaths</th>\n",
       "      <th>injuries</th>\n",
       "      <th>Winter</th>\n",
       "      <th>Storm</th>\n",
       "      <th>Flood</th>\n",
       "      <th>Fire</th>\n",
       "      <th>Heat</th>\n",
       "      <th>Drought</th>\n",
       "      <th>Hurricane</th>\n",
       "    </tr>\n",
       "    <tr>\n",
       "      <th>FIPS</th>\n",
       "      <th></th>\n",
       "      <th></th>\n",
       "      <th></th>\n",
       "      <th></th>\n",
       "      <th></th>\n",
       "      <th></th>\n",
       "      <th></th>\n",
       "      <th></th>\n",
       "      <th></th>\n",
       "      <th></th>\n",
       "      <th></th>\n",
       "      <th></th>\n",
       "      <th></th>\n",
       "    </tr>\n",
       "  </thead>\n",
       "  <tbody>\n",
       "    <tr>\n",
       "      <th>1001</th>\n",
       "      <td>POLYGON ((-86.82066986329349 32.34730960076057...</td>\n",
       "      <td>0.0</td>\n",
       "      <td>123.706052</td>\n",
       "      <td>26788100.0</td>\n",
       "      <td>7.0</td>\n",
       "      <td>96.0</td>\n",
       "      <td>17</td>\n",
       "      <td>225</td>\n",
       "      <td>28</td>\n",
       "      <td>0</td>\n",
       "      <td>5</td>\n",
       "      <td>36</td>\n",
       "      <td>8</td>\n",
       "    </tr>\n",
       "    <tr>\n",
       "      <th>1003</th>\n",
       "      <td>POLYGON ((-87.97308978075395 31.16482251520438...</td>\n",
       "      <td>0.0</td>\n",
       "      <td>107.920998</td>\n",
       "      <td>54686000.0</td>\n",
       "      <td>29.0</td>\n",
       "      <td>57.0</td>\n",
       "      <td>5</td>\n",
       "      <td>322</td>\n",
       "      <td>100</td>\n",
       "      <td>0</td>\n",
       "      <td>0</td>\n",
       "      <td>0</td>\n",
       "      <td>20</td>\n",
       "    </tr>\n",
       "    <tr>\n",
       "      <th>1005</th>\n",
       "      <td>POLYGON ((-85.74337279655801 31.62624052460075...</td>\n",
       "      <td>0.0</td>\n",
       "      <td>45.135944</td>\n",
       "      <td>2594000.0</td>\n",
       "      <td>0.0</td>\n",
       "      <td>17.0</td>\n",
       "      <td>7</td>\n",
       "      <td>120</td>\n",
       "      <td>7</td>\n",
       "      <td>0</td>\n",
       "      <td>8</td>\n",
       "      <td>49</td>\n",
       "      <td>8</td>\n",
       "    </tr>\n",
       "    <tr>\n",
       "      <th>1007</th>\n",
       "      <td>POLYGON ((-87.41985563876936 33.01177307648309...</td>\n",
       "      <td>0.0</td>\n",
       "      <td>31.298221</td>\n",
       "      <td>16973750.0</td>\n",
       "      <td>1.0</td>\n",
       "      <td>20.0</td>\n",
       "      <td>18</td>\n",
       "      <td>131</td>\n",
       "      <td>17</td>\n",
       "      <td>0</td>\n",
       "      <td>5</td>\n",
       "      <td>34</td>\n",
       "      <td>7</td>\n",
       "    </tr>\n",
       "    <tr>\n",
       "      <th>1009</th>\n",
       "      <td>POLYGON ((-86.96799449037186 33.86045466926403...</td>\n",
       "      <td>0.0</td>\n",
       "      <td>273.381497</td>\n",
       "      <td>33177500.0</td>\n",
       "      <td>1.0</td>\n",
       "      <td>59.0</td>\n",
       "      <td>33</td>\n",
       "      <td>312</td>\n",
       "      <td>37</td>\n",
       "      <td>0</td>\n",
       "      <td>4</td>\n",
       "      <td>29</td>\n",
       "      <td>4</td>\n",
       "    </tr>\n",
       "  </tbody>\n",
       "</table>\n",
       "</div>"
      ],
      "text/plain": [
       "                                               geometry  quake_energy  \\\n",
       "FIPS                                                                    \n",
       "1001  POLYGON ((-86.82066986329349 32.34730960076057...           0.0   \n",
       "1003  POLYGON ((-87.97308978075395 31.16482251520438...           0.0   \n",
       "1005  POLYGON ((-85.74337279655801 31.62624052460075...           0.0   \n",
       "1007  POLYGON ((-87.41985563876936 33.01177307648309...           0.0   \n",
       "1009  POLYGON ((-86.96799449037186 33.86045466926403...           0.0   \n",
       "\n",
       "      tornado_intensity      damage  deaths  injuries  Winter  Storm  Flood  \\\n",
       "FIPS                                                                          \n",
       "1001         123.706052  26788100.0     7.0      96.0      17    225     28   \n",
       "1003         107.920998  54686000.0    29.0      57.0       5    322    100   \n",
       "1005          45.135944   2594000.0     0.0      17.0       7    120      7   \n",
       "1007          31.298221  16973750.0     1.0      20.0      18    131     17   \n",
       "1009         273.381497  33177500.0     1.0      59.0      33    312     37   \n",
       "\n",
       "      Fire  Heat  Drought  Hurricane  \n",
       "FIPS                                  \n",
       "1001     0     5       36          8  \n",
       "1003     0     0        0         20  \n",
       "1005     0     8       49          8  \n",
       "1007     0     5       34          7  \n",
       "1009     0     4       29          4  "
      ]
     },
     "execution_count": 348,
     "metadata": {},
     "output_type": "execute_result"
    }
   ],
   "source": [
    "display(danger)"
   ]
  },
  {
   "cell_type": "markdown",
   "metadata": {},
   "source": [
    "## Costs\n",
    "I'll turn everything into dollars, including deaths and injuries.  I'll turn deaths into dollars using the [statistical value of a human life in the USA](https://en.wikipedia.org/wiki/Value_of_life#United_States)\n",
    ", which I approximate as 9 million dollars.  I'll turn injuries into dollars by assuming that an injury costs on average 1 year of quality-adjusted life, which is commonly set at 50,000 dollars.  I'll then create a logarithmic version of this cost scale (that will be easier to visualize on a map) and bin it into six sensible bins."
   ]
  },
  {
   "cell_type": "code",
   "execution_count": 284,
   "metadata": {},
   "outputs": [],
   "source": [
    "# Create unified measure of cost\n",
    "danger['linear_cost'] = danger.damage + danger.deaths*9000000 + danger.injuries*50000\n",
    "\n",
    "# Figure out cost as a percentage of national mean.\n",
    "usa_median = danger.linear_cost.median()\n",
    "danger['cost_percent_of_median'] = danger['linear_cost'] / usa_median *100\n",
    "\n",
    "# Create logarithmic measure of cost\n",
    "danger['log_cost'] = np.log10(danger['linear_cost']+1)\n",
    "\n",
    "# Normalize log_cost so that it has a mean of 0 and a standard deviation of 1\n",
    "from sklearn.preprocessing import robust_scale\n",
    "danger['cost'] = robust_scale(danger['log_cost'])\n",
    "\n",
    "# Bin cost into 1, 2, or >2 standard deviations away from the mean\n",
    "danger['cost_bins'] = pd.cut(danger['cost'], bins=[-20,-2,-1,0,1,2,20], \n",
    "                               include_lowest=True, retbins=False, labels=False)"
   ]
  },
  {
   "cell_type": "code",
   "execution_count": 295,
   "metadata": {
    "scrolled": false
   },
   "outputs": [
    {
     "data": {
      "image/png": "[encoded data removed]",
      "text/plain": [
       "<Figure size 1080x360 with 2 Axes>"
      ]
     },
     "metadata": {
      "needs_background": "light"
     },
     "output_type": "display_data"
    }
   ],
   "source": [
    "fig, (ax, ax2) = plt.subplots(1,2, figsize=(15,5))\n",
    "danger['cost'].hist(ax=ax, bins=50);\n",
    "ax.axvline(-2, color='r')\n",
    "ax.axvline(-1, color='r')\n",
    "ax.axvline(0, color='r')\n",
    "ax.axvline(1, color='r')\n",
    "ax.axvline(2, color='r')\n",
    "# ax.set_xlabel('Cost (logarithmic)')\n",
    "# ax.set_ylabel('Number of counties')\n",
    "ax.set_title('Histogram of cost', fontsize=20)\n",
    "\n",
    "danger['cost_bins'].hist(ax=ax2);\n",
    "ax2.set_title('Histogram of cost, binned', fontsize=20)\n",
    "plt.show()"
   ]
  },
  {
   "cell_type": "code",
   "execution_count": 296,
   "metadata": {
    "scrolled": false
   },
   "outputs": [
    {
     "data": {
      "image/png": "[encoded data removed]",
      "text/plain": [
       "<Figure size 1440x432 with 2 Axes>"
      ]
     },
     "metadata": {
      "needs_background": "light"
     },
     "output_type": "display_data"
    }
   ],
   "source": [
    "danger.plot(column='cost_bins', figsize=(20,6), legend=True);"
   ]
  },
  {
   "cell_type": "markdown",
   "metadata": {},
   "source": [
    "## Disaster counts\n",
    "I want to create a neat bell curve of disaster frequency, based on combining various measures of disaster frequencies, some of them logarithmic, and all of them normalized and weighted so that more powerful disasters (data only available for quakes and tornadoes) have greater weight."
   ]
  },
  {
   "cell_type": "code",
   "execution_count": 351,
   "metadata": {},
   "outputs": [
    {
     "name": "stdout",
     "output_type": "stream",
     "text": [
      "(3141, 13)\n"
     ]
    },
    {
     "data": {
      "text/html": [
       "<div>\n",
       "<style scoped>\n",
       "    .dataframe tbody tr th:only-of-type {\n",
       "        vertical-align: middle;\n",
       "    }\n",
       "\n",
       "    .dataframe tbody tr th {\n",
       "        vertical-align: top;\n",
       "    }\n",
       "\n",
       "    .dataframe thead th {\n",
       "        text-align: right;\n",
       "    }\n",
       "</style>\n",
       "<table border=\"1\" class=\"dataframe\">\n",
       "  <thead>\n",
       "    <tr style=\"text-align: right;\">\n",
       "      <th></th>\n",
       "      <th>geometry</th>\n",
       "      <th>quake_energy</th>\n",
       "      <th>tornado_intensity</th>\n",
       "      <th>damage</th>\n",
       "      <th>deaths</th>\n",
       "      <th>injuries</th>\n",
       "      <th>Winter</th>\n",
       "      <th>Storm</th>\n",
       "      <th>Flood</th>\n",
       "      <th>Fire</th>\n",
       "      <th>Heat</th>\n",
       "      <th>Drought</th>\n",
       "      <th>Hurricane</th>\n",
       "    </tr>\n",
       "    <tr>\n",
       "      <th>FIPS</th>\n",
       "      <th></th>\n",
       "      <th></th>\n",
       "      <th></th>\n",
       "      <th></th>\n",
       "      <th></th>\n",
       "      <th></th>\n",
       "      <th></th>\n",
       "      <th></th>\n",
       "      <th></th>\n",
       "      <th></th>\n",
       "      <th></th>\n",
       "      <th></th>\n",
       "      <th></th>\n",
       "    </tr>\n",
       "  </thead>\n",
       "  <tbody>\n",
       "    <tr>\n",
       "      <th>1001</th>\n",
       "      <td>POLYGON ((-86.82066986329349 32.34730960076057...</td>\n",
       "      <td>0.0</td>\n",
       "      <td>123.706052</td>\n",
       "      <td>26788100.0</td>\n",
       "      <td>7.0</td>\n",
       "      <td>96.0</td>\n",
       "      <td>17</td>\n",
       "      <td>225</td>\n",
       "      <td>28</td>\n",
       "      <td>0</td>\n",
       "      <td>5</td>\n",
       "      <td>36</td>\n",
       "      <td>8</td>\n",
       "    </tr>\n",
       "    <tr>\n",
       "      <th>1003</th>\n",
       "      <td>POLYGON ((-87.97308978075395 31.16482251520438...</td>\n",
       "      <td>0.0</td>\n",
       "      <td>107.920998</td>\n",
       "      <td>54686000.0</td>\n",
       "      <td>29.0</td>\n",
       "      <td>57.0</td>\n",
       "      <td>5</td>\n",
       "      <td>322</td>\n",
       "      <td>100</td>\n",
       "      <td>0</td>\n",
       "      <td>0</td>\n",
       "      <td>0</td>\n",
       "      <td>20</td>\n",
       "    </tr>\n",
       "    <tr>\n",
       "      <th>1005</th>\n",
       "      <td>POLYGON ((-85.74337279655801 31.62624052460075...</td>\n",
       "      <td>0.0</td>\n",
       "      <td>45.135944</td>\n",
       "      <td>2594000.0</td>\n",
       "      <td>0.0</td>\n",
       "      <td>17.0</td>\n",
       "      <td>7</td>\n",
       "      <td>120</td>\n",
       "      <td>7</td>\n",
       "      <td>0</td>\n",
       "      <td>8</td>\n",
       "      <td>49</td>\n",
       "      <td>8</td>\n",
       "    </tr>\n",
       "    <tr>\n",
       "      <th>1007</th>\n",
       "      <td>POLYGON ((-87.41985563876936 33.01177307648309...</td>\n",
       "      <td>0.0</td>\n",
       "      <td>31.298221</td>\n",
       "      <td>16973750.0</td>\n",
       "      <td>1.0</td>\n",
       "      <td>20.0</td>\n",
       "      <td>18</td>\n",
       "      <td>131</td>\n",
       "      <td>17</td>\n",
       "      <td>0</td>\n",
       "      <td>5</td>\n",
       "      <td>34</td>\n",
       "      <td>7</td>\n",
       "    </tr>\n",
       "    <tr>\n",
       "      <th>1009</th>\n",
       "      <td>POLYGON ((-86.96799449037186 33.86045466926403...</td>\n",
       "      <td>0.0</td>\n",
       "      <td>273.381497</td>\n",
       "      <td>33177500.0</td>\n",
       "      <td>1.0</td>\n",
       "      <td>59.0</td>\n",
       "      <td>33</td>\n",
       "      <td>312</td>\n",
       "      <td>37</td>\n",
       "      <td>0</td>\n",
       "      <td>4</td>\n",
       "      <td>29</td>\n",
       "      <td>4</td>\n",
       "    </tr>\n",
       "  </tbody>\n",
       "</table>\n",
       "</div>"
      ],
      "text/plain": [
       "                                               geometry  quake_energy  \\\n",
       "FIPS                                                                    \n",
       "1001  POLYGON ((-86.82066986329349 32.34730960076057...           0.0   \n",
       "1003  POLYGON ((-87.97308978075395 31.16482251520438...           0.0   \n",
       "1005  POLYGON ((-85.74337279655801 31.62624052460075...           0.0   \n",
       "1007  POLYGON ((-87.41985563876936 33.01177307648309...           0.0   \n",
       "1009  POLYGON ((-86.96799449037186 33.86045466926403...           0.0   \n",
       "\n",
       "      tornado_intensity      damage  deaths  injuries  Winter  Storm  Flood  \\\n",
       "FIPS                                                                          \n",
       "1001         123.706052  26788100.0     7.0      96.0      17    225     28   \n",
       "1003         107.920998  54686000.0    29.0      57.0       5    322    100   \n",
       "1005          45.135944   2594000.0     0.0      17.0       7    120      7   \n",
       "1007          31.298221  16973750.0     1.0      20.0      18    131     17   \n",
       "1009         273.381497  33177500.0     1.0      59.0      33    312     37   \n",
       "\n",
       "      Fire  Heat  Drought  Hurricane  \n",
       "FIPS                                  \n",
       "1001     0     5       36          8  \n",
       "1003     0     0        0         20  \n",
       "1005     0     8       49          8  \n",
       "1007     0     5       34          7  \n",
       "1009     0     4       29          4  "
      ]
     },
     "execution_count": 351,
     "metadata": {},
     "output_type": "execute_result"
    }
   ],
   "source": [
    "display(danger)"
   ]
  },
  {
   "cell_type": "code",
   "execution_count": null,
   "metadata": {},
   "outputs": [],
   "source": [
    "# Aggregate together all the events that don't have explicit intensity measures,\n",
    "# Using my own estimates of how important they should be.\n",
    "danger['arbitrary1'] = danger['Winter']\\\n",
    "                    + danger['Storm']\\ \n",
    "                    + danger['Flood']\\ \n",
    "                    + danger['Fire']\\ \n",
    "                    + danger['Heat']\\ \n",
    "                    + danger['Drought']\\ \n",
    "                    + danger['Hurricane'] * 10\n",
    "\n",
    "danger['storminess'] = np.log10(danger.total_storms + danger.quake_magnitude*100 + danger.tornado_intensity*100 +1)\n",
    "\n",
    "# Create unified measure of badness\n",
    "danger['badness'] = danger['log_cost'] + danger['storminess']\n",
    "\n",
    "## Create binned versions of log_cost, storminess, and badness\n",
    "\n",
    "danger['storminess_bins'] = pd.cut(danger['storminess'], bins=[0,2,2.5,3,3.5,4,20], \n",
    "                               include_lowest=True, retbins=False, labels=False)\n",
    "\n"
   ]
  },
  {
   "cell_type": "code",
   "execution_count": 239,
   "metadata": {},
   "outputs": [
    {
     "data": {
      "text/plain": [
       "<matplotlib.axes._subplots.AxesSubplot at 0x127e9fc88>"
      ]
     },
     "execution_count": 239,
     "metadata": {},
     "output_type": "execute_result"
    },
    {
     "data": {
      "image/png": "[encoded data removed]",
      "text/plain": [
       "<Figure size 432x288 with 1 Axes>"
      ]
     },
     "metadata": {
      "needs_background": "light"
     },
     "output_type": "display_data"
    }
   ],
   "source": [
    "danger.total_storms.hist(bins=50)"
   ]
  },
  {
   "cell_type": "markdown",
   "metadata": {},
   "source": [
    "## Binning storminess"
   ]
  },
  {
   "cell_type": "code",
   "execution_count": 183,
   "metadata": {
    "scrolled": true
   },
   "outputs": [
    {
     "data": {
      "image/png": "[encoded data removed]",
      "text/plain": [
       "<Figure size 720x360 with 1 Axes>"
      ]
     },
     "metadata": {
      "needs_background": "light"
     },
     "output_type": "display_data"
    }
   ],
   "source": [
    "fig, ax = plt.subplots(figsize=(10,5))\n",
    "danger['storminess'].hist(ax=ax, bins=50);\n",
    "ax.axvline(2, color='r')\n",
    "ax.axvline(2.5, color='r')\n",
    "ax.axvline(3, color='r')\n",
    "ax.axvline(3.5, color='r')\n",
    "ax.axvline(4, color='r')\n",
    "ax.set_xlabel('Storminess (logarithmic)')\n",
    "ax.set_ylabel('Number of counties')\n",
    "ax.set_title('Binned Storminess', fontsize=20)\n",
    "plt.show()"
   ]
  },
  {
   "cell_type": "code",
   "execution_count": 179,
   "metadata": {
    "scrolled": true
   },
   "outputs": [
    {
     "data": {
      "image/png": "[encoded data removed]",
      "text/plain": [
       "<Figure size 1440x432 with 2 Axes>"
      ]
     },
     "metadata": {
      "needs_background": "light"
     },
     "output_type": "display_data"
    }
   ],
   "source": [
    "danger.plot(column='storminess', figsize=(20,6), legend=True);"
   ]
  },
  {
   "cell_type": "code",
   "execution_count": 180,
   "metadata": {
    "scrolled": true
   },
   "outputs": [
    {
     "data": {
      "image/png": "[encoded data removed]",
      "text/plain": [
       "<Figure size 1440x432 with 2 Axes>"
      ]
     },
     "metadata": {
      "needs_background": "light"
     },
     "output_type": "display_data"
    }
   ],
   "source": [
    "danger.plot(column='storminess_bins', figsize=(20,6), legend=True);"
   ]
  },
  {
   "cell_type": "markdown",
   "metadata": {},
   "source": [
    "# Binning total events"
   ]
  },
  {
   "cell_type": "code",
   "execution_count": 109,
   "metadata": {},
   "outputs": [
    {
     "data": {
      "image/png": "[encoded data removed]",
      "text/plain": [
       "<Figure size 720x360 with 1 Axes>"
      ]
     },
     "metadata": {
      "needs_background": "light"
     },
     "output_type": "display_data"
    }
   ],
   "source": [
    "fig, ax = plt.subplots(figsize=(10,5))\n",
    "danger['log_cost'].hist(ax=ax, bins=50);\n",
    "# ax.axvline(4, color='r')\n",
    "# ax.axvline(4, color='r')\n",
    "# ax.axvline(5, color='r')\n",
    "# ax.axvline(6, color='r')\n",
    "# ax.axvline(7, color='r')\n",
    "# ax.axvline(8, color='r')\n",
    "# ax.set_xlabel('Log(Number of incidents)')\n",
    "# ax.set_ylabel('Number of counties')\n",
    "plt.show()"
   ]
  },
  {
   "cell_type": "code",
   "execution_count": 167,
   "metadata": {},
   "outputs": [
    {
     "data": {
      "image/png": "[encoded data removed]",
      "text/plain": [
       "<Figure size 720x360 with 1 Axes>"
      ]
     },
     "metadata": {
      "needs_background": "light"
     },
     "output_type": "display_data"
    }
   ],
   "source": [
    "fig, ax = plt.subplots(figsize=(10,5))\n",
    "danger['badness'].hist(ax=ax, bins=50);\n",
    "plt.show()"
   ]
  },
  {
   "cell_type": "code",
   "execution_count": 168,
   "metadata": {},
   "outputs": [
    {
     "name": "stdout",
     "output_type": "stream",
     "text": [
      "(3141, 12)\n"
     ]
    },
    {
     "data": {
      "text/html": [
       "<div>\n",
       "<style scoped>\n",
       "    .dataframe tbody tr th:only-of-type {\n",
       "        vertical-align: middle;\n",
       "    }\n",
       "\n",
       "    .dataframe tbody tr th {\n",
       "        vertical-align: top;\n",
       "    }\n",
       "\n",
       "    .dataframe thead th {\n",
       "        text-align: right;\n",
       "    }\n",
       "</style>\n",
       "<table border=\"1\" class=\"dataframe\">\n",
       "  <thead>\n",
       "    <tr style=\"text-align: right;\">\n",
       "      <th></th>\n",
       "      <th>FIPS</th>\n",
       "      <th>geometry</th>\n",
       "      <th>quake_magnitude</th>\n",
       "      <th>tornado_intensity</th>\n",
       "      <th>damage</th>\n",
       "      <th>deaths</th>\n",
       "      <th>injuries</th>\n",
       "      <th>total_storms</th>\n",
       "      <th>overall_cost</th>\n",
       "      <th>storminess</th>\n",
       "      <th>log_cost</th>\n",
       "      <th>badness</th>\n",
       "    </tr>\n",
       "  </thead>\n",
       "  <tbody>\n",
       "    <tr>\n",
       "      <th>0</th>\n",
       "      <td>27077</td>\n",
       "      <td>POLYGON ((-95.34283127277658 48.546679319076, ...</td>\n",
       "      <td>0.00</td>\n",
       "      <td>3.0</td>\n",
       "      <td>2730200.0</td>\n",
       "      <td>0.000000</td>\n",
       "      <td>4.000000</td>\n",
       "      <td>294</td>\n",
       "      <td>2.930200e+06</td>\n",
       "      <td>2.774517</td>\n",
       "      <td>6.466897</td>\n",
       "      <td>9.241414</td>\n",
       "    </tr>\n",
       "    <tr>\n",
       "      <th>1</th>\n",
       "      <td>53019</td>\n",
       "      <td>POLYGON ((-118.8516288013387 47.94956368481996...</td>\n",
       "      <td>0.00</td>\n",
       "      <td>0.0</td>\n",
       "      <td>24320500.0</td>\n",
       "      <td>0.000000</td>\n",
       "      <td>0.000000</td>\n",
       "      <td>251</td>\n",
       "      <td>2.432050e+07</td>\n",
       "      <td>2.401401</td>\n",
       "      <td>7.385973</td>\n",
       "      <td>9.787373</td>\n",
       "    </tr>\n",
       "    <tr>\n",
       "      <th>2</th>\n",
       "      <td>53065</td>\n",
       "      <td>POLYGON ((-117.438831576286 48.04411548512263,...</td>\n",
       "      <td>0.00</td>\n",
       "      <td>2.0</td>\n",
       "      <td>5495500.0</td>\n",
       "      <td>2.666667</td>\n",
       "      <td>10.666667</td>\n",
       "      <td>507</td>\n",
       "      <td>3.002883e+07</td>\n",
       "      <td>2.850033</td>\n",
       "      <td>7.477538</td>\n",
       "      <td>10.327572</td>\n",
       "    </tr>\n",
       "    <tr>\n",
       "      <th>3</th>\n",
       "      <td>53047</td>\n",
       "      <td>POLYGON ((-118.972093862835 47.93915200536639,...</td>\n",
       "      <td>13.35</td>\n",
       "      <td>0.0</td>\n",
       "      <td>392974160.0</td>\n",
       "      <td>15.800000</td>\n",
       "      <td>26.400000</td>\n",
       "      <td>987</td>\n",
       "      <td>5.364942e+08</td>\n",
       "      <td>3.366049</td>\n",
       "      <td>8.729565</td>\n",
       "      <td>12.095614</td>\n",
       "    </tr>\n",
       "    <tr>\n",
       "      <th>4</th>\n",
       "      <td>53051</td>\n",
       "      <td>POLYGON ((-117.4385804303028 48.99991850672649...</td>\n",
       "      <td>0.00</td>\n",
       "      <td>0.0</td>\n",
       "      <td>11105000.0</td>\n",
       "      <td>4.666667</td>\n",
       "      <td>13.666667</td>\n",
       "      <td>504</td>\n",
       "      <td>5.378833e+07</td>\n",
       "      <td>2.703291</td>\n",
       "      <td>7.730688</td>\n",
       "      <td>10.433979</td>\n",
       "    </tr>\n",
       "  </tbody>\n",
       "</table>\n",
       "</div>"
      ],
      "text/plain": [
       "    FIPS                                           geometry  quake_magnitude  \\\n",
       "0  27077  POLYGON ((-95.34283127277658 48.546679319076, ...             0.00   \n",
       "1  53019  POLYGON ((-118.8516288013387 47.94956368481996...             0.00   \n",
       "2  53065  POLYGON ((-117.438831576286 48.04411548512263,...             0.00   \n",
       "3  53047  POLYGON ((-118.972093862835 47.93915200536639,...            13.35   \n",
       "4  53051  POLYGON ((-117.4385804303028 48.99991850672649...             0.00   \n",
       "\n",
       "   tornado_intensity       damage     deaths   injuries  total_storms  \\\n",
       "0                3.0    2730200.0   0.000000   4.000000           294   \n",
       "1                0.0   24320500.0   0.000000   0.000000           251   \n",
       "2                2.0    5495500.0   2.666667  10.666667           507   \n",
       "3                0.0  392974160.0  15.800000  26.400000           987   \n",
       "4                0.0   11105000.0   4.666667  13.666667           504   \n",
       "\n",
       "   overall_cost  storminess  log_cost    badness  \n",
       "0  2.930200e+06    2.774517  6.466897   9.241414  \n",
       "1  2.432050e+07    2.401401  7.385973   9.787373  \n",
       "2  3.002883e+07    2.850033  7.477538  10.327572  \n",
       "3  5.364942e+08    3.366049  8.729565  12.095614  \n",
       "4  5.378833e+07    2.703291  7.730688  10.433979  "
      ]
     },
     "execution_count": 168,
     "metadata": {},
     "output_type": "execute_result"
    }
   ],
   "source": [
    "display(danger)"
   ]
  },
  {
   "cell_type": "markdown",
   "metadata": {},
   "source": [
    "# Old cells"
   ]
  },
  {
   "cell_type": "code",
   "execution_count": 169,
   "metadata": {},
   "outputs": [],
   "source": [
    "# Export as geoJSON file\n",
    "danger.to_file(\"../data_output/6__danger/danger2.geojson\", driver='GeoJSON')"
   ]
  },
  {
   "cell_type": "code",
   "execution_count": null,
   "metadata": {},
   "outputs": [],
   "source": [
    "# Export as CSV\n",
    "dis5 = dis4.drop(columns='geometry')\n",
    "dis5.to_csv(\"../data_output/6__danger/danger.csv\")"
   ]
  },
  {
   "cell_type": "markdown",
   "metadata": {},
   "source": [
    "# Generating disaster level labels"
   ]
  },
  {
   "cell_type": "code",
   "execution_count": null,
   "metadata": {},
   "outputs": [],
   "source": [
    "# Histogram to visualize the distribution of danger scores\n",
    "dis5.hist(bins=50);"
   ]
  },
  {
   "cell_type": "markdown",
   "metadata": {},
   "source": [
    "Danger levels have a long-tailed distribution, so it's probably better to assign an overall danger score based on the log of danger rather than danger itself."
   ]
  },
  {
   "cell_type": "code",
   "execution_count": null,
   "metadata": {},
   "outputs": [],
   "source": [
    "# Generate new dataframe\n",
    "dis6 = dis4.copy()\n",
    "\n",
    "# Generate new column with the log of danger.\n",
    "dis6['log_danger'] = np.log(dis6['danger'] + 1)"
   ]
  },
  {
   "cell_type": "code",
   "execution_count": null,
   "metadata": {},
   "outputs": [],
   "source": [
    "fig, ax = plt.subplots(figsize=(10,5))\n",
    "dis6['log_danger'].hist(ax=ax, bins=50);\n",
    "ax.axvline(4, color='r')\n",
    "ax.axvline(4, color='r')\n",
    "ax.axvline(5, color='r')\n",
    "ax.axvline(6, color='r')\n",
    "ax.axvline(7, color='r')\n",
    "ax.axvline(8, color='r')\n",
    "ax.set_xlabel('Log(Number of incidents)')\n",
    "ax.set_ylabel('Number of counties')\n",
    "plt.show()"
   ]
  },
  {
   "cell_type": "code",
   "execution_count": null,
   "metadata": {},
   "outputs": [],
   "source": [
    "# Create an array of numerical bins\n",
    "\n",
    "danger_bins_numerical = pd.cut(dis6['log_danger'], bins=[0,4,5,6,7,8,12], \n",
    "                               include_lowest=True, retbins=False, labels=False)\n",
    "\n",
    "# Create an array of labeled bins. Intervals are evenly spaced within the \n",
    "# log-normal bell curve.\n",
    "danger_bins_labels = pd.cut(dis6['log_danger'], bins=[0,4,5,6,7,8,12], \n",
    "                            include_lowest=True,retbins=True, \n",
    "                            labels=['Very Low Risk','Low Risk','Medium Risk',\n",
    "                                    'High Risk','Very High Risk','Extremely High Risk'])[0]\n",
    "\n",
    "# Incorporate them into the dataframe\n",
    "dis6['bins_num'] = danger_bins_numerical\n",
    "dis6['bins_labels'] = danger_bins_labels"
   ]
  },
  {
   "cell_type": "code",
   "execution_count": null,
   "metadata": {},
   "outputs": [],
   "source": [
    "# All the labels are represented.\n",
    "dis6.bins_labels.unique()"
   ]
  },
  {
   "cell_type": "code",
   "execution_count": null,
   "metadata": {},
   "outputs": [],
   "source": [
    "dis6.plot(column='bins_num', figsize=(15,6), legend=True);"
   ]
  },
  {
   "cell_type": "code",
   "execution_count": null,
   "metadata": {},
   "outputs": [],
   "source": [
    "dis6[dis6.bins_num == 0].head(30)"
   ]
  },
  {
   "cell_type": "code",
   "execution_count": null,
   "metadata": {},
   "outputs": [],
   "source": [
    "dis7 = dis6[['danger','bins_num','bins_labels']]\n",
    "\n",
    "# Export as CSV\n",
    "dis7.to_csv(\"../data_output/6__danger/danger_labels.csv\")"
   ]
  },
  {
   "cell_type": "code",
   "execution_count": null,
   "metadata": {},
   "outputs": [],
   "source": []
  }
 ],
 "metadata": {
  "kernelspec": {
   "display_name": "Python 3",
   "language": "python",
   "name": "python3"
  },
  "language_info": {
   "codemirror_mode": {
    "name": "ipython",
    "version": 3
   },
   "file_extension": ".py",
   "mimetype": "text/x-python",
   "name": "python",
   "nbconvert_exporter": "python",
   "pygments_lexer": "ipython3",
   "version": "3.7.3"
  }
 },
 "nbformat": 4,
 "nbformat_minor": 2
}
