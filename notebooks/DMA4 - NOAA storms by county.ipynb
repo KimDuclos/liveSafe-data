{
 "cells": [
  {
   "cell_type": "markdown",
   "metadata": {},
   "source": [
    "# NOAA extreme weather events\n",
    "The [National Oceanic and Atmospheric Administration](https://en.wikipedia.org/wiki/National_Oceanic_and_Atmospheric_Administration) has a database of extreme weather events that contains lots of detail for every year. [Link](https://www.climate.gov/maps-data/dataset/severe-storms-and-extreme-events-data-table).  I'll extract the data for 2018."
   ]
  },
  {
   "cell_type": "code",
   "execution_count": 10,
   "metadata": {},
   "outputs": [],
   "source": [
    "import pandas as pd\n",
    "import numpy as np\n",
    "import matplotlib.pyplot as plt\n",
    "pd.set_option('display.max_columns', None)  # Unlimited columns"
   ]
  },
  {
   "cell_type": "markdown",
   "metadata": {},
   "source": [
    "## Get official list of counties"
   ]
  },
  {
   "cell_type": "code",
   "execution_count": 176,
   "metadata": {},
   "outputs": [],
   "source": [
    "import geopandas\n",
    "# Import a shape file with all the counties in the US.\n",
    "counties = geopandas.read_file('../data_input/1_USCounties/')\n",
    "\n",
    "# Turn state codes from strings to integers\n",
    "for col in ['STATE_FIPS', 'CNTY_FIPS', 'FIPS']:\n",
    "    counties[col] = counties[col].astype(int)\n",
    "\n",
    "official_counties = counties.FIPS.to_list()"
   ]
  },
  {
   "cell_type": "code",
   "execution_count": 189,
   "metadata": {},
   "outputs": [
    {
     "data": {
      "text/html": [
       "<div>\n",
       "<style scoped>\n",
       "    .dataframe tbody tr th:only-of-type {\n",
       "        vertical-align: middle;\n",
       "    }\n",
       "\n",
       "    .dataframe tbody tr th {\n",
       "        vertical-align: top;\n",
       "    }\n",
       "\n",
       "    .dataframe thead th {\n",
       "        text-align: right;\n",
       "    }\n",
       "</style>\n",
       "<table border=\"1\" class=\"dataframe\">\n",
       "  <thead>\n",
       "    <tr style=\"text-align: right;\">\n",
       "      <th></th>\n",
       "      <th>NAME</th>\n",
       "      <th>STATE_NAME</th>\n",
       "      <th>STATE_FIPS</th>\n",
       "      <th>CNTY_FIPS</th>\n",
       "      <th>FIPS</th>\n",
       "      <th>geometry</th>\n",
       "    </tr>\n",
       "  </thead>\n",
       "  <tbody>\n",
       "    <tr>\n",
       "      <th>0</th>\n",
       "      <td>Lake of the Woods</td>\n",
       "      <td>Minnesota</td>\n",
       "      <td>27</td>\n",
       "      <td>77</td>\n",
       "      <td>27077</td>\n",
       "      <td>POLYGON ((-95.34283127277658 48.546679319076, ...</td>\n",
       "    </tr>\n",
       "    <tr>\n",
       "      <th>1</th>\n",
       "      <td>Ferry</td>\n",
       "      <td>Washington</td>\n",
       "      <td>53</td>\n",
       "      <td>19</td>\n",
       "      <td>53019</td>\n",
       "      <td>POLYGON ((-118.8516288013387 47.94956368481996...</td>\n",
       "    </tr>\n",
       "    <tr>\n",
       "      <th>2</th>\n",
       "      <td>Stevens</td>\n",
       "      <td>Washington</td>\n",
       "      <td>53</td>\n",
       "      <td>65</td>\n",
       "      <td>53065</td>\n",
       "      <td>POLYGON ((-117.438831576286 48.04411548512263,...</td>\n",
       "    </tr>\n",
       "    <tr>\n",
       "      <th>3</th>\n",
       "      <td>Okanogan</td>\n",
       "      <td>Washington</td>\n",
       "      <td>53</td>\n",
       "      <td>47</td>\n",
       "      <td>53047</td>\n",
       "      <td>POLYGON ((-118.972093862835 47.93915200536639,...</td>\n",
       "    </tr>\n",
       "    <tr>\n",
       "      <th>4</th>\n",
       "      <td>Pend Oreille</td>\n",
       "      <td>Washington</td>\n",
       "      <td>53</td>\n",
       "      <td>51</td>\n",
       "      <td>53051</td>\n",
       "      <td>POLYGON ((-117.4385804303028 48.99991850672649...</td>\n",
       "    </tr>\n",
       "  </tbody>\n",
       "</table>\n",
       "</div>"
      ],
      "text/plain": [
       "                NAME  STATE_NAME  STATE_FIPS  CNTY_FIPS   FIPS  \\\n",
       "0  Lake of the Woods   Minnesota          27         77  27077   \n",
       "1              Ferry  Washington          53         19  53019   \n",
       "2            Stevens  Washington          53         65  53065   \n",
       "3           Okanogan  Washington          53         47  53047   \n",
       "4       Pend Oreille  Washington          53         51  53051   \n",
       "\n",
       "                                            geometry  \n",
       "0  POLYGON ((-95.34283127277658 48.546679319076, ...  \n",
       "1  POLYGON ((-118.8516288013387 47.94956368481996...  \n",
       "2  POLYGON ((-117.438831576286 48.04411548512263,...  \n",
       "3  POLYGON ((-118.972093862835 47.93915200536639,...  \n",
       "4  POLYGON ((-117.4385804303028 48.99991850672649...  "
      ]
     },
     "execution_count": 189,
     "metadata": {},
     "output_type": "execute_result"
    }
   ],
   "source": [
    "counties.head()"
   ]
  },
  {
   "cell_type": "markdown",
   "metadata": {},
   "source": [
    "## Get NOAA data"
   ]
  },
  {
   "cell_type": "code",
   "execution_count": 11,
   "metadata": {},
   "outputs": [
    {
     "name": "stdout",
     "output_type": "stream",
     "text": [
      "(62169, 51)\n",
      "Index(['BEGIN_YEARMONTH', 'BEGIN_DAY', 'BEGIN_TIME', 'END_YEARMONTH',\n",
      "       'END_DAY', 'END_TIME', 'EPISODE_ID', 'EVENT_ID', 'STATE', 'STATE_FIPS',\n",
      "       'YEAR', 'MONTH_NAME', 'EVENT_TYPE', 'CZ_TYPE', 'CZ_FIPS', 'CZ_NAME',\n",
      "       'WFO', 'BEGIN_DATE_TIME', 'CZ_TIMEZONE', 'END_DATE_TIME',\n",
      "       'INJURIES_DIRECT', 'INJURIES_INDIRECT', 'DEATHS_DIRECT',\n",
      "       'DEATHS_INDIRECT', 'DAMAGE_PROPERTY', 'DAMAGE_CROPS', 'SOURCE',\n",
      "       'MAGNITUDE', 'MAGNITUDE_TYPE', 'FLOOD_CAUSE', 'CATEGORY', 'TOR_F_SCALE',\n",
      "       'TOR_LENGTH', 'TOR_WIDTH', 'TOR_OTHER_WFO', 'TOR_OTHER_CZ_STATE',\n",
      "       'TOR_OTHER_CZ_FIPS', 'TOR_OTHER_CZ_NAME', 'BEGIN_RANGE',\n",
      "       'BEGIN_AZIMUTH', 'BEGIN_LOCATION', 'END_RANGE', 'END_AZIMUTH',\n",
      "       'END_LOCATION', 'BEGIN_LAT', 'BEGIN_LON', 'END_LAT', 'END_LON',\n",
      "       'EPISODE_NARRATIVE', 'EVENT_NARRATIVE', 'DATA_SOURCE'],\n",
      "      dtype='object')\n"
     ]
    },
    {
     "data": {
      "text/html": [
       "<div>\n",
       "<style scoped>\n",
       "    .dataframe tbody tr th:only-of-type {\n",
       "        vertical-align: middle;\n",
       "    }\n",
       "\n",
       "    .dataframe tbody tr th {\n",
       "        vertical-align: top;\n",
       "    }\n",
       "\n",
       "    .dataframe thead th {\n",
       "        text-align: right;\n",
       "    }\n",
       "</style>\n",
       "<table border=\"1\" class=\"dataframe\">\n",
       "  <thead>\n",
       "    <tr style=\"text-align: right;\">\n",
       "      <th></th>\n",
       "      <th>BEGIN_YEARMONTH</th>\n",
       "      <th>BEGIN_DAY</th>\n",
       "      <th>BEGIN_TIME</th>\n",
       "      <th>END_YEARMONTH</th>\n",
       "      <th>END_DAY</th>\n",
       "      <th>END_TIME</th>\n",
       "      <th>EPISODE_ID</th>\n",
       "      <th>EVENT_ID</th>\n",
       "      <th>STATE</th>\n",
       "      <th>STATE_FIPS</th>\n",
       "      <th>YEAR</th>\n",
       "      <th>MONTH_NAME</th>\n",
       "      <th>EVENT_TYPE</th>\n",
       "      <th>CZ_TYPE</th>\n",
       "      <th>CZ_FIPS</th>\n",
       "      <th>CZ_NAME</th>\n",
       "      <th>WFO</th>\n",
       "      <th>BEGIN_DATE_TIME</th>\n",
       "      <th>CZ_TIMEZONE</th>\n",
       "      <th>END_DATE_TIME</th>\n",
       "      <th>INJURIES_DIRECT</th>\n",
       "      <th>INJURIES_INDIRECT</th>\n",
       "      <th>DEATHS_DIRECT</th>\n",
       "      <th>DEATHS_INDIRECT</th>\n",
       "      <th>DAMAGE_PROPERTY</th>\n",
       "      <th>DAMAGE_CROPS</th>\n",
       "      <th>SOURCE</th>\n",
       "      <th>MAGNITUDE</th>\n",
       "      <th>MAGNITUDE_TYPE</th>\n",
       "      <th>FLOOD_CAUSE</th>\n",
       "      <th>CATEGORY</th>\n",
       "      <th>TOR_F_SCALE</th>\n",
       "      <th>TOR_LENGTH</th>\n",
       "      <th>TOR_WIDTH</th>\n",
       "      <th>TOR_OTHER_WFO</th>\n",
       "      <th>TOR_OTHER_CZ_STATE</th>\n",
       "      <th>TOR_OTHER_CZ_FIPS</th>\n",
       "      <th>TOR_OTHER_CZ_NAME</th>\n",
       "      <th>BEGIN_RANGE</th>\n",
       "      <th>BEGIN_AZIMUTH</th>\n",
       "      <th>BEGIN_LOCATION</th>\n",
       "      <th>END_RANGE</th>\n",
       "      <th>END_AZIMUTH</th>\n",
       "      <th>END_LOCATION</th>\n",
       "      <th>BEGIN_LAT</th>\n",
       "      <th>BEGIN_LON</th>\n",
       "      <th>END_LAT</th>\n",
       "      <th>END_LON</th>\n",
       "      <th>EPISODE_NARRATIVE</th>\n",
       "      <th>EVENT_NARRATIVE</th>\n",
       "      <th>DATA_SOURCE</th>\n",
       "    </tr>\n",
       "  </thead>\n",
       "  <tbody>\n",
       "    <tr>\n",
       "      <th>0</th>\n",
       "      <td>201806</td>\n",
       "      <td>6</td>\n",
       "      <td>1810</td>\n",
       "      <td>201806</td>\n",
       "      <td>6</td>\n",
       "      <td>1810</td>\n",
       "      <td>125578</td>\n",
       "      <td>753161</td>\n",
       "      <td>NEBRASKA</td>\n",
       "      <td>31</td>\n",
       "      <td>2018</td>\n",
       "      <td>June</td>\n",
       "      <td>Hail</td>\n",
       "      <td>C</td>\n",
       "      <td>69</td>\n",
       "      <td>GARDEN</td>\n",
       "      <td>LBF</td>\n",
       "      <td>06-JUN-18 18:10:00</td>\n",
       "      <td>MST-7</td>\n",
       "      <td>06-JUN-18 18:10:00</td>\n",
       "      <td>0</td>\n",
       "      <td>0</td>\n",
       "      <td>0</td>\n",
       "      <td>0</td>\n",
       "      <td>0.00K</td>\n",
       "      <td>0.00K</td>\n",
       "      <td>Public</td>\n",
       "      <td>1.00</td>\n",
       "      <td>NaN</td>\n",
       "      <td>NaN</td>\n",
       "      <td>NaN</td>\n",
       "      <td>NaN</td>\n",
       "      <td>NaN</td>\n",
       "      <td>NaN</td>\n",
       "      <td>NaN</td>\n",
       "      <td>NaN</td>\n",
       "      <td>NaN</td>\n",
       "      <td>NaN</td>\n",
       "      <td>36.0</td>\n",
       "      <td>N</td>\n",
       "      <td>OSHKOSH</td>\n",
       "      <td>36.0</td>\n",
       "      <td>N</td>\n",
       "      <td>OSHKOSH</td>\n",
       "      <td>41.93</td>\n",
       "      <td>-102.21</td>\n",
       "      <td>41.93</td>\n",
       "      <td>-102.21</td>\n",
       "      <td>Severe storms developed in the Nebraska Panhan...</td>\n",
       "      <td>Hail predominately penny size with some quarte...</td>\n",
       "      <td>CSV</td>\n",
       "    </tr>\n",
       "    <tr>\n",
       "      <th>1</th>\n",
       "      <td>201806</td>\n",
       "      <td>6</td>\n",
       "      <td>1741</td>\n",
       "      <td>201806</td>\n",
       "      <td>6</td>\n",
       "      <td>1741</td>\n",
       "      <td>125578</td>\n",
       "      <td>753160</td>\n",
       "      <td>NEBRASKA</td>\n",
       "      <td>31</td>\n",
       "      <td>2018</td>\n",
       "      <td>June</td>\n",
       "      <td>Hail</td>\n",
       "      <td>C</td>\n",
       "      <td>161</td>\n",
       "      <td>SHERIDAN</td>\n",
       "      <td>LBF</td>\n",
       "      <td>06-JUN-18 17:41:00</td>\n",
       "      <td>MST-7</td>\n",
       "      <td>06-JUN-18 17:41:00</td>\n",
       "      <td>0</td>\n",
       "      <td>0</td>\n",
       "      <td>0</td>\n",
       "      <td>0</td>\n",
       "      <td>0.00K</td>\n",
       "      <td>0.00K</td>\n",
       "      <td>Trained Spotter</td>\n",
       "      <td>1.25</td>\n",
       "      <td>NaN</td>\n",
       "      <td>NaN</td>\n",
       "      <td>NaN</td>\n",
       "      <td>NaN</td>\n",
       "      <td>NaN</td>\n",
       "      <td>NaN</td>\n",
       "      <td>NaN</td>\n",
       "      <td>NaN</td>\n",
       "      <td>NaN</td>\n",
       "      <td>NaN</td>\n",
       "      <td>1.0</td>\n",
       "      <td>NW</td>\n",
       "      <td>BINGHAM</td>\n",
       "      <td>1.0</td>\n",
       "      <td>NW</td>\n",
       "      <td>BINGHAM</td>\n",
       "      <td>42.03</td>\n",
       "      <td>-102.10</td>\n",
       "      <td>42.03</td>\n",
       "      <td>-102.10</td>\n",
       "      <td>Severe storms developed in the Nebraska Panhan...</td>\n",
       "      <td>Hail mainly quarter size with some half dollar...</td>\n",
       "      <td>CSV</td>\n",
       "    </tr>\n",
       "  </tbody>\n",
       "</table>\n",
       "</div>"
      ],
      "text/plain": [
       "   BEGIN_YEARMONTH  BEGIN_DAY  BEGIN_TIME  END_YEARMONTH  END_DAY  END_TIME  \\\n",
       "0           201806          6        1810         201806        6      1810   \n",
       "1           201806          6        1741         201806        6      1741   \n",
       "\n",
       "   EPISODE_ID  EVENT_ID     STATE  STATE_FIPS  YEAR MONTH_NAME EVENT_TYPE  \\\n",
       "0      125578    753161  NEBRASKA          31  2018       June       Hail   \n",
       "1      125578    753160  NEBRASKA          31  2018       June       Hail   \n",
       "\n",
       "  CZ_TYPE  CZ_FIPS   CZ_NAME  WFO     BEGIN_DATE_TIME CZ_TIMEZONE  \\\n",
       "0       C       69    GARDEN  LBF  06-JUN-18 18:10:00       MST-7   \n",
       "1       C      161  SHERIDAN  LBF  06-JUN-18 17:41:00       MST-7   \n",
       "\n",
       "        END_DATE_TIME  INJURIES_DIRECT  INJURIES_INDIRECT  DEATHS_DIRECT  \\\n",
       "0  06-JUN-18 18:10:00                0                  0              0   \n",
       "1  06-JUN-18 17:41:00                0                  0              0   \n",
       "\n",
       "   DEATHS_INDIRECT DAMAGE_PROPERTY DAMAGE_CROPS           SOURCE  MAGNITUDE  \\\n",
       "0                0           0.00K        0.00K           Public       1.00   \n",
       "1                0           0.00K        0.00K  Trained Spotter       1.25   \n",
       "\n",
       "  MAGNITUDE_TYPE FLOOD_CAUSE  CATEGORY TOR_F_SCALE  TOR_LENGTH  TOR_WIDTH  \\\n",
       "0            NaN         NaN       NaN         NaN         NaN        NaN   \n",
       "1            NaN         NaN       NaN         NaN         NaN        NaN   \n",
       "\n",
       "  TOR_OTHER_WFO TOR_OTHER_CZ_STATE  TOR_OTHER_CZ_FIPS TOR_OTHER_CZ_NAME  \\\n",
       "0           NaN                NaN                NaN               NaN   \n",
       "1           NaN                NaN                NaN               NaN   \n",
       "\n",
       "   BEGIN_RANGE BEGIN_AZIMUTH BEGIN_LOCATION  END_RANGE END_AZIMUTH  \\\n",
       "0         36.0             N        OSHKOSH       36.0           N   \n",
       "1          1.0            NW        BINGHAM        1.0          NW   \n",
       "\n",
       "  END_LOCATION  BEGIN_LAT  BEGIN_LON  END_LAT  END_LON  \\\n",
       "0      OSHKOSH      41.93    -102.21    41.93  -102.21   \n",
       "1      BINGHAM      42.03    -102.10    42.03  -102.10   \n",
       "\n",
       "                                   EPISODE_NARRATIVE  \\\n",
       "0  Severe storms developed in the Nebraska Panhan...   \n",
       "1  Severe storms developed in the Nebraska Panhan...   \n",
       "\n",
       "                                     EVENT_NARRATIVE DATA_SOURCE  \n",
       "0  Hail predominately penny size with some quarte...         CSV  \n",
       "1  Hail mainly quarter size with some half dollar...         CSV  "
      ]
     },
     "execution_count": 11,
     "metadata": {},
     "output_type": "execute_result"
    }
   ],
   "source": [
    "# The full table contains more than I want to use.\n",
    "df1 = pd.read_csv('../data_input/4_NOAA Storms/StormEvents_details-ftp_v1.0_d2018_c20190422.csv')\n",
    "print(df1.shape)\n",
    "print(df1.columns)\n",
    "df1.head(2)"
   ]
  },
  {
   "cell_type": "code",
   "execution_count": 194,
   "metadata": {},
   "outputs": [],
   "source": [
    "# Extract only a few useful columns\n",
    "df2 = df1[['STATE','STATE_FIPS','CZ_FIPS','EVENT_TYPE']].copy()\n",
    "\n",
    "# Create new column for complete county FIPS code\n",
    "state_FIPS = [str(x) for x in df2['STATE_FIPS']]\n",
    "county_FIPS = [str(x) for x in df2['CZ_FIPS']]\n",
    "\n",
    "# Make sure the string for county FIPS is 3 digits long.\n",
    "county_FIPS_2 = []\n",
    "for fip in county_FIPS:\n",
    "    if len(fip) == 3:\n",
    "        fip2 = fip\n",
    "    elif len(fip) == 2:\n",
    "        fip2 = '0' + fip\n",
    "    elif len(fip) == 1:\n",
    "        fip2 = '00' + fip\n",
    "    county_FIPS_2.append(fip2)\n",
    "    \n",
    "# Create a full FIPS for each county\n",
    "complete_FIPS = [int(x+y) for x, y in zip(state_FIPS, county_FIPS_2)]\n",
    "df2['FIPS'] = complete_FIPS\n",
    "\n",
    "\n",
    "# Drop entries for areas not in the list of counties that we're working\n",
    "# with.  This includes counties in non-state territories (eg, Puerto Rico),\n",
    "# areas over lakes and oceans, and several forecast zones that don't \n",
    "# correspond to particular counties.\n",
    "df3 = df2[~df2.FIPS.isin(official_counties)].copy()\n",
    "\n",
    "# df2 = df2.drop(columns=['STATE_FIPS','CZ_FIPS'])"
   ]
  },
  {
   "cell_type": "code",
   "execution_count": 188,
   "metadata": {},
   "outputs": [
    {
     "data": {
      "text/plain": [
       "2099"
      ]
     },
     "execution_count": 188,
     "metadata": {},
     "output_type": "execute_result"
    }
   ],
   "source": [
    "len(set(df2.FIPS.values))"
   ]
  },
  {
   "cell_type": "code",
   "execution_count": 190,
   "metadata": {},
   "outputs": [
    {
     "data": {
      "text/html": [
       "<div>\n",
       "<style scoped>\n",
       "    .dataframe tbody tr th:only-of-type {\n",
       "        vertical-align: middle;\n",
       "    }\n",
       "\n",
       "    .dataframe tbody tr th {\n",
       "        vertical-align: top;\n",
       "    }\n",
       "\n",
       "    .dataframe thead th {\n",
       "        text-align: right;\n",
       "    }\n",
       "</style>\n",
       "<table border=\"1\" class=\"dataframe\">\n",
       "  <thead>\n",
       "    <tr style=\"text-align: right;\">\n",
       "      <th></th>\n",
       "      <th>STATE</th>\n",
       "      <th>STATE_FIPS</th>\n",
       "      <th>CZ_FIPS</th>\n",
       "      <th>EVENT_TYPE</th>\n",
       "      <th>FIPS</th>\n",
       "    </tr>\n",
       "  </thead>\n",
       "  <tbody>\n",
       "    <tr>\n",
       "      <th>41</th>\n",
       "      <td>TEXAS</td>\n",
       "      <td>48</td>\n",
       "      <td>158</td>\n",
       "      <td>Drought</td>\n",
       "      <td>48158</td>\n",
       "    </tr>\n",
       "    <tr>\n",
       "      <th>42</th>\n",
       "      <td>OKLAHOMA</td>\n",
       "      <td>40</td>\n",
       "      <td>14</td>\n",
       "      <td>Wildfire</td>\n",
       "      <td>40014</td>\n",
       "    </tr>\n",
       "    <tr>\n",
       "      <th>44</th>\n",
       "      <td>WEST VIRGINIA</td>\n",
       "      <td>54</td>\n",
       "      <td>30</td>\n",
       "      <td>Winter Weather</td>\n",
       "      <td>54030</td>\n",
       "    </tr>\n",
       "    <tr>\n",
       "      <th>45</th>\n",
       "      <td>WEST VIRGINIA</td>\n",
       "      <td>54</td>\n",
       "      <td>20</td>\n",
       "      <td>Winter Weather</td>\n",
       "      <td>54020</td>\n",
       "    </tr>\n",
       "    <tr>\n",
       "      <th>46</th>\n",
       "      <td>WEST VIRGINIA</td>\n",
       "      <td>54</td>\n",
       "      <td>32</td>\n",
       "      <td>Winter Weather</td>\n",
       "      <td>54032</td>\n",
       "    </tr>\n",
       "  </tbody>\n",
       "</table>\n",
       "</div>"
      ],
      "text/plain": [
       "            STATE  STATE_FIPS  CZ_FIPS      EVENT_TYPE   FIPS\n",
       "41          TEXAS          48      158         Drought  48158\n",
       "42       OKLAHOMA          40       14        Wildfire  40014\n",
       "44  WEST VIRGINIA          54       30  Winter Weather  54030\n",
       "45  WEST VIRGINIA          54       20  Winter Weather  54020\n",
       "46  WEST VIRGINIA          54       32  Winter Weather  54032"
      ]
     },
     "execution_count": 190,
     "metadata": {},
     "output_type": "execute_result"
    }
   ],
   "source": [
    "df2.head()"
   ]
  },
  {
   "cell_type": "code",
   "execution_count": 61,
   "metadata": {},
   "outputs": [
    {
     "data": {
      "text/plain": [
       "62169"
      ]
     },
     "execution_count": 61,
     "metadata": {},
     "output_type": "execute_result"
    }
   ],
   "source": [
    "# These are all event types from the metadata, edited to remove marine events\n",
    "event_types = ['Astronomical Low Tide','Avalanche','Blizzard','Coastal Flood',\n",
    "               'Cold/Wind Chill','Debris Flow','Dense Fog','Dense Smoke',\n",
    "               'Drought','Dust Devil','Dust Storm','Excessive Heat',\n",
    "               'Extreme Cold/Wind Chill','Flash Flood','Flood','Frost/Freeze',\n",
    "               'Funnel Cloud','Freezing Fog','Hail','Heat','Heavy Rain',\n",
    "               'Heavy Snow','High Surf','High Wind','Hurricane (Typhoon)',\n",
    "               'Ice Storm','Lake-Effect Snow','Lakeshore Flood','Lightning',\n",
    "               'Rip Current','Seiche','Sleet','Storm Surge/Tide','Strong Wind',\n",
    "               'Thunderstorm Wind','Tornado','Tropical Depression',\n",
    "               'Tropical Storm','Tsunami','Volcanic Ash','Wildfire',\n",
    "               'Winter Storm','Winter Weather',]"
   ]
  },
  {
   "cell_type": "code",
   "execution_count": 37,
   "metadata": {},
   "outputs": [
    {
     "data": {
      "text/plain": [
       "count    62169.000000\n",
       "mean       105.247149\n",
       "std        136.718774\n",
       "min          1.000000\n",
       "25%         25.000000\n",
       "50%         63.000000\n",
       "75%        117.000000\n",
       "max        876.000000\n",
       "Name: CZ_FIPS, dtype: float64"
      ]
     },
     "execution_count": 37,
     "metadata": {},
     "output_type": "execute_result"
    }
   ],
   "source": [
    "df2.CZ_FIPS.describe()"
   ]
  },
  {
   "cell_type": "code",
   "execution_count": 28,
   "metadata": {},
   "outputs": [
    {
     "data": {
      "text/plain": [
       "(62169, 5)"
      ]
     },
     "execution_count": 28,
     "metadata": {},
     "output_type": "execute_result"
    }
   ],
   "source": [
    "df3 = df2[df2.BEGIN_YEARMONTH < 201900]\n",
    "df3.shape"
   ]
  },
  {
   "cell_type": "code",
   "execution_count": 30,
   "metadata": {},
   "outputs": [
    {
     "data": {
      "text/plain": [
       "count     62169.000000\n",
       "mean     201806.037092\n",
       "std           3.030091\n",
       "min      201801.000000\n",
       "25%      201804.000000\n",
       "50%      201806.000000\n",
       "75%      201808.000000\n",
       "max      201812.000000\n",
       "Name: BEGIN_YEARMONTH, dtype: float64"
      ]
     },
     "execution_count": 30,
     "metadata": {},
     "output_type": "execute_result"
    }
   ],
   "source": [
    "df2.BEGIN_YEARMONTH.describe()"
   ]
  },
  {
   "cell_type": "code",
   "execution_count": 31,
   "metadata": {},
   "outputs": [],
   "source": [
    "# df1.EVENT_TYPE.value_counts()"
   ]
  },
  {
   "cell_type": "code",
   "execution_count": 32,
   "metadata": {},
   "outputs": [],
   "source": [
    "# df1.isnull().sum()"
   ]
  },
  {
   "cell_type": "code",
   "execution_count": null,
   "metadata": {},
   "outputs": [],
   "source": []
  }
 ],
 "metadata": {
  "kernelspec": {
   "display_name": "Python 3",
   "language": "python",
   "name": "python3"
  },
  "language_info": {
   "codemirror_mode": {
    "name": "ipython",
    "version": 3
   },
   "file_extension": ".py",
   "mimetype": "text/x-python",
   "name": "python",
   "nbconvert_exporter": "python",
   "pygments_lexer": "ipython3",
   "version": "3.7.3"
  }
 },
 "nbformat": 4,
 "nbformat_minor": 2
}
