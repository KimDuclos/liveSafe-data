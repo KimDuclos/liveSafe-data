{
 "cells": [
  {
   "cell_type": "code",
   "execution_count": 5,
   "metadata": {},
   "outputs": [],
   "source": [
    "import pandas as pd\n",
    "quakes = pd.read_csv('../data_input/5_USGS_quakes/nz.csv')"
   ]
  },
  {
   "cell_type": "code",
   "execution_count": 7,
   "metadata": {},
   "outputs": [
    {
     "name": "stdout",
     "output_type": "stream",
     "text": [
      "(258, 8)\n"
     ]
    },
    {
     "data": {
      "text/html": [
       "<div>\n",
       "<style scoped>\n",
       "    .dataframe tbody tr th:only-of-type {\n",
       "        vertical-align: middle;\n",
       "    }\n",
       "\n",
       "    .dataframe tbody tr th {\n",
       "        vertical-align: top;\n",
       "    }\n",
       "\n",
       "    .dataframe thead th {\n",
       "        text-align: right;\n",
       "    }\n",
       "</style>\n",
       "<table border=\"1\" class=\"dataframe\">\n",
       "  <thead>\n",
       "    <tr style=\"text-align: right;\">\n",
       "      <th></th>\n",
       "      <th>id</th>\n",
       "      <th>time</th>\n",
       "      <th>location</th>\n",
       "      <th>latitude</th>\n",
       "      <th>longitude</th>\n",
       "      <th>depth</th>\n",
       "      <th>magnitude</th>\n",
       "      <th>url</th>\n",
       "    </tr>\n",
       "  </thead>\n",
       "  <tbody>\n",
       "    <tr>\n",
       "      <th>0</th>\n",
       "      <td>usp000jxzs</td>\n",
       "      <td>2013-01-06 16:54:47.890</td>\n",
       "      <td>east of the North Island of New Zealand</td>\n",
       "      <td>-35.035</td>\n",
       "      <td>-179.575</td>\n",
       "      <td>65.8</td>\n",
       "      <td>4.2</td>\n",
       "      <td>https://earthquake.usgs.gov/earthquakes/eventp...</td>\n",
       "    </tr>\n",
       "    <tr>\n",
       "      <th>1</th>\n",
       "      <td>usp000jy10</td>\n",
       "      <td>2013-01-07 13:37:39.200</td>\n",
       "      <td>south of the Kermadec Islands</td>\n",
       "      <td>-34.807</td>\n",
       "      <td>179.905</td>\n",
       "      <td>35.0</td>\n",
       "      <td>4.3</td>\n",
       "      <td>https://earthquake.usgs.gov/earthquakes/eventp...</td>\n",
       "    </tr>\n",
       "    <tr>\n",
       "      <th>2</th>\n",
       "      <td>usp000jy17</td>\n",
       "      <td>2013-01-07 16:22:23.370</td>\n",
       "      <td>off the east coast of the North Island of New ...</td>\n",
       "      <td>-36.767</td>\n",
       "      <td>177.617</td>\n",
       "      <td>182.1</td>\n",
       "      <td>4.5</td>\n",
       "      <td>https://earthquake.usgs.gov/earthquakes/eventp...</td>\n",
       "    </tr>\n",
       "    <tr>\n",
       "      <th>3</th>\n",
       "      <td>usp000jy26</td>\n",
       "      <td>2013-01-08 11:43:29.240</td>\n",
       "      <td>east of the North Island of New Zealand</td>\n",
       "      <td>-35.141</td>\n",
       "      <td>-179.481</td>\n",
       "      <td>35.0</td>\n",
       "      <td>4.8</td>\n",
       "      <td>https://earthquake.usgs.gov/earthquakes/eventp...</td>\n",
       "    </tr>\n",
       "    <tr>\n",
       "      <th>4</th>\n",
       "      <td>usp000jy2w</td>\n",
       "      <td>2013-01-08 21:26:55.640</td>\n",
       "      <td>south of the Kermadec Islands</td>\n",
       "      <td>-34.601</td>\n",
       "      <td>179.180</td>\n",
       "      <td>10.0</td>\n",
       "      <td>5.7</td>\n",
       "      <td>https://earthquake.usgs.gov/earthquakes/eventp...</td>\n",
       "    </tr>\n",
       "  </tbody>\n",
       "</table>\n",
       "</div>"
      ],
      "text/plain": [
       "           id                     time  \\\n",
       "0  usp000jxzs  2013-01-06 16:54:47.890   \n",
       "1  usp000jy10  2013-01-07 13:37:39.200   \n",
       "2  usp000jy17  2013-01-07 16:22:23.370   \n",
       "3  usp000jy26  2013-01-08 11:43:29.240   \n",
       "4  usp000jy2w  2013-01-08 21:26:55.640   \n",
       "\n",
       "                                            location  latitude  longitude  \\\n",
       "0            east of the North Island of New Zealand   -35.035   -179.575   \n",
       "1                      south of the Kermadec Islands   -34.807    179.905   \n",
       "2  off the east coast of the North Island of New ...   -36.767    177.617   \n",
       "3            east of the North Island of New Zealand   -35.141   -179.481   \n",
       "4                      south of the Kermadec Islands   -34.601    179.180   \n",
       "\n",
       "   depth  magnitude                                                url  \n",
       "0   65.8        4.2  https://earthquake.usgs.gov/earthquakes/eventp...  \n",
       "1   35.0        4.3  https://earthquake.usgs.gov/earthquakes/eventp...  \n",
       "2  182.1        4.5  https://earthquake.usgs.gov/earthquakes/eventp...  \n",
       "3   35.0        4.8  https://earthquake.usgs.gov/earthquakes/eventp...  \n",
       "4   10.0        5.7  https://earthquake.usgs.gov/earthquakes/eventp...  "
      ]
     },
     "execution_count": 7,
     "metadata": {},
     "output_type": "execute_result"
    }
   ],
   "source": [
    "print(quakes.shape)\n",
    "quakes.head()"
   ]
  },
  {
   "cell_type": "code",
   "execution_count": 13,
   "metadata": {},
   "outputs": [
    {
     "name": "stdout",
     "output_type": "stream",
     "text": [
      "getcsv lower48.csv -b -125.0011 -66.9326 24.9493 49.5904 -s 2008-01-01 -e 2019-01-01 -f csv -x -m 4 9.9\n"
     ]
    }
   ],
   "source": [
    "## Query generator\n",
    "\n",
    "# Lower 48 USA\n",
    "lon = (-125.0011,-66.9326)\n",
    "lat = (24.9493, 49.5904)\n",
    "start = '2008-01-01'\n",
    "end = '2019-01-01'\n",
    "name = 'lower48.csv'\n",
    "\n",
    "minmag = 4\n",
    "maxmag = 9.9\n",
    "\n",
    "print(f'getcsv {name} -b {lon[0]} {lon[1]} {lat[0]} {lat[1]} -s {start} -e {end} -f csv -x -m {minmag} {maxmag}')"
   ]
  },
  {
   "cell_type": "code",
   "execution_count": null,
   "metadata": {},
   "outputs": [],
   "source": []
  }
 ],
 "metadata": {
  "kernelspec": {
   "display_name": "Python 3",
   "language": "python",
   "name": "python3"
  },
  "language_info": {
   "codemirror_mode": {
    "name": "ipython",
    "version": 3
   },
   "file_extension": ".py",
   "mimetype": "text/x-python",
   "name": "python",
   "nbconvert_exporter": "python",
   "pygments_lexer": "ipython3",
   "version": "3.7.3"
  }
 },
 "nbformat": 4,
 "nbformat_minor": 2
}
