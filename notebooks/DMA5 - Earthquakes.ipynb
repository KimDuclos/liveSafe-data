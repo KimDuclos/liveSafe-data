{
 "cells": [
  {
   "cell_type": "markdown",
   "metadata": {},
   "source": [
    "# USGS Historical Earthquake Events\n",
    "I'm querying the US Geological Service Common Catalog (ComCat) through their API [here](https://github.com/usgs/libcomcat).  It works with bounding boxes, not particular countries, so ran three different downloads for bounding boxes around the Lower 48 states, Alaska, and Hawaii.  I'll combine them into a single dataframe, and then filter them by county."
   ]
  },
  {
   "cell_type": "code",
   "execution_count": 17,
   "metadata": {},
   "outputs": [],
   "source": [
    "import pandas as pd"
   ]
  },
  {
   "cell_type": "markdown",
   "metadata": {},
   "source": [
    "# API Queries"
   ]
  },
  {
   "cell_type": "code",
   "execution_count": 14,
   "metadata": {},
   "outputs": [
    {
     "name": "stdout",
     "output_type": "stream",
     "text": [
      "getcsv lower48.csv -b -125.0011 -66.9326 24.9493 49.5904 -s 1996-01-01 -e 2019-01-01 -f csv -x -m 4 9.9\n"
     ]
    }
   ],
   "source": [
    "## Query generator\n",
    "\n",
    "# Lower 48 USA\n",
    "lon = (-125.0011,-66.9326)\n",
    "lat = (24.9493, 49.5904)\n",
    "start = '1996-01-01'\n",
    "end = '2019-01-01'\n",
    "name = 'lower48.csv'\n",
    "\n",
    "minmag = 4\n",
    "maxmag = 9.9\n",
    "\n",
    "# Remove '-x' to download results, leave it there to get record count.\n",
    "\n",
    "print(f'getcsv {name} -b {lon[0]} {lon[1]} {lat[0]} {lat[1]} -s {start} -e {end} -f csv -x -m {minmag} {maxmag}')"
   ]
  },
  {
   "cell_type": "code",
   "execution_count": 15,
   "metadata": {},
   "outputs": [
    {
     "name": "stdout",
     "output_type": "stream",
     "text": [
      "getcsv alaska.csv -b -179.1505 -129.9795 51.2097 71.441 -s 1996-01-01 -e 2019-01-01 -f csv -x -m 4 9.9\n"
     ]
    }
   ],
   "source": [
    "## Query generator\n",
    "\n",
    "# Alaska\n",
    "lon = (-179.1505,-129.9795)\n",
    "lat = (51.2097, 71.4410)\n",
    "start = '1996-01-01'\n",
    "end = '2019-01-01'\n",
    "name = 'alaska.csv'\n",
    "\n",
    "minmag = 4\n",
    "maxmag = 9.9\n",
    "\n",
    "# Remove '-x' to download results, leave it there to get record count.\n",
    "\n",
    "print(f'getcsv {name} -b {lon[0]} {lon[1]} {lat[0]} {lat[1]} -s {start} -e {end} -f csv -x -m {minmag} {maxmag}')"
   ]
  },
  {
   "cell_type": "code",
   "execution_count": 16,
   "metadata": {},
   "outputs": [
    {
     "name": "stdout",
     "output_type": "stream",
     "text": [
      "getcsv hawaii.csv -b -160.2471 -154.8066 18.9117 22.2356 -s 1996-01-01 -e 2019-01-01 -f csv -x -m 4 9.9\n"
     ]
    }
   ],
   "source": [
    "## Query generator\n",
    "\n",
    "# Hawaii\n",
    "lon = (-160.2471,-154.8066)\n",
    "lat = (18.9117, 22.2356)\n",
    "start = '1996-01-01'\n",
    "end = '2019-01-01'\n",
    "name = 'hawaii.csv'\n",
    "\n",
    "minmag = 4\n",
    "maxmag = 9.9\n",
    "\n",
    "# Remove '-x' to download results, leave it there to get record count.\n",
    "\n",
    "print(f'getcsv {name} -b {lon[0]} {lon[1]} {lat[0]} {lat[1]} -s {start} -e {end} -f csv -x -m {minmag} {maxmag}')"
   ]
  },
  {
   "cell_type": "markdown",
   "metadata": {},
   "source": [
    "# Combinining datasets"
   ]
  },
  {
   "cell_type": "code",
   "execution_count": 18,
   "metadata": {},
   "outputs": [
    {
     "name": "stdout",
     "output_type": "stream",
     "text": [
      "(1980, 8) (6834, 8) (158, 8)\n"
     ]
    },
    {
     "data": {
      "text/html": [
       "<div>\n",
       "<style scoped>\n",
       "    .dataframe tbody tr th:only-of-type {\n",
       "        vertical-align: middle;\n",
       "    }\n",
       "\n",
       "    .dataframe tbody tr th {\n",
       "        vertical-align: top;\n",
       "    }\n",
       "\n",
       "    .dataframe thead th {\n",
       "        text-align: right;\n",
       "    }\n",
       "</style>\n",
       "<table border=\"1\" class=\"dataframe\">\n",
       "  <thead>\n",
       "    <tr style=\"text-align: right;\">\n",
       "      <th></th>\n",
       "      <th>id</th>\n",
       "      <th>time</th>\n",
       "      <th>location</th>\n",
       "      <th>latitude</th>\n",
       "      <th>longitude</th>\n",
       "      <th>depth</th>\n",
       "      <th>magnitude</th>\n",
       "      <th>url</th>\n",
       "    </tr>\n",
       "  </thead>\n",
       "  <tbody>\n",
       "    <tr>\n",
       "      <th>0</th>\n",
       "      <td>ci3248846</td>\n",
       "      <td>1996-01-07 14:32:53.020</td>\n",
       "      <td>16km N of Ridgecrest, California</td>\n",
       "      <td>35.761</td>\n",
       "      <td>-117.646</td>\n",
       "      <td>3.236</td>\n",
       "      <td>5.17</td>\n",
       "      <td>https://earthquake.usgs.gov/earthquakes/eventp...</td>\n",
       "    </tr>\n",
       "    <tr>\n",
       "      <th>1</th>\n",
       "      <td>ci3249165</td>\n",
       "      <td>1996-01-08 08:57:11.000</td>\n",
       "      <td>16km NNE of Ridgecrest, California</td>\n",
       "      <td>35.755</td>\n",
       "      <td>-117.620</td>\n",
       "      <td>1.170</td>\n",
       "      <td>4.16</td>\n",
       "      <td>https://earthquake.usgs.gov/earthquakes/eventp...</td>\n",
       "    </tr>\n",
       "    <tr>\n",
       "      <th>2</th>\n",
       "      <td>ci3249191</td>\n",
       "      <td>1996-01-08 10:52:28.880</td>\n",
       "      <td>18km NNE of Ridgecrest, California</td>\n",
       "      <td>35.779</td>\n",
       "      <td>-117.636</td>\n",
       "      <td>1.986</td>\n",
       "      <td>4.36</td>\n",
       "      <td>https://earthquake.usgs.gov/earthquakes/eventp...</td>\n",
       "    </tr>\n",
       "    <tr>\n",
       "      <th>3</th>\n",
       "      <td>ci3249318</td>\n",
       "      <td>1996-01-08 10:53:39.340</td>\n",
       "      <td>20km NNE of Ridgecrest, California</td>\n",
       "      <td>35.799</td>\n",
       "      <td>-117.632</td>\n",
       "      <td>1.549</td>\n",
       "      <td>4.24</td>\n",
       "      <td>https://earthquake.usgs.gov/earthquakes/eventp...</td>\n",
       "    </tr>\n",
       "    <tr>\n",
       "      <th>4</th>\n",
       "      <td>ci3249913</td>\n",
       "      <td>1996-01-11 08:46:34.560</td>\n",
       "      <td>13km NE of Barstow, California</td>\n",
       "      <td>34.994</td>\n",
       "      <td>-116.943</td>\n",
       "      <td>6.051</td>\n",
       "      <td>4.19</td>\n",
       "      <td>https://earthquake.usgs.gov/earthquakes/eventp...</td>\n",
       "    </tr>\n",
       "  </tbody>\n",
       "</table>\n",
       "</div>"
      ],
      "text/plain": [
       "          id                     time                            location  \\\n",
       "0  ci3248846  1996-01-07 14:32:53.020    16km N of Ridgecrest, California   \n",
       "1  ci3249165  1996-01-08 08:57:11.000  16km NNE of Ridgecrest, California   \n",
       "2  ci3249191  1996-01-08 10:52:28.880  18km NNE of Ridgecrest, California   \n",
       "3  ci3249318  1996-01-08 10:53:39.340  20km NNE of Ridgecrest, California   \n",
       "4  ci3249913  1996-01-11 08:46:34.560      13km NE of Barstow, California   \n",
       "\n",
       "   latitude  longitude  depth  magnitude  \\\n",
       "0    35.761   -117.646  3.236       5.17   \n",
       "1    35.755   -117.620  1.170       4.16   \n",
       "2    35.779   -117.636  1.986       4.36   \n",
       "3    35.799   -117.632  1.549       4.24   \n",
       "4    34.994   -116.943  6.051       4.19   \n",
       "\n",
       "                                                 url  \n",
       "0  https://earthquake.usgs.gov/earthquakes/eventp...  \n",
       "1  https://earthquake.usgs.gov/earthquakes/eventp...  \n",
       "2  https://earthquake.usgs.gov/earthquakes/eventp...  \n",
       "3  https://earthquake.usgs.gov/earthquakes/eventp...  \n",
       "4  https://earthquake.usgs.gov/earthquakes/eventp...  "
      ]
     },
     "execution_count": 18,
     "metadata": {},
     "output_type": "execute_result"
    }
   ],
   "source": [
    "lower48 = pd.read_csv('../data_input/5_USGS_quakes/lower48.csv')\n",
    "alaska = pd.read_csv('../data_input/5_USGS_quakes/alaska.csv')\n",
    "hawaii = pd.read_csv('../data_input/5_USGS_quakes/hawaii.csv')\n",
    "print(lower48.shape, alaska.shape, hawaii.shape)\n",
    "lower48.head()"
   ]
  },
  {
   "cell_type": "code",
   "execution_count": null,
   "metadata": {},
   "outputs": [],
   "source": []
  }
 ],
 "metadata": {
  "kernelspec": {
   "display_name": "Python 3",
   "language": "python",
   "name": "python3"
  },
  "language_info": {
   "codemirror_mode": {
    "name": "ipython",
    "version": 3
   },
   "file_extension": ".py",
   "mimetype": "text/x-python",
   "name": "python",
   "nbconvert_exporter": "python",
   "pygments_lexer": "ipython3",
   "version": "3.7.3"
  }
 },
 "nbformat": 4,
 "nbformat_minor": 2
}
